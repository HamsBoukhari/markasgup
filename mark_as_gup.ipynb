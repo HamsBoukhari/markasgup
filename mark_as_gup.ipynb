{
  "nbformat": 4,
  "nbformat_minor": 0,
  "metadata": {
    "colab": {
      "provenance": [],
      "gpuType": "T4"
    },
    "kernelspec": {
      "name": "python3",
      "display_name": "Python 3"
    },
    "language_info": {
      "name": "python"
    },
    "accelerator": "GPU"
  },
  "cells": [
    {
      "cell_type": "code",
      "execution_count": null,
      "metadata": {
        "id": "_e7hcsQ8f01C"
      },
      "outputs": [],
      "source": [
        "import numpy as np\n",
        "import pandas as pd\n",
        "import random"
      ]
    },
    {
      "cell_type": "markdown",
      "source": [
        "**Generating samples for the Mark As Give Up Workflow**"
      ],
      "metadata": {
        "id": "KPedTtII62bT"
      }
    },
    {
      "cell_type": "code",
      "source": [
        "def generate_example():\n",
        "    rptid = random.randint(1000,400000)\n",
        "    trdid = random.randint(20281004800, 40281004800)\n",
        "    trdtyp = random.choice([0, 1, 2, 3, 11, 15, 20, 29, 31, 45])\n",
        "    mtchid = random.randint(20281001777, 40281001777)\n",
        "    pxtyp = random.choice([2, 10])\n",
        "    lastqty = random.randint(10,100)\n",
        "    lastpx = random.choice([100, 370, 876, 250.45, 300.9, 540.698, 1050, 3590.59])\n",
        "    trdt = random.choice([\"2022-12-17\",\"2022-12-21\",\"2023-01-02\",\"2023-01-05\"])\n",
        "    bizdt = random.choice([\"2023-01-06\",\"2023-01-11\",\"2023-01-20\",\"2023-02-05\",\"2023-02-10\"])\n",
        "    t = random.choice([\"2023-02-15\",\"2023-02-21\",\"2023-03-20\",\"2023-04-11\"])\n",
        "    time1 = random.choice(['T05:17:30','T10:18:15','T12:25:13','T16:40:55'])\n",
        "    r1 = random.choice(['.100','.230','.326'])\n",
        "    r2 = random.choice(['.350','.470','.768'])\n",
        "    tz1 = random.choice(['-5:00','-6:00','-7:00'])\n",
        "    txntm= t+time1+r1+tz1\n",
        "    time2 = random.choice(['T17:30:55.600','T19:33:05.333','T22:03:12.436'])\n",
        "    snt1 = t+time1+r2+tz1\n",
        "    snt2 = t+time2+'+01:00'\n",
        "    snt3 = t+'T00:12:55.138'+tz1\n",
        "    snt4 = t+'T00:12:55.160'+tz1\n",
        "    sym = random.choice([\"BUI\",\"ABP\",\"TMP\"])\n",
        "    id5 = random.choice(['B','W','AS','LM','BUI','IP0'])\n",
        "    my = random.choice([\"2023-05\",\"2023-07\",\"2023-10\"])\n",
        "    mmy = my.replace('-','')\n",
        "    matdt = my+'-'+str(random.randint(1,28))\n",
        "    inptsrc = random.choice(['MA','EL','SY'])\n",
        "    clordid = random.choice(['123','134','145','146ZBT','245BTN','987NL','OrdAT'])\n",
        "    tid = random.choice(['ABCD','D210','B509','HBPL','TL98'])\n",
        "    id2 = random.choice(['Emira-115','Ahlem-110','Karim-200','Mohamed-300','acc-AT','bl-NL','Hassen','arij'])\n",
        "    typ = random.randint(20,30)\n",
        "    custcpcty1 = random.randint(1,4)\n",
        "    ex = random.choice(['BTNL','SNTL','HDPL','XMGE'])\n",
        "    mult = random.choice([0.1, 0.2, 0.3, 0.4, 0.9, 1000, 2000, 5000, 300, 200, 50, 70])\n",
        "    pos1 = random.choice(['Y','N'])\n",
        "    pos3 = random.choice(['Y','N'])\n",
        "    cfi = random.choice(['FCCPXX','APYBKL','MKLPON','FCAPSX'])\n",
        "    pos2 = random.choice(['O','C'])\n",
        "    side = random.randint(1,2)\n",
        "    id26 = random.randint(1,2)\n",
        "    mlrty = random.randint(1,3)\n",
        "    alin = random.randint(0,1)\n",
        "    inpdev = random.choice(['PORTAL','EXCHANGE','API','CLEARING'])\n",
        "    cfi2 = random.choice(['FCCPXX','APYBKL','MKLPON','FCAPSX'])\n",
        "    avgpin = random.randint(0,1)\n",
        "    alocgr = random.randint(0,1)\n",
        "    time3 = random.choice(['T18:35:55.700','T20:33:05.393','T22:25:13.545','T23:28:32.581'])\n",
        "    snt5 = t+time3+tz1\n",
        "    time4 = random.choice(['T19:40:55.600','T20:55:08.453','T23:14:12.436'])\n",
        "    snt6 = t+time4+'+01:00'\n",
        "    snt7 = t+'T00:12:55.165'+tz1\n",
        "    id4 = random.randint(100,500)\n",
        "    id12 = random.choice(['100','200','400','A123','B115'])\n",
        "    return (\n",
        "        f\"\"\"<TrdCaptRpt RptID=\"{rptid}\" TrdID=\"{trdid}\" TransTyp=\"0\" RptTyp=\"2\" TrdTyp=\"{trdtyp}\" MtchID=\"{mtchid}\" PxTyp=\"{pxtyp}\" LastQty=\"{lastqty}\" LastPx=\"{lastpx}\" TrdDt=\"{trdt}\"\n",
        " BizDt=\"{bizdt}\" TxnTm=\"{txntm}\"><Hdr SID=\"MGEX\" TID=\"{tid}\" PosDup=\"{pos1}\" PosRsnd=\"{pos3}\" Snt=\"{snt1}\"></Hdr>\n",
        "<Instrmt Sym=\"{sym}\" ID=\"{id5}\" Src=\"H\" CFI=\"{cfi}\" MMY=\"{mmy}\" MatDt=\"{matdt}\" Mult=\"{mult}\" Exch=\"{ex}\"></Instrmt><RptSide Side=\"{side}\" Ccy=\"USD\" InptSrc=\"{inptsrc}\"\n",
        " InptDev=\"{inpdev}\" CustCpcty=\"{custcpcty1}\" PosEfct=\"{pos2}\" ClOrdID=\"{clordid}\" MLegRptTyp=\"{mlrty}\" AllocInd=\"0\"><Pty ID=\"MGEX\" R=\"21\"></Pty><Pty ID=\"210\" R=\"1\"></Pty><Pty ID=\"{id4}\" R=\"4\"></Pty>\n",
        "<Pty ID=\"{id2}\" R=\"24\"><Sub ID=\"{id26}\" Typ=\"26\"></Sub></Pty><Pty ID=\"{id12}\" R=\"12\"></Pty><TrdRegTS TS=\"{txntm}\" Typ=\"1\">\n",
        "</TrdRegTS></RptSide></TrdCaptRpt>\"\"\".replace('\\n', ''),\n",
        "        f\"\"\"<TrdCaptRpt RptID=\"{trdid}\" TrdDt=\"{trdt}\" BizDt=\"{bizdt}\" TxnTm=\"{snt5}\"\n",
        " TrdID=\"{trdid}\" TransTyp=\"2\" RptTyp=\"0\" LastQty=\"{float(lastqty)}\" LastPx=\"{float(lastpx)}\"><Hdr Snt=\"{snt6}\" TID=\"MGEX\" SID=\"{tid}\"/><Instrmt Exch=\"{ex}\" ID=\"{id5}\"\n",
        " MMY=\"{mmy}\" CFI=\"{cfi2}\"/><RptSide Side=\"{side}\" AvgPxInd=\"{avgpin}\" AllocInd=\"1\" AllocGrpInst=\"{alocgr}\"><Pty ID=\"210\" R=\"1\"/></RptSide></TrdCaptRpt>\"\"\".replace('\\n', ''),\n",
        "        f\"\"\"<TrdCaptRpt RptID=\"580200\" TrdID=\"{trdid}\" TransTyp=\"2\" RptTyp=\"2\" TrdTyp=\"{trdtyp}\" MtchID=\"{mtchid}\" PxTyp=\"{pxtyp}\" LastQty=\"{lastqty}\" LastPx=\"{lastpx}\" TrdDt=\"{trdt}\"\n",
        " BizDt=\"{bizdt}\" TxnTm=\"{snt3}\"><Hdr SID=\"MGEX\" TID=\"{tid}\" PosDup=\"{pos1}\" PosRsnd=\"{pos3}\" Snt=\"{snt4}\"></Hdr>\n",
        "<Instrmt Sym=\"{sym}\" ID=\"{id5}\" Src=\"H\" CFI=\"{cfi}\" MMY=\"{mmy}\" MatDt=\"{matdt}\" Mult=\"{mult}\" Exch=\"{ex}\"></Instrmt><RptSide Side=\"{side}\" Ccy=\"USD\" InptSrc=\"{inptsrc}\"\n",
        " InptDev=\"{inpdev}\" CustCpcty=\"{custcpcty1}\" PosEfct=\"{pos2}\" ClOrdID=\"{clordid}\" MLegRptTyp=\"{mlrty}\" AllocInd=\"1\" GrpID=\"18281000022\" AvgPxInd=\"{avgpin}\"><Pty ID=\"MGEX\" R=\"21\"></Pty><Pty ID=\"210\" R=\"1\"></Pty><Pty ID=\"{id4}\" R=\"4\"></Pty>\n",
        "<Pty ID=\"{id2}\" R=\"24\"><Sub ID=\"{id26}\" Typ=\"26\"></Sub></Pty><Pty ID=\"{id12}\" R=\"12\"></Pty><TrdRegTS TS=\"{txntm}\" Typ=\"1\"></TrdRegTS></RptSide>\n",
        "</TrdCaptRpt>\"\"\".replace('\\n', ''),\n",
        "      f\"\"\"<AllocInstrAlert ID=\"580201\" TransTyp=\"0\" Typ=\"13\" GrpID=\"18281000022\" Side=\"{side}\"\n",
        " Qty=\"{lastqty}\" GrpQty=\"{lastqty}\" PxTyp=\"{pxtyp}\" AvgPx=\"{lastpx}\" TrdDt=\"{trdt}\" TxnTm=\"{snt3}\" Stat=\"6\" AvgPxInd=\"{avgpin}\" BizDt=\"{bizdt}\" TrdTyp=\"{trdtyp}\" CustCpcty=\"{custcpcty1}\">\n",
        "<Hdr SID=\"MGEX\" TID=\"{tid}\" PosDup=\"{pos1}\" PosRsnd=\"{pos3}\" Snt=\"{snt7}\"></Hdr><OrdAlloc ClOrdID=\"{clordid}\"></OrdAlloc><AllExc LastQty=\"{lastqty}\" LastPx=\"{lastpx}\"\n",
        " TrdID=\"{trdid}\"></AllExc><Instrmt ID=\"{id5}\" CFI=\"{cfi}\" MMY=\"{mmy}\" MatDt=\"{matdt}\" Exch=\"{ex}\"></Instrmt><Pty ID=\"MGEX\" R=\"21\"></Pty><Pty ID=\"210\" R=\"1\">\n",
        "</Pty><Pty ID=\"{id4}\" R=\"4\"></Pty><Pty ID=\"\" R=\"12\"></Pty><Pty ID=\"{id2}\" R=\"24\"><Sub ID=\"{id26}\" Typ=\"26\"></Sub></Pty></AllocInstrAlert>\"\"\".replace('\\n', '')\n",
        "    )"
      ],
      "metadata": {
        "id": "8tgZdOQQf7ul"
      },
      "execution_count": null,
      "outputs": []
    },
    {
      "cell_type": "code",
      "source": [
        "dataset = [generate_example() for _ in range(1000)]"
      ],
      "metadata": {
        "id": "ohlv63uXf8bd"
      },
      "execution_count": null,
      "outputs": []
    },
    {
      "cell_type": "code",
      "source": [
        "dataset[0][0]"
      ],
      "metadata": {
        "colab": {
          "base_uri": "https://localhost:8080/",
          "height": 105
        },
        "id": "svfUhP9VgA7Z",
        "outputId": "076db182-7d73-43e6-9537-16bbcd8d6a2f"
      },
      "execution_count": null,
      "outputs": [
        {
          "output_type": "execute_result",
          "data": {
            "text/plain": [
              "'<TrdCaptRpt RptID=\"277918\" TrdID=\"30243976111\" TransTyp=\"0\" RptTyp=\"2\" TrdTyp=\"20\" MtchID=\"38116767312\" PxTyp=\"2\" LastQty=\"22\" LastPx=\"300.9\" TrdDt=\"2023-01-05\" BizDt=\"2023-02-10\" TxnTm=\"2023-04-11T05:17:30.100-6:00\"><Hdr SID=\"MGEX\" TID=\"ABCD\" PosDup=\"Y\" PosRsnd=\"Y\" Snt=\"2023-04-11T05:17:30.768-6:00\"></Hdr><Instrmt Sym=\"ABP\" ID=\"IP0\" Src=\"H\" CFI=\"FCCPXX\" MMY=\"202305\" MatDt=\"2023-05-3\" Mult=\"50\" Exch=\"BTNL\"></Instrmt><RptSide Side=\"2\" Ccy=\"USD\" InptSrc=\"EL\" InptDev=\"API\" CustCpcty=\"1\" PosEfct=\"C\" ClOrdID=\"146ZBT\" MLegRptTyp=\"1\" AllocInd=\"0\"><Pty ID=\"MGEX\" R=\"21\"></Pty><Pty ID=\"210\" R=\"1\"></Pty><Pty ID=\"356\" R=\"4\"></Pty><Pty ID=\"bl-NL\" R=\"24\"><Sub ID=\"1\" Typ=\"26\"></Sub></Pty><Pty ID=\"200\" R=\"12\"></Pty><TrdRegTS TS=\"2023-04-11T05:17:30.100-6:00\" Typ=\"1\"></TrdRegTS></RptSide></TrdCaptRpt>'"
            ],
            "application/vnd.google.colaboratory.intrinsic+json": {
              "type": "string"
            }
          },
          "metadata": {},
          "execution_count": 149
        }
      ]
    },
    {
      "cell_type": "code",
      "source": [
        "dataset[0][1]"
      ],
      "metadata": {
        "colab": {
          "base_uri": "https://localhost:8080/",
          "height": 70
        },
        "id": "Wm5eZpO9gDde",
        "outputId": "fae081ba-5378-4de3-bdce-1527d0ef1f74"
      },
      "execution_count": null,
      "outputs": [
        {
          "output_type": "execute_result",
          "data": {
            "text/plain": [
              "'<TrdCaptRpt RptID=\"30243976111\" TrdDt=\"2023-01-05\" BizDt=\"2023-02-10\" TxnTm=\"2023-04-11T18:35:55.700-6:00\" TrdID=\"30243976111\" TransTyp=\"2\" RptTyp=\"0\" LastQty=\"22.0\" LastPx=\"300.9\"><Hdr Snt=\"2023-04-11T23:14:12.436+01:00\" TID=\"MGEX\" SID=\"ABCD\"/><Instrmt Exch=\"BTNL\" ID=\"IP0\" MMY=\"202305\" CFI=\"FCCPXX\"/><RptSide Side=\"2\" AvgPxInd=\"1\" AllocInd=\"1\" AllocGrpInst=\"1\"><Pty ID=\"210\" R=\"1\"/></RptSide></TrdCaptRpt>'"
            ],
            "application/vnd.google.colaboratory.intrinsic+json": {
              "type": "string"
            }
          },
          "metadata": {},
          "execution_count": 150
        }
      ]
    },
    {
      "cell_type": "code",
      "source": [
        "dataset[0][2]"
      ],
      "metadata": {
        "colab": {
          "base_uri": "https://localhost:8080/",
          "height": 105
        },
        "id": "IMg6NAdCgFkQ",
        "outputId": "125a0783-6d34-4a34-d172-b2870cd67fb2"
      },
      "execution_count": null,
      "outputs": [
        {
          "output_type": "execute_result",
          "data": {
            "text/plain": [
              "'<TrdCaptRpt RptID=\"580200\" TrdID=\"30243976111\" TransTyp=\"2\" RptTyp=\"2\" TrdTyp=\"20\" MtchID=\"38116767312\" PxTyp=\"2\" LastQty=\"22\" LastPx=\"300.9\" TrdDt=\"2023-01-05\" BizDt=\"2023-02-10\" TxnTm=\"2023-04-11T00:12:55.138-6:00\"><Hdr SID=\"MGEX\" TID=\"ABCD\" PosDup=\"Y\" PosRsnd=\"Y\" Snt=\"2023-04-11T00:12:55.160-6:00\"></Hdr><Instrmt Sym=\"ABP\" ID=\"IP0\" Src=\"H\" CFI=\"FCCPXX\" MMY=\"202305\" MatDt=\"2023-05-3\" Mult=\"50\" Exch=\"BTNL\"></Instrmt><RptSide Side=\"2\" Ccy=\"USD\" InptSrc=\"EL\" InptDev=\"API\" CustCpcty=\"1\" PosEfct=\"C\" ClOrdID=\"146ZBT\" MLegRptTyp=\"1\" AllocInd=\"1\" GrpID=\"18281000022\" AvgPxInd=\"1\"><Pty ID=\"MGEX\" R=\"21\"></Pty><Pty ID=\"210\" R=\"1\"></Pty><Pty ID=\"356\" R=\"4\"></Pty><Pty ID=\"bl-NL\" R=\"24\"><Sub ID=\"1\" Typ=\"26\"></Sub></Pty><Pty ID=\"200\" R=\"12\"></Pty><TrdRegTS TS=\"2023-04-11T05:17:30.100-6:00\" Typ=\"1\"></TrdRegTS></RptSide></TrdCaptRpt>'"
            ],
            "application/vnd.google.colaboratory.intrinsic+json": {
              "type": "string"
            }
          },
          "metadata": {},
          "execution_count": 151
        }
      ]
    },
    {
      "cell_type": "code",
      "source": [
        "dataset[0][3]"
      ],
      "metadata": {
        "colab": {
          "base_uri": "https://localhost:8080/",
          "height": 88
        },
        "id": "hfZnZI5QgGMp",
        "outputId": "8927699e-8275-49a5-90cc-104612cc8644"
      },
      "execution_count": null,
      "outputs": [
        {
          "output_type": "execute_result",
          "data": {
            "text/plain": [
              "'<AllocInstrAlert ID=\"580201\" TransTyp=\"0\" Typ=\"13\" GrpID=\"18281000022\" Side=\"2\" Qty=\"22\" GrpQty=\"22\" PxTyp=\"2\" AvgPx=\"300.9\" TrdDt=\"2023-01-05\" TxnTm=\"2023-04-11T00:12:55.138-6:00\" Stat=\"6\" AvgPxInd=\"1\" BizDt=\"2023-02-10\" TrdTyp=\"20\" CustCpcty=\"1\"><Hdr SID=\"MGEX\" TID=\"ABCD\" PosDup=\"Y\" PosRsnd=\"Y\" Snt=\"2023-04-11T00:12:55.165-6:00\"></Hdr><OrdAlloc ClOrdID=\"146ZBT\"></OrdAlloc><AllExc LastQty=\"22\" LastPx=\"300.9\" TrdID=\"30243976111\"></AllExc><Instrmt ID=\"IP0\" CFI=\"FCCPXX\" MMY=\"202305\" MatDt=\"2023-05-3\" Exch=\"BTNL\"></Instrmt><Pty ID=\"MGEX\" R=\"21\"></Pty><Pty ID=\"210\" R=\"1\"></Pty><Pty ID=\"356\" R=\"4\"></Pty><Pty ID=\"\" R=\"12\"></Pty><Pty ID=\"bl-NL\" R=\"24\"><Sub ID=\"1\" Typ=\"26\"></Sub></Pty></AllocInstrAlert>'"
            ],
            "application/vnd.google.colaboratory.intrinsic+json": {
              "type": "string"
            }
          },
          "metadata": {},
          "execution_count": 152
        }
      ]
    },
    {
      "cell_type": "markdown",
      "source": [
        "**Creating a DataFrame with the generated samples**"
      ],
      "metadata": {
        "id": "eJzDQlJU7H1k"
      }
    },
    {
      "cell_type": "code",
      "source": [
        "column1_data = [example[0] for example in dataset]\n",
        "column2_data = [example[1] for example in dataset]\n",
        "column3_data = [example[2] for example in dataset]\n",
        "column4_data = [example[3] for example in dataset]\n",
        "df = pd.DataFrame({\n",
        "    'Trade_message': column1_data,\n",
        "    'SGW_Operation': column2_data,\n",
        "    'CCP_Message1': column3_data,\n",
        "    'CCP_Message2': column4_data\n",
        "})\n",
        "df.head()"
      ],
      "metadata": {
        "colab": {
          "base_uri": "https://localhost:8080/",
          "height": 293
        },
        "id": "dlVlaPJMgcCl",
        "outputId": "b7b02ffc-3134-4f8d-ce35-e71033ae8d7e"
      },
      "execution_count": null,
      "outputs": [
        {
          "output_type": "execute_result",
          "data": {
            "text/plain": [
              "                                       Trade_message  \\\n",
              "0  <TrdCaptRpt RptID=\"277918\" TrdID=\"30243976111\"...   \n",
              "1  <TrdCaptRpt RptID=\"174684\" TrdID=\"32315822401\"...   \n",
              "2  <TrdCaptRpt RptID=\"381195\" TrdID=\"29434319842\"...   \n",
              "3  <TrdCaptRpt RptID=\"130471\" TrdID=\"38640498786\"...   \n",
              "4  <TrdCaptRpt RptID=\"26789\" TrdID=\"26183116997\" ...   \n",
              "\n",
              "                                       SGW_Operation  \\\n",
              "0  <TrdCaptRpt RptID=\"30243976111\" TrdDt=\"2023-01...   \n",
              "1  <TrdCaptRpt RptID=\"32315822401\" TrdDt=\"2023-01...   \n",
              "2  <TrdCaptRpt RptID=\"29434319842\" TrdDt=\"2023-01...   \n",
              "3  <TrdCaptRpt RptID=\"38640498786\" TrdDt=\"2023-01...   \n",
              "4  <TrdCaptRpt RptID=\"26183116997\" TrdDt=\"2022-12...   \n",
              "\n",
              "                                        CCP_Message1  \\\n",
              "0  <TrdCaptRpt RptID=\"580200\" TrdID=\"30243976111\"...   \n",
              "1  <TrdCaptRpt RptID=\"580200\" TrdID=\"32315822401\"...   \n",
              "2  <TrdCaptRpt RptID=\"580200\" TrdID=\"29434319842\"...   \n",
              "3  <TrdCaptRpt RptID=\"580200\" TrdID=\"38640498786\"...   \n",
              "4  <TrdCaptRpt RptID=\"580200\" TrdID=\"26183116997\"...   \n",
              "\n",
              "                                        CCP_Message2  \n",
              "0  <AllocInstrAlert ID=\"580201\" TransTyp=\"0\" Typ=...  \n",
              "1  <AllocInstrAlert ID=\"580201\" TransTyp=\"0\" Typ=...  \n",
              "2  <AllocInstrAlert ID=\"580201\" TransTyp=\"0\" Typ=...  \n",
              "3  <AllocInstrAlert ID=\"580201\" TransTyp=\"0\" Typ=...  \n",
              "4  <AllocInstrAlert ID=\"580201\" TransTyp=\"0\" Typ=...  "
            ],
            "text/html": [
              "\n",
              "  <div id=\"df-bf0b1290-31d0-4128-84f2-af77665fecea\" class=\"colab-df-container\">\n",
              "    <div>\n",
              "<style scoped>\n",
              "    .dataframe tbody tr th:only-of-type {\n",
              "        vertical-align: middle;\n",
              "    }\n",
              "\n",
              "    .dataframe tbody tr th {\n",
              "        vertical-align: top;\n",
              "    }\n",
              "\n",
              "    .dataframe thead th {\n",
              "        text-align: right;\n",
              "    }\n",
              "</style>\n",
              "<table border=\"1\" class=\"dataframe\">\n",
              "  <thead>\n",
              "    <tr style=\"text-align: right;\">\n",
              "      <th></th>\n",
              "      <th>Trade_message</th>\n",
              "      <th>SGW_Operation</th>\n",
              "      <th>CCP_Message1</th>\n",
              "      <th>CCP_Message2</th>\n",
              "    </tr>\n",
              "  </thead>\n",
              "  <tbody>\n",
              "    <tr>\n",
              "      <th>0</th>\n",
              "      <td>&lt;TrdCaptRpt RptID=\"277918\" TrdID=\"30243976111\"...</td>\n",
              "      <td>&lt;TrdCaptRpt RptID=\"30243976111\" TrdDt=\"2023-01...</td>\n",
              "      <td>&lt;TrdCaptRpt RptID=\"580200\" TrdID=\"30243976111\"...</td>\n",
              "      <td>&lt;AllocInstrAlert ID=\"580201\" TransTyp=\"0\" Typ=...</td>\n",
              "    </tr>\n",
              "    <tr>\n",
              "      <th>1</th>\n",
              "      <td>&lt;TrdCaptRpt RptID=\"174684\" TrdID=\"32315822401\"...</td>\n",
              "      <td>&lt;TrdCaptRpt RptID=\"32315822401\" TrdDt=\"2023-01...</td>\n",
              "      <td>&lt;TrdCaptRpt RptID=\"580200\" TrdID=\"32315822401\"...</td>\n",
              "      <td>&lt;AllocInstrAlert ID=\"580201\" TransTyp=\"0\" Typ=...</td>\n",
              "    </tr>\n",
              "    <tr>\n",
              "      <th>2</th>\n",
              "      <td>&lt;TrdCaptRpt RptID=\"381195\" TrdID=\"29434319842\"...</td>\n",
              "      <td>&lt;TrdCaptRpt RptID=\"29434319842\" TrdDt=\"2023-01...</td>\n",
              "      <td>&lt;TrdCaptRpt RptID=\"580200\" TrdID=\"29434319842\"...</td>\n",
              "      <td>&lt;AllocInstrAlert ID=\"580201\" TransTyp=\"0\" Typ=...</td>\n",
              "    </tr>\n",
              "    <tr>\n",
              "      <th>3</th>\n",
              "      <td>&lt;TrdCaptRpt RptID=\"130471\" TrdID=\"38640498786\"...</td>\n",
              "      <td>&lt;TrdCaptRpt RptID=\"38640498786\" TrdDt=\"2023-01...</td>\n",
              "      <td>&lt;TrdCaptRpt RptID=\"580200\" TrdID=\"38640498786\"...</td>\n",
              "      <td>&lt;AllocInstrAlert ID=\"580201\" TransTyp=\"0\" Typ=...</td>\n",
              "    </tr>\n",
              "    <tr>\n",
              "      <th>4</th>\n",
              "      <td>&lt;TrdCaptRpt RptID=\"26789\" TrdID=\"26183116997\" ...</td>\n",
              "      <td>&lt;TrdCaptRpt RptID=\"26183116997\" TrdDt=\"2022-12...</td>\n",
              "      <td>&lt;TrdCaptRpt RptID=\"580200\" TrdID=\"26183116997\"...</td>\n",
              "      <td>&lt;AllocInstrAlert ID=\"580201\" TransTyp=\"0\" Typ=...</td>\n",
              "    </tr>\n",
              "  </tbody>\n",
              "</table>\n",
              "</div>\n",
              "    <div class=\"colab-df-buttons\">\n",
              "\n",
              "  <div class=\"colab-df-container\">\n",
              "    <button class=\"colab-df-convert\" onclick=\"convertToInteractive('df-bf0b1290-31d0-4128-84f2-af77665fecea')\"\n",
              "            title=\"Convert this dataframe to an interactive table.\"\n",
              "            style=\"display:none;\">\n",
              "\n",
              "  <svg xmlns=\"http://www.w3.org/2000/svg\" height=\"24px\" viewBox=\"0 -960 960 960\">\n",
              "    <path d=\"M120-120v-720h720v720H120Zm60-500h600v-160H180v160Zm220 220h160v-160H400v160Zm0 220h160v-160H400v160ZM180-400h160v-160H180v160Zm440 0h160v-160H620v160ZM180-180h160v-160H180v160Zm440 0h160v-160H620v160Z\"/>\n",
              "  </svg>\n",
              "    </button>\n",
              "\n",
              "  <style>\n",
              "    .colab-df-container {\n",
              "      display:flex;\n",
              "      gap: 12px;\n",
              "    }\n",
              "\n",
              "    .colab-df-convert {\n",
              "      background-color: #E8F0FE;\n",
              "      border: none;\n",
              "      border-radius: 50%;\n",
              "      cursor: pointer;\n",
              "      display: none;\n",
              "      fill: #1967D2;\n",
              "      height: 32px;\n",
              "      padding: 0 0 0 0;\n",
              "      width: 32px;\n",
              "    }\n",
              "\n",
              "    .colab-df-convert:hover {\n",
              "      background-color: #E2EBFA;\n",
              "      box-shadow: 0px 1px 2px rgba(60, 64, 67, 0.3), 0px 1px 3px 1px rgba(60, 64, 67, 0.15);\n",
              "      fill: #174EA6;\n",
              "    }\n",
              "\n",
              "    .colab-df-buttons div {\n",
              "      margin-bottom: 4px;\n",
              "    }\n",
              "\n",
              "    [theme=dark] .colab-df-convert {\n",
              "      background-color: #3B4455;\n",
              "      fill: #D2E3FC;\n",
              "    }\n",
              "\n",
              "    [theme=dark] .colab-df-convert:hover {\n",
              "      background-color: #434B5C;\n",
              "      box-shadow: 0px 1px 3px 1px rgba(0, 0, 0, 0.15);\n",
              "      filter: drop-shadow(0px 1px 2px rgba(0, 0, 0, 0.3));\n",
              "      fill: #FFFFFF;\n",
              "    }\n",
              "  </style>\n",
              "\n",
              "    <script>\n",
              "      const buttonEl =\n",
              "        document.querySelector('#df-bf0b1290-31d0-4128-84f2-af77665fecea button.colab-df-convert');\n",
              "      buttonEl.style.display =\n",
              "        google.colab.kernel.accessAllowed ? 'block' : 'none';\n",
              "\n",
              "      async function convertToInteractive(key) {\n",
              "        const element = document.querySelector('#df-bf0b1290-31d0-4128-84f2-af77665fecea');\n",
              "        const dataTable =\n",
              "          await google.colab.kernel.invokeFunction('convertToInteractive',\n",
              "                                                    [key], {});\n",
              "        if (!dataTable) return;\n",
              "\n",
              "        const docLinkHtml = 'Like what you see? Visit the ' +\n",
              "          '<a target=\"_blank\" href=https://colab.research.google.com/notebooks/data_table.ipynb>data table notebook</a>'\n",
              "          + ' to learn more about interactive tables.';\n",
              "        element.innerHTML = '';\n",
              "        dataTable['output_type'] = 'display_data';\n",
              "        await google.colab.output.renderOutput(dataTable, element);\n",
              "        const docLink = document.createElement('div');\n",
              "        docLink.innerHTML = docLinkHtml;\n",
              "        element.appendChild(docLink);\n",
              "      }\n",
              "    </script>\n",
              "  </div>\n",
              "\n",
              "\n",
              "<div id=\"df-b7f42126-b35e-49ee-b7c7-e489cb07c8e2\">\n",
              "  <button class=\"colab-df-quickchart\" onclick=\"quickchart('df-b7f42126-b35e-49ee-b7c7-e489cb07c8e2')\"\n",
              "            title=\"Suggest charts\"\n",
              "            style=\"display:none;\">\n",
              "\n",
              "<svg xmlns=\"http://www.w3.org/2000/svg\" height=\"24px\"viewBox=\"0 0 24 24\"\n",
              "     width=\"24px\">\n",
              "    <g>\n",
              "        <path d=\"M19 3H5c-1.1 0-2 .9-2 2v14c0 1.1.9 2 2 2h14c1.1 0 2-.9 2-2V5c0-1.1-.9-2-2-2zM9 17H7v-7h2v7zm4 0h-2V7h2v10zm4 0h-2v-4h2v4z\"/>\n",
              "    </g>\n",
              "</svg>\n",
              "  </button>\n",
              "\n",
              "<style>\n",
              "  .colab-df-quickchart {\n",
              "      --bg-color: #E8F0FE;\n",
              "      --fill-color: #1967D2;\n",
              "      --hover-bg-color: #E2EBFA;\n",
              "      --hover-fill-color: #174EA6;\n",
              "      --disabled-fill-color: #AAA;\n",
              "      --disabled-bg-color: #DDD;\n",
              "  }\n",
              "\n",
              "  [theme=dark] .colab-df-quickchart {\n",
              "      --bg-color: #3B4455;\n",
              "      --fill-color: #D2E3FC;\n",
              "      --hover-bg-color: #434B5C;\n",
              "      --hover-fill-color: #FFFFFF;\n",
              "      --disabled-bg-color: #3B4455;\n",
              "      --disabled-fill-color: #666;\n",
              "  }\n",
              "\n",
              "  .colab-df-quickchart {\n",
              "    background-color: var(--bg-color);\n",
              "    border: none;\n",
              "    border-radius: 50%;\n",
              "    cursor: pointer;\n",
              "    display: none;\n",
              "    fill: var(--fill-color);\n",
              "    height: 32px;\n",
              "    padding: 0;\n",
              "    width: 32px;\n",
              "  }\n",
              "\n",
              "  .colab-df-quickchart:hover {\n",
              "    background-color: var(--hover-bg-color);\n",
              "    box-shadow: 0 1px 2px rgba(60, 64, 67, 0.3), 0 1px 3px 1px rgba(60, 64, 67, 0.15);\n",
              "    fill: var(--button-hover-fill-color);\n",
              "  }\n",
              "\n",
              "  .colab-df-quickchart-complete:disabled,\n",
              "  .colab-df-quickchart-complete:disabled:hover {\n",
              "    background-color: var(--disabled-bg-color);\n",
              "    fill: var(--disabled-fill-color);\n",
              "    box-shadow: none;\n",
              "  }\n",
              "\n",
              "  .colab-df-spinner {\n",
              "    border: 2px solid var(--fill-color);\n",
              "    border-color: transparent;\n",
              "    border-bottom-color: var(--fill-color);\n",
              "    animation:\n",
              "      spin 1s steps(1) infinite;\n",
              "  }\n",
              "\n",
              "  @keyframes spin {\n",
              "    0% {\n",
              "      border-color: transparent;\n",
              "      border-bottom-color: var(--fill-color);\n",
              "      border-left-color: var(--fill-color);\n",
              "    }\n",
              "    20% {\n",
              "      border-color: transparent;\n",
              "      border-left-color: var(--fill-color);\n",
              "      border-top-color: var(--fill-color);\n",
              "    }\n",
              "    30% {\n",
              "      border-color: transparent;\n",
              "      border-left-color: var(--fill-color);\n",
              "      border-top-color: var(--fill-color);\n",
              "      border-right-color: var(--fill-color);\n",
              "    }\n",
              "    40% {\n",
              "      border-color: transparent;\n",
              "      border-right-color: var(--fill-color);\n",
              "      border-top-color: var(--fill-color);\n",
              "    }\n",
              "    60% {\n",
              "      border-color: transparent;\n",
              "      border-right-color: var(--fill-color);\n",
              "    }\n",
              "    80% {\n",
              "      border-color: transparent;\n",
              "      border-right-color: var(--fill-color);\n",
              "      border-bottom-color: var(--fill-color);\n",
              "    }\n",
              "    90% {\n",
              "      border-color: transparent;\n",
              "      border-bottom-color: var(--fill-color);\n",
              "    }\n",
              "  }\n",
              "</style>\n",
              "\n",
              "  <script>\n",
              "    async function quickchart(key) {\n",
              "      const quickchartButtonEl =\n",
              "        document.querySelector('#' + key + ' button');\n",
              "      quickchartButtonEl.disabled = true;  // To prevent multiple clicks.\n",
              "      quickchartButtonEl.classList.add('colab-df-spinner');\n",
              "      try {\n",
              "        const charts = await google.colab.kernel.invokeFunction(\n",
              "            'suggestCharts', [key], {});\n",
              "      } catch (error) {\n",
              "        console.error('Error during call to suggestCharts:', error);\n",
              "      }\n",
              "      quickchartButtonEl.classList.remove('colab-df-spinner');\n",
              "      quickchartButtonEl.classList.add('colab-df-quickchart-complete');\n",
              "    }\n",
              "    (() => {\n",
              "      let quickchartButtonEl =\n",
              "        document.querySelector('#df-b7f42126-b35e-49ee-b7c7-e489cb07c8e2 button');\n",
              "      quickchartButtonEl.style.display =\n",
              "        google.colab.kernel.accessAllowed ? 'block' : 'none';\n",
              "    })();\n",
              "  </script>\n",
              "</div>\n",
              "\n",
              "    </div>\n",
              "  </div>\n"
            ],
            "application/vnd.google.colaboratory.intrinsic+json": {
              "type": "dataframe",
              "variable_name": "df",
              "summary": "{\n  \"name\": \"df\",\n  \"rows\": 1000,\n  \"fields\": [\n    {\n      \"column\": \"Trade_message\",\n      \"properties\": {\n        \"dtype\": \"string\",\n        \"num_unique_values\": 1000,\n        \"samples\": [\n          \"<TrdCaptRpt RptID=\\\"285580\\\" TrdID=\\\"27122592131\\\" TransTyp=\\\"0\\\" RptTyp=\\\"2\\\" TrdTyp=\\\"2\\\" MtchID=\\\"22303742605\\\" PxTyp=\\\"2\\\" LastQty=\\\"27\\\" LastPx=\\\"540.698\\\" TrdDt=\\\"2023-01-05\\\" BizDt=\\\"2023-01-20\\\" TxnTm=\\\"2023-04-11T12:25:13.230-6:00\\\"><Hdr SID=\\\"MGEX\\\" TID=\\\"HBPL\\\" PosDup=\\\"N\\\" PosRsnd=\\\"N\\\" Snt=\\\"2023-04-11T12:25:13.470-6:00\\\"></Hdr><Instrmt Sym=\\\"ABP\\\" ID=\\\"LM\\\" Src=\\\"H\\\" CFI=\\\"APYBKL\\\" MMY=\\\"202305\\\" MatDt=\\\"2023-05-7\\\" Mult=\\\"0.3\\\" Exch=\\\"BTNL\\\"></Instrmt><RptSide Side=\\\"2\\\" Ccy=\\\"USD\\\" InptSrc=\\\"MA\\\" InptDev=\\\"EXCHANGE\\\" CustCpcty=\\\"2\\\" PosEfct=\\\"C\\\" ClOrdID=\\\"145\\\" MLegRptTyp=\\\"2\\\" AllocInd=\\\"0\\\"><Pty ID=\\\"MGEX\\\" R=\\\"21\\\"></Pty><Pty ID=\\\"210\\\" R=\\\"1\\\"></Pty><Pty ID=\\\"140\\\" R=\\\"4\\\"></Pty><Pty ID=\\\"arij\\\" R=\\\"24\\\"><Sub ID=\\\"2\\\" Typ=\\\"26\\\"></Sub></Pty><Pty ID=\\\"100\\\" R=\\\"12\\\"></Pty><TrdRegTS TS=\\\"2023-04-11T12:25:13.230-6:00\\\" Typ=\\\"1\\\"></TrdRegTS></RptSide></TrdCaptRpt>\",\n          \"<TrdCaptRpt RptID=\\\"220503\\\" TrdID=\\\"21672246492\\\" TransTyp=\\\"0\\\" RptTyp=\\\"2\\\" TrdTyp=\\\"20\\\" MtchID=\\\"25820551006\\\" PxTyp=\\\"2\\\" LastQty=\\\"39\\\" LastPx=\\\"540.698\\\" TrdDt=\\\"2023-01-05\\\" BizDt=\\\"2023-01-06\\\" TxnTm=\\\"2023-03-20T10:18:15.100-7:00\\\"><Hdr SID=\\\"MGEX\\\" TID=\\\"ABCD\\\" PosDup=\\\"Y\\\" PosRsnd=\\\"Y\\\" Snt=\\\"2023-03-20T10:18:15.768-7:00\\\"></Hdr><Instrmt Sym=\\\"ABP\\\" ID=\\\"BUI\\\" Src=\\\"H\\\" CFI=\\\"MKLPON\\\" MMY=\\\"202307\\\" MatDt=\\\"2023-07-20\\\" Mult=\\\"0.3\\\" Exch=\\\"SNTL\\\"></Instrmt><RptSide Side=\\\"1\\\" Ccy=\\\"USD\\\" InptSrc=\\\"EL\\\" InptDev=\\\"API\\\" CustCpcty=\\\"3\\\" PosEfct=\\\"O\\\" ClOrdID=\\\"146ZBT\\\" MLegRptTyp=\\\"3\\\" AllocInd=\\\"0\\\"><Pty ID=\\\"MGEX\\\" R=\\\"21\\\"></Pty><Pty ID=\\\"210\\\" R=\\\"1\\\"></Pty><Pty ID=\\\"363\\\" R=\\\"4\\\"></Pty><Pty ID=\\\"Ahlem-110\\\" R=\\\"24\\\"><Sub ID=\\\"2\\\" Typ=\\\"26\\\"></Sub></Pty><Pty ID=\\\"100\\\" R=\\\"12\\\"></Pty><TrdRegTS TS=\\\"2023-03-20T10:18:15.100-7:00\\\" Typ=\\\"1\\\"></TrdRegTS></RptSide></TrdCaptRpt>\",\n          \"<TrdCaptRpt RptID=\\\"98555\\\" TrdID=\\\"39484241991\\\" TransTyp=\\\"0\\\" RptTyp=\\\"2\\\" TrdTyp=\\\"2\\\" MtchID=\\\"36637027855\\\" PxTyp=\\\"10\\\" LastQty=\\\"45\\\" LastPx=\\\"300.9\\\" TrdDt=\\\"2023-01-02\\\" BizDt=\\\"2023-01-20\\\" TxnTm=\\\"2023-02-15T12:25:13.326-7:00\\\"><Hdr SID=\\\"MGEX\\\" TID=\\\"B509\\\" PosDup=\\\"Y\\\" PosRsnd=\\\"Y\\\" Snt=\\\"2023-02-15T12:25:13.768-7:00\\\"></Hdr><Instrmt Sym=\\\"TMP\\\" ID=\\\"IP0\\\" Src=\\\"H\\\" CFI=\\\"FCAPSX\\\" MMY=\\\"202305\\\" MatDt=\\\"2023-05-19\\\" Mult=\\\"70\\\" Exch=\\\"BTNL\\\"></Instrmt><RptSide Side=\\\"2\\\" Ccy=\\\"USD\\\" InptSrc=\\\"SY\\\" InptDev=\\\"API\\\" CustCpcty=\\\"2\\\" PosEfct=\\\"C\\\" ClOrdID=\\\"987NL\\\" MLegRptTyp=\\\"1\\\" AllocInd=\\\"0\\\"><Pty ID=\\\"MGEX\\\" R=\\\"21\\\"></Pty><Pty ID=\\\"210\\\" R=\\\"1\\\"></Pty><Pty ID=\\\"214\\\" R=\\\"4\\\"></Pty><Pty ID=\\\"bl-NL\\\" R=\\\"24\\\"><Sub ID=\\\"1\\\" Typ=\\\"26\\\"></Sub></Pty><Pty ID=\\\"400\\\" R=\\\"12\\\"></Pty><TrdRegTS TS=\\\"2023-02-15T12:25:13.326-7:00\\\" Typ=\\\"1\\\"></TrdRegTS></RptSide></TrdCaptRpt>\"\n        ],\n        \"semantic_type\": \"\",\n        \"description\": \"\"\n      }\n    },\n    {\n      \"column\": \"SGW_Operation\",\n      \"properties\": {\n        \"dtype\": \"string\",\n        \"num_unique_values\": 1000,\n        \"samples\": [\n          \"<TrdCaptRpt RptID=\\\"27122592131\\\" TrdDt=\\\"2023-01-05\\\" BizDt=\\\"2023-01-20\\\" TxnTm=\\\"2023-04-11T23:28:32.581-6:00\\\" TrdID=\\\"27122592131\\\" TransTyp=\\\"2\\\" RptTyp=\\\"0\\\" LastQty=\\\"27.0\\\" LastPx=\\\"540.698\\\"><Hdr Snt=\\\"2023-04-11T23:14:12.436+01:00\\\" TID=\\\"MGEX\\\" SID=\\\"HBPL\\\"/><Instrmt Exch=\\\"BTNL\\\" ID=\\\"LM\\\" MMY=\\\"202305\\\" CFI=\\\"APYBKL\\\"/><RptSide Side=\\\"2\\\" AvgPxInd=\\\"0\\\" AllocInd=\\\"1\\\" AllocGrpInst=\\\"1\\\"><Pty ID=\\\"210\\\" R=\\\"1\\\"/></RptSide></TrdCaptRpt>\",\n          \"<TrdCaptRpt RptID=\\\"21672246492\\\" TrdDt=\\\"2023-01-05\\\" BizDt=\\\"2023-01-06\\\" TxnTm=\\\"2023-03-20T22:25:13.545-7:00\\\" TrdID=\\\"21672246492\\\" TransTyp=\\\"2\\\" RptTyp=\\\"0\\\" LastQty=\\\"39.0\\\" LastPx=\\\"540.698\\\"><Hdr Snt=\\\"2023-03-20T20:55:08.453+01:00\\\" TID=\\\"MGEX\\\" SID=\\\"ABCD\\\"/><Instrmt Exch=\\\"SNTL\\\" ID=\\\"BUI\\\" MMY=\\\"202307\\\" CFI=\\\"FCAPSX\\\"/><RptSide Side=\\\"1\\\" AvgPxInd=\\\"0\\\" AllocInd=\\\"1\\\" AllocGrpInst=\\\"0\\\"><Pty ID=\\\"210\\\" R=\\\"1\\\"/></RptSide></TrdCaptRpt>\",\n          \"<TrdCaptRpt RptID=\\\"39484241991\\\" TrdDt=\\\"2023-01-02\\\" BizDt=\\\"2023-01-20\\\" TxnTm=\\\"2023-02-15T20:33:05.393-7:00\\\" TrdID=\\\"39484241991\\\" TransTyp=\\\"2\\\" RptTyp=\\\"0\\\" LastQty=\\\"45.0\\\" LastPx=\\\"300.9\\\"><Hdr Snt=\\\"2023-02-15T23:14:12.436+01:00\\\" TID=\\\"MGEX\\\" SID=\\\"B509\\\"/><Instrmt Exch=\\\"BTNL\\\" ID=\\\"IP0\\\" MMY=\\\"202305\\\" CFI=\\\"APYBKL\\\"/><RptSide Side=\\\"2\\\" AvgPxInd=\\\"1\\\" AllocInd=\\\"1\\\" AllocGrpInst=\\\"0\\\"><Pty ID=\\\"210\\\" R=\\\"1\\\"/></RptSide></TrdCaptRpt>\"\n        ],\n        \"semantic_type\": \"\",\n        \"description\": \"\"\n      }\n    },\n    {\n      \"column\": \"CCP_Message1\",\n      \"properties\": {\n        \"dtype\": \"string\",\n        \"num_unique_values\": 1000,\n        \"samples\": [\n          \"<TrdCaptRpt RptID=\\\"580200\\\" TrdID=\\\"27122592131\\\" TransTyp=\\\"2\\\" RptTyp=\\\"2\\\" TrdTyp=\\\"2\\\" MtchID=\\\"22303742605\\\" PxTyp=\\\"2\\\" LastQty=\\\"27\\\" LastPx=\\\"540.698\\\" TrdDt=\\\"2023-01-05\\\" BizDt=\\\"2023-01-20\\\" TxnTm=\\\"2023-04-11T00:12:55.138-6:00\\\"><Hdr SID=\\\"MGEX\\\" TID=\\\"HBPL\\\" PosDup=\\\"N\\\" PosRsnd=\\\"N\\\" Snt=\\\"2023-04-11T00:12:55.160-6:00\\\"></Hdr><Instrmt Sym=\\\"ABP\\\" ID=\\\"LM\\\" Src=\\\"H\\\" CFI=\\\"APYBKL\\\" MMY=\\\"202305\\\" MatDt=\\\"2023-05-7\\\" Mult=\\\"0.3\\\" Exch=\\\"BTNL\\\"></Instrmt><RptSide Side=\\\"2\\\" Ccy=\\\"USD\\\" InptSrc=\\\"MA\\\" InptDev=\\\"EXCHANGE\\\" CustCpcty=\\\"2\\\" PosEfct=\\\"C\\\" ClOrdID=\\\"145\\\" MLegRptTyp=\\\"2\\\" AllocInd=\\\"1\\\" GrpID=\\\"18281000022\\\" AvgPxInd=\\\"0\\\"><Pty ID=\\\"MGEX\\\" R=\\\"21\\\"></Pty><Pty ID=\\\"210\\\" R=\\\"1\\\"></Pty><Pty ID=\\\"140\\\" R=\\\"4\\\"></Pty><Pty ID=\\\"arij\\\" R=\\\"24\\\"><Sub ID=\\\"2\\\" Typ=\\\"26\\\"></Sub></Pty><Pty ID=\\\"100\\\" R=\\\"12\\\"></Pty><TrdRegTS TS=\\\"2023-04-11T12:25:13.230-6:00\\\" Typ=\\\"1\\\"></TrdRegTS></RptSide></TrdCaptRpt>\",\n          \"<TrdCaptRpt RptID=\\\"580200\\\" TrdID=\\\"21672246492\\\" TransTyp=\\\"2\\\" RptTyp=\\\"2\\\" TrdTyp=\\\"20\\\" MtchID=\\\"25820551006\\\" PxTyp=\\\"2\\\" LastQty=\\\"39\\\" LastPx=\\\"540.698\\\" TrdDt=\\\"2023-01-05\\\" BizDt=\\\"2023-01-06\\\" TxnTm=\\\"2023-03-20T00:12:55.138-7:00\\\"><Hdr SID=\\\"MGEX\\\" TID=\\\"ABCD\\\" PosDup=\\\"Y\\\" PosRsnd=\\\"Y\\\" Snt=\\\"2023-03-20T00:12:55.160-7:00\\\"></Hdr><Instrmt Sym=\\\"ABP\\\" ID=\\\"BUI\\\" Src=\\\"H\\\" CFI=\\\"MKLPON\\\" MMY=\\\"202307\\\" MatDt=\\\"2023-07-20\\\" Mult=\\\"0.3\\\" Exch=\\\"SNTL\\\"></Instrmt><RptSide Side=\\\"1\\\" Ccy=\\\"USD\\\" InptSrc=\\\"EL\\\" InptDev=\\\"API\\\" CustCpcty=\\\"3\\\" PosEfct=\\\"O\\\" ClOrdID=\\\"146ZBT\\\" MLegRptTyp=\\\"3\\\" AllocInd=\\\"1\\\" GrpID=\\\"18281000022\\\" AvgPxInd=\\\"0\\\"><Pty ID=\\\"MGEX\\\" R=\\\"21\\\"></Pty><Pty ID=\\\"210\\\" R=\\\"1\\\"></Pty><Pty ID=\\\"363\\\" R=\\\"4\\\"></Pty><Pty ID=\\\"Ahlem-110\\\" R=\\\"24\\\"><Sub ID=\\\"2\\\" Typ=\\\"26\\\"></Sub></Pty><Pty ID=\\\"100\\\" R=\\\"12\\\"></Pty><TrdRegTS TS=\\\"2023-03-20T10:18:15.100-7:00\\\" Typ=\\\"1\\\"></TrdRegTS></RptSide></TrdCaptRpt>\",\n          \"<TrdCaptRpt RptID=\\\"580200\\\" TrdID=\\\"39484241991\\\" TransTyp=\\\"2\\\" RptTyp=\\\"2\\\" TrdTyp=\\\"2\\\" MtchID=\\\"36637027855\\\" PxTyp=\\\"10\\\" LastQty=\\\"45\\\" LastPx=\\\"300.9\\\" TrdDt=\\\"2023-01-02\\\" BizDt=\\\"2023-01-20\\\" TxnTm=\\\"2023-02-15T00:12:55.138-7:00\\\"><Hdr SID=\\\"MGEX\\\" TID=\\\"B509\\\" PosDup=\\\"Y\\\" PosRsnd=\\\"Y\\\" Snt=\\\"2023-02-15T00:12:55.160-7:00\\\"></Hdr><Instrmt Sym=\\\"TMP\\\" ID=\\\"IP0\\\" Src=\\\"H\\\" CFI=\\\"FCAPSX\\\" MMY=\\\"202305\\\" MatDt=\\\"2023-05-19\\\" Mult=\\\"70\\\" Exch=\\\"BTNL\\\"></Instrmt><RptSide Side=\\\"2\\\" Ccy=\\\"USD\\\" InptSrc=\\\"SY\\\" InptDev=\\\"API\\\" CustCpcty=\\\"2\\\" PosEfct=\\\"C\\\" ClOrdID=\\\"987NL\\\" MLegRptTyp=\\\"1\\\" AllocInd=\\\"1\\\" GrpID=\\\"18281000022\\\" AvgPxInd=\\\"1\\\"><Pty ID=\\\"MGEX\\\" R=\\\"21\\\"></Pty><Pty ID=\\\"210\\\" R=\\\"1\\\"></Pty><Pty ID=\\\"214\\\" R=\\\"4\\\"></Pty><Pty ID=\\\"bl-NL\\\" R=\\\"24\\\"><Sub ID=\\\"1\\\" Typ=\\\"26\\\"></Sub></Pty><Pty ID=\\\"400\\\" R=\\\"12\\\"></Pty><TrdRegTS TS=\\\"2023-02-15T12:25:13.326-7:00\\\" Typ=\\\"1\\\"></TrdRegTS></RptSide></TrdCaptRpt>\"\n        ],\n        \"semantic_type\": \"\",\n        \"description\": \"\"\n      }\n    },\n    {\n      \"column\": \"CCP_Message2\",\n      \"properties\": {\n        \"dtype\": \"string\",\n        \"num_unique_values\": 1000,\n        \"samples\": [\n          \"<AllocInstrAlert ID=\\\"580201\\\" TransTyp=\\\"0\\\" Typ=\\\"13\\\" GrpID=\\\"18281000022\\\" Side=\\\"2\\\" Qty=\\\"27\\\" GrpQty=\\\"27\\\" PxTyp=\\\"2\\\" AvgPx=\\\"540.698\\\" TrdDt=\\\"2023-01-05\\\" TxnTm=\\\"2023-04-11T00:12:55.138-6:00\\\" Stat=\\\"6\\\" AvgPxInd=\\\"0\\\" BizDt=\\\"2023-01-20\\\" TrdTyp=\\\"2\\\" CustCpcty=\\\"2\\\"><Hdr SID=\\\"MGEX\\\" TID=\\\"HBPL\\\" PosDup=\\\"N\\\" PosRsnd=\\\"N\\\" Snt=\\\"2023-04-11T00:12:55.165-6:00\\\"></Hdr><OrdAlloc ClOrdID=\\\"145\\\"></OrdAlloc><AllExc LastQty=\\\"27\\\" LastPx=\\\"540.698\\\" TrdID=\\\"27122592131\\\"></AllExc><Instrmt ID=\\\"LM\\\" CFI=\\\"APYBKL\\\" MMY=\\\"202305\\\" MatDt=\\\"2023-05-7\\\" Exch=\\\"BTNL\\\"></Instrmt><Pty ID=\\\"MGEX\\\" R=\\\"21\\\"></Pty><Pty ID=\\\"210\\\" R=\\\"1\\\"></Pty><Pty ID=\\\"140\\\" R=\\\"4\\\"></Pty><Pty ID=\\\"\\\" R=\\\"12\\\"></Pty><Pty ID=\\\"arij\\\" R=\\\"24\\\"><Sub ID=\\\"2\\\" Typ=\\\"26\\\"></Sub></Pty></AllocInstrAlert>\",\n          \"<AllocInstrAlert ID=\\\"580201\\\" TransTyp=\\\"0\\\" Typ=\\\"13\\\" GrpID=\\\"18281000022\\\" Side=\\\"1\\\" Qty=\\\"39\\\" GrpQty=\\\"39\\\" PxTyp=\\\"2\\\" AvgPx=\\\"540.698\\\" TrdDt=\\\"2023-01-05\\\" TxnTm=\\\"2023-03-20T00:12:55.138-7:00\\\" Stat=\\\"6\\\" AvgPxInd=\\\"0\\\" BizDt=\\\"2023-01-06\\\" TrdTyp=\\\"20\\\" CustCpcty=\\\"3\\\"><Hdr SID=\\\"MGEX\\\" TID=\\\"ABCD\\\" PosDup=\\\"Y\\\" PosRsnd=\\\"Y\\\" Snt=\\\"2023-03-20T00:12:55.165-7:00\\\"></Hdr><OrdAlloc ClOrdID=\\\"146ZBT\\\"></OrdAlloc><AllExc LastQty=\\\"39\\\" LastPx=\\\"540.698\\\" TrdID=\\\"21672246492\\\"></AllExc><Instrmt ID=\\\"BUI\\\" CFI=\\\"MKLPON\\\" MMY=\\\"202307\\\" MatDt=\\\"2023-07-20\\\" Exch=\\\"SNTL\\\"></Instrmt><Pty ID=\\\"MGEX\\\" R=\\\"21\\\"></Pty><Pty ID=\\\"210\\\" R=\\\"1\\\"></Pty><Pty ID=\\\"363\\\" R=\\\"4\\\"></Pty><Pty ID=\\\"\\\" R=\\\"12\\\"></Pty><Pty ID=\\\"Ahlem-110\\\" R=\\\"24\\\"><Sub ID=\\\"2\\\" Typ=\\\"26\\\"></Sub></Pty></AllocInstrAlert>\",\n          \"<AllocInstrAlert ID=\\\"580201\\\" TransTyp=\\\"0\\\" Typ=\\\"13\\\" GrpID=\\\"18281000022\\\" Side=\\\"2\\\" Qty=\\\"45\\\" GrpQty=\\\"45\\\" PxTyp=\\\"10\\\" AvgPx=\\\"300.9\\\" TrdDt=\\\"2023-01-02\\\" TxnTm=\\\"2023-02-15T00:12:55.138-7:00\\\" Stat=\\\"6\\\" AvgPxInd=\\\"1\\\" BizDt=\\\"2023-01-20\\\" TrdTyp=\\\"2\\\" CustCpcty=\\\"2\\\"><Hdr SID=\\\"MGEX\\\" TID=\\\"B509\\\" PosDup=\\\"Y\\\" PosRsnd=\\\"Y\\\" Snt=\\\"2023-02-15T00:12:55.165-7:00\\\"></Hdr><OrdAlloc ClOrdID=\\\"987NL\\\"></OrdAlloc><AllExc LastQty=\\\"45\\\" LastPx=\\\"300.9\\\" TrdID=\\\"39484241991\\\"></AllExc><Instrmt ID=\\\"IP0\\\" CFI=\\\"FCAPSX\\\" MMY=\\\"202305\\\" MatDt=\\\"2023-05-19\\\" Exch=\\\"BTNL\\\"></Instrmt><Pty ID=\\\"MGEX\\\" R=\\\"21\\\"></Pty><Pty ID=\\\"210\\\" R=\\\"1\\\"></Pty><Pty ID=\\\"214\\\" R=\\\"4\\\"></Pty><Pty ID=\\\"\\\" R=\\\"12\\\"></Pty><Pty ID=\\\"bl-NL\\\" R=\\\"24\\\"><Sub ID=\\\"1\\\" Typ=\\\"26\\\"></Sub></Pty></AllocInstrAlert>\"\n        ],\n        \"semantic_type\": \"\",\n        \"description\": \"\"\n      }\n    }\n  ]\n}"
            }
          },
          "metadata": {},
          "execution_count": 153
        }
      ]
    },
    {
      "cell_type": "markdown",
      "source": [
        "**Creating a new column input_message by concatenating Trade_message and SGW_Operation and updating the DataFrame to retain only input_message and the two CCP Messages**"
      ],
      "metadata": {
        "id": "0x4TFgfY7iBo"
      }
    },
    {
      "cell_type": "code",
      "source": [
        "df1 = df.copy()"
      ],
      "metadata": {
        "id": "qufzN007ggf7"
      },
      "execution_count": null,
      "outputs": []
    },
    {
      "cell_type": "code",
      "source": [
        "def concat_columns(df):\n",
        "    df['input_message'] = df['Trade_message'] + ' ' + df['SGW_Operation']\n",
        "    df.drop(['Trade_message', 'SGW_Operation'], axis=1, inplace=True)\n",
        "    return df"
      ],
      "metadata": {
        "id": "iV5aaKwkgkNH"
      },
      "execution_count": null,
      "outputs": []
    },
    {
      "cell_type": "code",
      "source": [
        "df1 = concat_columns(df1)\n",
        "df1.head()"
      ],
      "metadata": {
        "colab": {
          "base_uri": "https://localhost:8080/",
          "height": 206
        },
        "id": "5-CEbtjYgnNF",
        "outputId": "52d1475f-c98e-48eb-ed98-21da50b6b869"
      },
      "execution_count": null,
      "outputs": [
        {
          "output_type": "execute_result",
          "data": {
            "text/plain": [
              "                                        CCP_Message1  \\\n",
              "0  <TrdCaptRpt RptID=\"580200\" TrdID=\"30243976111\"...   \n",
              "1  <TrdCaptRpt RptID=\"580200\" TrdID=\"32315822401\"...   \n",
              "2  <TrdCaptRpt RptID=\"580200\" TrdID=\"29434319842\"...   \n",
              "3  <TrdCaptRpt RptID=\"580200\" TrdID=\"38640498786\"...   \n",
              "4  <TrdCaptRpt RptID=\"580200\" TrdID=\"26183116997\"...   \n",
              "\n",
              "                                        CCP_Message2  \\\n",
              "0  <AllocInstrAlert ID=\"580201\" TransTyp=\"0\" Typ=...   \n",
              "1  <AllocInstrAlert ID=\"580201\" TransTyp=\"0\" Typ=...   \n",
              "2  <AllocInstrAlert ID=\"580201\" TransTyp=\"0\" Typ=...   \n",
              "3  <AllocInstrAlert ID=\"580201\" TransTyp=\"0\" Typ=...   \n",
              "4  <AllocInstrAlert ID=\"580201\" TransTyp=\"0\" Typ=...   \n",
              "\n",
              "                                       input_message  \n",
              "0  <TrdCaptRpt RptID=\"277918\" TrdID=\"30243976111\"...  \n",
              "1  <TrdCaptRpt RptID=\"174684\" TrdID=\"32315822401\"...  \n",
              "2  <TrdCaptRpt RptID=\"381195\" TrdID=\"29434319842\"...  \n",
              "3  <TrdCaptRpt RptID=\"130471\" TrdID=\"38640498786\"...  \n",
              "4  <TrdCaptRpt RptID=\"26789\" TrdID=\"26183116997\" ...  "
            ],
            "text/html": [
              "\n",
              "  <div id=\"df-459dc2bd-753d-4504-9b66-1eaba80a39cf\" class=\"colab-df-container\">\n",
              "    <div>\n",
              "<style scoped>\n",
              "    .dataframe tbody tr th:only-of-type {\n",
              "        vertical-align: middle;\n",
              "    }\n",
              "\n",
              "    .dataframe tbody tr th {\n",
              "        vertical-align: top;\n",
              "    }\n",
              "\n",
              "    .dataframe thead th {\n",
              "        text-align: right;\n",
              "    }\n",
              "</style>\n",
              "<table border=\"1\" class=\"dataframe\">\n",
              "  <thead>\n",
              "    <tr style=\"text-align: right;\">\n",
              "      <th></th>\n",
              "      <th>CCP_Message1</th>\n",
              "      <th>CCP_Message2</th>\n",
              "      <th>input_message</th>\n",
              "    </tr>\n",
              "  </thead>\n",
              "  <tbody>\n",
              "    <tr>\n",
              "      <th>0</th>\n",
              "      <td>&lt;TrdCaptRpt RptID=\"580200\" TrdID=\"30243976111\"...</td>\n",
              "      <td>&lt;AllocInstrAlert ID=\"580201\" TransTyp=\"0\" Typ=...</td>\n",
              "      <td>&lt;TrdCaptRpt RptID=\"277918\" TrdID=\"30243976111\"...</td>\n",
              "    </tr>\n",
              "    <tr>\n",
              "      <th>1</th>\n",
              "      <td>&lt;TrdCaptRpt RptID=\"580200\" TrdID=\"32315822401\"...</td>\n",
              "      <td>&lt;AllocInstrAlert ID=\"580201\" TransTyp=\"0\" Typ=...</td>\n",
              "      <td>&lt;TrdCaptRpt RptID=\"174684\" TrdID=\"32315822401\"...</td>\n",
              "    </tr>\n",
              "    <tr>\n",
              "      <th>2</th>\n",
              "      <td>&lt;TrdCaptRpt RptID=\"580200\" TrdID=\"29434319842\"...</td>\n",
              "      <td>&lt;AllocInstrAlert ID=\"580201\" TransTyp=\"0\" Typ=...</td>\n",
              "      <td>&lt;TrdCaptRpt RptID=\"381195\" TrdID=\"29434319842\"...</td>\n",
              "    </tr>\n",
              "    <tr>\n",
              "      <th>3</th>\n",
              "      <td>&lt;TrdCaptRpt RptID=\"580200\" TrdID=\"38640498786\"...</td>\n",
              "      <td>&lt;AllocInstrAlert ID=\"580201\" TransTyp=\"0\" Typ=...</td>\n",
              "      <td>&lt;TrdCaptRpt RptID=\"130471\" TrdID=\"38640498786\"...</td>\n",
              "    </tr>\n",
              "    <tr>\n",
              "      <th>4</th>\n",
              "      <td>&lt;TrdCaptRpt RptID=\"580200\" TrdID=\"26183116997\"...</td>\n",
              "      <td>&lt;AllocInstrAlert ID=\"580201\" TransTyp=\"0\" Typ=...</td>\n",
              "      <td>&lt;TrdCaptRpt RptID=\"26789\" TrdID=\"26183116997\" ...</td>\n",
              "    </tr>\n",
              "  </tbody>\n",
              "</table>\n",
              "</div>\n",
              "    <div class=\"colab-df-buttons\">\n",
              "\n",
              "  <div class=\"colab-df-container\">\n",
              "    <button class=\"colab-df-convert\" onclick=\"convertToInteractive('df-459dc2bd-753d-4504-9b66-1eaba80a39cf')\"\n",
              "            title=\"Convert this dataframe to an interactive table.\"\n",
              "            style=\"display:none;\">\n",
              "\n",
              "  <svg xmlns=\"http://www.w3.org/2000/svg\" height=\"24px\" viewBox=\"0 -960 960 960\">\n",
              "    <path d=\"M120-120v-720h720v720H120Zm60-500h600v-160H180v160Zm220 220h160v-160H400v160Zm0 220h160v-160H400v160ZM180-400h160v-160H180v160Zm440 0h160v-160H620v160ZM180-180h160v-160H180v160Zm440 0h160v-160H620v160Z\"/>\n",
              "  </svg>\n",
              "    </button>\n",
              "\n",
              "  <style>\n",
              "    .colab-df-container {\n",
              "      display:flex;\n",
              "      gap: 12px;\n",
              "    }\n",
              "\n",
              "    .colab-df-convert {\n",
              "      background-color: #E8F0FE;\n",
              "      border: none;\n",
              "      border-radius: 50%;\n",
              "      cursor: pointer;\n",
              "      display: none;\n",
              "      fill: #1967D2;\n",
              "      height: 32px;\n",
              "      padding: 0 0 0 0;\n",
              "      width: 32px;\n",
              "    }\n",
              "\n",
              "    .colab-df-convert:hover {\n",
              "      background-color: #E2EBFA;\n",
              "      box-shadow: 0px 1px 2px rgba(60, 64, 67, 0.3), 0px 1px 3px 1px rgba(60, 64, 67, 0.15);\n",
              "      fill: #174EA6;\n",
              "    }\n",
              "\n",
              "    .colab-df-buttons div {\n",
              "      margin-bottom: 4px;\n",
              "    }\n",
              "\n",
              "    [theme=dark] .colab-df-convert {\n",
              "      background-color: #3B4455;\n",
              "      fill: #D2E3FC;\n",
              "    }\n",
              "\n",
              "    [theme=dark] .colab-df-convert:hover {\n",
              "      background-color: #434B5C;\n",
              "      box-shadow: 0px 1px 3px 1px rgba(0, 0, 0, 0.15);\n",
              "      filter: drop-shadow(0px 1px 2px rgba(0, 0, 0, 0.3));\n",
              "      fill: #FFFFFF;\n",
              "    }\n",
              "  </style>\n",
              "\n",
              "    <script>\n",
              "      const buttonEl =\n",
              "        document.querySelector('#df-459dc2bd-753d-4504-9b66-1eaba80a39cf button.colab-df-convert');\n",
              "      buttonEl.style.display =\n",
              "        google.colab.kernel.accessAllowed ? 'block' : 'none';\n",
              "\n",
              "      async function convertToInteractive(key) {\n",
              "        const element = document.querySelector('#df-459dc2bd-753d-4504-9b66-1eaba80a39cf');\n",
              "        const dataTable =\n",
              "          await google.colab.kernel.invokeFunction('convertToInteractive',\n",
              "                                                    [key], {});\n",
              "        if (!dataTable) return;\n",
              "\n",
              "        const docLinkHtml = 'Like what you see? Visit the ' +\n",
              "          '<a target=\"_blank\" href=https://colab.research.google.com/notebooks/data_table.ipynb>data table notebook</a>'\n",
              "          + ' to learn more about interactive tables.';\n",
              "        element.innerHTML = '';\n",
              "        dataTable['output_type'] = 'display_data';\n",
              "        await google.colab.output.renderOutput(dataTable, element);\n",
              "        const docLink = document.createElement('div');\n",
              "        docLink.innerHTML = docLinkHtml;\n",
              "        element.appendChild(docLink);\n",
              "      }\n",
              "    </script>\n",
              "  </div>\n",
              "\n",
              "\n",
              "<div id=\"df-3dafb71b-9578-4326-afb5-26100f8a4e44\">\n",
              "  <button class=\"colab-df-quickchart\" onclick=\"quickchart('df-3dafb71b-9578-4326-afb5-26100f8a4e44')\"\n",
              "            title=\"Suggest charts\"\n",
              "            style=\"display:none;\">\n",
              "\n",
              "<svg xmlns=\"http://www.w3.org/2000/svg\" height=\"24px\"viewBox=\"0 0 24 24\"\n",
              "     width=\"24px\">\n",
              "    <g>\n",
              "        <path d=\"M19 3H5c-1.1 0-2 .9-2 2v14c0 1.1.9 2 2 2h14c1.1 0 2-.9 2-2V5c0-1.1-.9-2-2-2zM9 17H7v-7h2v7zm4 0h-2V7h2v10zm4 0h-2v-4h2v4z\"/>\n",
              "    </g>\n",
              "</svg>\n",
              "  </button>\n",
              "\n",
              "<style>\n",
              "  .colab-df-quickchart {\n",
              "      --bg-color: #E8F0FE;\n",
              "      --fill-color: #1967D2;\n",
              "      --hover-bg-color: #E2EBFA;\n",
              "      --hover-fill-color: #174EA6;\n",
              "      --disabled-fill-color: #AAA;\n",
              "      --disabled-bg-color: #DDD;\n",
              "  }\n",
              "\n",
              "  [theme=dark] .colab-df-quickchart {\n",
              "      --bg-color: #3B4455;\n",
              "      --fill-color: #D2E3FC;\n",
              "      --hover-bg-color: #434B5C;\n",
              "      --hover-fill-color: #FFFFFF;\n",
              "      --disabled-bg-color: #3B4455;\n",
              "      --disabled-fill-color: #666;\n",
              "  }\n",
              "\n",
              "  .colab-df-quickchart {\n",
              "    background-color: var(--bg-color);\n",
              "    border: none;\n",
              "    border-radius: 50%;\n",
              "    cursor: pointer;\n",
              "    display: none;\n",
              "    fill: var(--fill-color);\n",
              "    height: 32px;\n",
              "    padding: 0;\n",
              "    width: 32px;\n",
              "  }\n",
              "\n",
              "  .colab-df-quickchart:hover {\n",
              "    background-color: var(--hover-bg-color);\n",
              "    box-shadow: 0 1px 2px rgba(60, 64, 67, 0.3), 0 1px 3px 1px rgba(60, 64, 67, 0.15);\n",
              "    fill: var(--button-hover-fill-color);\n",
              "  }\n",
              "\n",
              "  .colab-df-quickchart-complete:disabled,\n",
              "  .colab-df-quickchart-complete:disabled:hover {\n",
              "    background-color: var(--disabled-bg-color);\n",
              "    fill: var(--disabled-fill-color);\n",
              "    box-shadow: none;\n",
              "  }\n",
              "\n",
              "  .colab-df-spinner {\n",
              "    border: 2px solid var(--fill-color);\n",
              "    border-color: transparent;\n",
              "    border-bottom-color: var(--fill-color);\n",
              "    animation:\n",
              "      spin 1s steps(1) infinite;\n",
              "  }\n",
              "\n",
              "  @keyframes spin {\n",
              "    0% {\n",
              "      border-color: transparent;\n",
              "      border-bottom-color: var(--fill-color);\n",
              "      border-left-color: var(--fill-color);\n",
              "    }\n",
              "    20% {\n",
              "      border-color: transparent;\n",
              "      border-left-color: var(--fill-color);\n",
              "      border-top-color: var(--fill-color);\n",
              "    }\n",
              "    30% {\n",
              "      border-color: transparent;\n",
              "      border-left-color: var(--fill-color);\n",
              "      border-top-color: var(--fill-color);\n",
              "      border-right-color: var(--fill-color);\n",
              "    }\n",
              "    40% {\n",
              "      border-color: transparent;\n",
              "      border-right-color: var(--fill-color);\n",
              "      border-top-color: var(--fill-color);\n",
              "    }\n",
              "    60% {\n",
              "      border-color: transparent;\n",
              "      border-right-color: var(--fill-color);\n",
              "    }\n",
              "    80% {\n",
              "      border-color: transparent;\n",
              "      border-right-color: var(--fill-color);\n",
              "      border-bottom-color: var(--fill-color);\n",
              "    }\n",
              "    90% {\n",
              "      border-color: transparent;\n",
              "      border-bottom-color: var(--fill-color);\n",
              "    }\n",
              "  }\n",
              "</style>\n",
              "\n",
              "  <script>\n",
              "    async function quickchart(key) {\n",
              "      const quickchartButtonEl =\n",
              "        document.querySelector('#' + key + ' button');\n",
              "      quickchartButtonEl.disabled = true;  // To prevent multiple clicks.\n",
              "      quickchartButtonEl.classList.add('colab-df-spinner');\n",
              "      try {\n",
              "        const charts = await google.colab.kernel.invokeFunction(\n",
              "            'suggestCharts', [key], {});\n",
              "      } catch (error) {\n",
              "        console.error('Error during call to suggestCharts:', error);\n",
              "      }\n",
              "      quickchartButtonEl.classList.remove('colab-df-spinner');\n",
              "      quickchartButtonEl.classList.add('colab-df-quickchart-complete');\n",
              "    }\n",
              "    (() => {\n",
              "      let quickchartButtonEl =\n",
              "        document.querySelector('#df-3dafb71b-9578-4326-afb5-26100f8a4e44 button');\n",
              "      quickchartButtonEl.style.display =\n",
              "        google.colab.kernel.accessAllowed ? 'block' : 'none';\n",
              "    })();\n",
              "  </script>\n",
              "</div>\n",
              "\n",
              "    </div>\n",
              "  </div>\n"
            ],
            "application/vnd.google.colaboratory.intrinsic+json": {
              "type": "dataframe",
              "variable_name": "df1",
              "summary": "{\n  \"name\": \"df1\",\n  \"rows\": 1000,\n  \"fields\": [\n    {\n      \"column\": \"CCP_Message1\",\n      \"properties\": {\n        \"dtype\": \"string\",\n        \"num_unique_values\": 1000,\n        \"samples\": [\n          \"<TrdCaptRpt RptID=\\\"580200\\\" TrdID=\\\"27122592131\\\" TransTyp=\\\"2\\\" RptTyp=\\\"2\\\" TrdTyp=\\\"2\\\" MtchID=\\\"22303742605\\\" PxTyp=\\\"2\\\" LastQty=\\\"27\\\" LastPx=\\\"540.698\\\" TrdDt=\\\"2023-01-05\\\" BizDt=\\\"2023-01-20\\\" TxnTm=\\\"2023-04-11T00:12:55.138-6:00\\\"><Hdr SID=\\\"MGEX\\\" TID=\\\"HBPL\\\" PosDup=\\\"N\\\" PosRsnd=\\\"N\\\" Snt=\\\"2023-04-11T00:12:55.160-6:00\\\"></Hdr><Instrmt Sym=\\\"ABP\\\" ID=\\\"LM\\\" Src=\\\"H\\\" CFI=\\\"APYBKL\\\" MMY=\\\"202305\\\" MatDt=\\\"2023-05-7\\\" Mult=\\\"0.3\\\" Exch=\\\"BTNL\\\"></Instrmt><RptSide Side=\\\"2\\\" Ccy=\\\"USD\\\" InptSrc=\\\"MA\\\" InptDev=\\\"EXCHANGE\\\" CustCpcty=\\\"2\\\" PosEfct=\\\"C\\\" ClOrdID=\\\"145\\\" MLegRptTyp=\\\"2\\\" AllocInd=\\\"1\\\" GrpID=\\\"18281000022\\\" AvgPxInd=\\\"0\\\"><Pty ID=\\\"MGEX\\\" R=\\\"21\\\"></Pty><Pty ID=\\\"210\\\" R=\\\"1\\\"></Pty><Pty ID=\\\"140\\\" R=\\\"4\\\"></Pty><Pty ID=\\\"arij\\\" R=\\\"24\\\"><Sub ID=\\\"2\\\" Typ=\\\"26\\\"></Sub></Pty><Pty ID=\\\"100\\\" R=\\\"12\\\"></Pty><TrdRegTS TS=\\\"2023-04-11T12:25:13.230-6:00\\\" Typ=\\\"1\\\"></TrdRegTS></RptSide></TrdCaptRpt>\",\n          \"<TrdCaptRpt RptID=\\\"580200\\\" TrdID=\\\"21672246492\\\" TransTyp=\\\"2\\\" RptTyp=\\\"2\\\" TrdTyp=\\\"20\\\" MtchID=\\\"25820551006\\\" PxTyp=\\\"2\\\" LastQty=\\\"39\\\" LastPx=\\\"540.698\\\" TrdDt=\\\"2023-01-05\\\" BizDt=\\\"2023-01-06\\\" TxnTm=\\\"2023-03-20T00:12:55.138-7:00\\\"><Hdr SID=\\\"MGEX\\\" TID=\\\"ABCD\\\" PosDup=\\\"Y\\\" PosRsnd=\\\"Y\\\" Snt=\\\"2023-03-20T00:12:55.160-7:00\\\"></Hdr><Instrmt Sym=\\\"ABP\\\" ID=\\\"BUI\\\" Src=\\\"H\\\" CFI=\\\"MKLPON\\\" MMY=\\\"202307\\\" MatDt=\\\"2023-07-20\\\" Mult=\\\"0.3\\\" Exch=\\\"SNTL\\\"></Instrmt><RptSide Side=\\\"1\\\" Ccy=\\\"USD\\\" InptSrc=\\\"EL\\\" InptDev=\\\"API\\\" CustCpcty=\\\"3\\\" PosEfct=\\\"O\\\" ClOrdID=\\\"146ZBT\\\" MLegRptTyp=\\\"3\\\" AllocInd=\\\"1\\\" GrpID=\\\"18281000022\\\" AvgPxInd=\\\"0\\\"><Pty ID=\\\"MGEX\\\" R=\\\"21\\\"></Pty><Pty ID=\\\"210\\\" R=\\\"1\\\"></Pty><Pty ID=\\\"363\\\" R=\\\"4\\\"></Pty><Pty ID=\\\"Ahlem-110\\\" R=\\\"24\\\"><Sub ID=\\\"2\\\" Typ=\\\"26\\\"></Sub></Pty><Pty ID=\\\"100\\\" R=\\\"12\\\"></Pty><TrdRegTS TS=\\\"2023-03-20T10:18:15.100-7:00\\\" Typ=\\\"1\\\"></TrdRegTS></RptSide></TrdCaptRpt>\",\n          \"<TrdCaptRpt RptID=\\\"580200\\\" TrdID=\\\"39484241991\\\" TransTyp=\\\"2\\\" RptTyp=\\\"2\\\" TrdTyp=\\\"2\\\" MtchID=\\\"36637027855\\\" PxTyp=\\\"10\\\" LastQty=\\\"45\\\" LastPx=\\\"300.9\\\" TrdDt=\\\"2023-01-02\\\" BizDt=\\\"2023-01-20\\\" TxnTm=\\\"2023-02-15T00:12:55.138-7:00\\\"><Hdr SID=\\\"MGEX\\\" TID=\\\"B509\\\" PosDup=\\\"Y\\\" PosRsnd=\\\"Y\\\" Snt=\\\"2023-02-15T00:12:55.160-7:00\\\"></Hdr><Instrmt Sym=\\\"TMP\\\" ID=\\\"IP0\\\" Src=\\\"H\\\" CFI=\\\"FCAPSX\\\" MMY=\\\"202305\\\" MatDt=\\\"2023-05-19\\\" Mult=\\\"70\\\" Exch=\\\"BTNL\\\"></Instrmt><RptSide Side=\\\"2\\\" Ccy=\\\"USD\\\" InptSrc=\\\"SY\\\" InptDev=\\\"API\\\" CustCpcty=\\\"2\\\" PosEfct=\\\"C\\\" ClOrdID=\\\"987NL\\\" MLegRptTyp=\\\"1\\\" AllocInd=\\\"1\\\" GrpID=\\\"18281000022\\\" AvgPxInd=\\\"1\\\"><Pty ID=\\\"MGEX\\\" R=\\\"21\\\"></Pty><Pty ID=\\\"210\\\" R=\\\"1\\\"></Pty><Pty ID=\\\"214\\\" R=\\\"4\\\"></Pty><Pty ID=\\\"bl-NL\\\" R=\\\"24\\\"><Sub ID=\\\"1\\\" Typ=\\\"26\\\"></Sub></Pty><Pty ID=\\\"400\\\" R=\\\"12\\\"></Pty><TrdRegTS TS=\\\"2023-02-15T12:25:13.326-7:00\\\" Typ=\\\"1\\\"></TrdRegTS></RptSide></TrdCaptRpt>\"\n        ],\n        \"semantic_type\": \"\",\n        \"description\": \"\"\n      }\n    },\n    {\n      \"column\": \"CCP_Message2\",\n      \"properties\": {\n        \"dtype\": \"string\",\n        \"num_unique_values\": 1000,\n        \"samples\": [\n          \"<AllocInstrAlert ID=\\\"580201\\\" TransTyp=\\\"0\\\" Typ=\\\"13\\\" GrpID=\\\"18281000022\\\" Side=\\\"2\\\" Qty=\\\"27\\\" GrpQty=\\\"27\\\" PxTyp=\\\"2\\\" AvgPx=\\\"540.698\\\" TrdDt=\\\"2023-01-05\\\" TxnTm=\\\"2023-04-11T00:12:55.138-6:00\\\" Stat=\\\"6\\\" AvgPxInd=\\\"0\\\" BizDt=\\\"2023-01-20\\\" TrdTyp=\\\"2\\\" CustCpcty=\\\"2\\\"><Hdr SID=\\\"MGEX\\\" TID=\\\"HBPL\\\" PosDup=\\\"N\\\" PosRsnd=\\\"N\\\" Snt=\\\"2023-04-11T00:12:55.165-6:00\\\"></Hdr><OrdAlloc ClOrdID=\\\"145\\\"></OrdAlloc><AllExc LastQty=\\\"27\\\" LastPx=\\\"540.698\\\" TrdID=\\\"27122592131\\\"></AllExc><Instrmt ID=\\\"LM\\\" CFI=\\\"APYBKL\\\" MMY=\\\"202305\\\" MatDt=\\\"2023-05-7\\\" Exch=\\\"BTNL\\\"></Instrmt><Pty ID=\\\"MGEX\\\" R=\\\"21\\\"></Pty><Pty ID=\\\"210\\\" R=\\\"1\\\"></Pty><Pty ID=\\\"140\\\" R=\\\"4\\\"></Pty><Pty ID=\\\"\\\" R=\\\"12\\\"></Pty><Pty ID=\\\"arij\\\" R=\\\"24\\\"><Sub ID=\\\"2\\\" Typ=\\\"26\\\"></Sub></Pty></AllocInstrAlert>\",\n          \"<AllocInstrAlert ID=\\\"580201\\\" TransTyp=\\\"0\\\" Typ=\\\"13\\\" GrpID=\\\"18281000022\\\" Side=\\\"1\\\" Qty=\\\"39\\\" GrpQty=\\\"39\\\" PxTyp=\\\"2\\\" AvgPx=\\\"540.698\\\" TrdDt=\\\"2023-01-05\\\" TxnTm=\\\"2023-03-20T00:12:55.138-7:00\\\" Stat=\\\"6\\\" AvgPxInd=\\\"0\\\" BizDt=\\\"2023-01-06\\\" TrdTyp=\\\"20\\\" CustCpcty=\\\"3\\\"><Hdr SID=\\\"MGEX\\\" TID=\\\"ABCD\\\" PosDup=\\\"Y\\\" PosRsnd=\\\"Y\\\" Snt=\\\"2023-03-20T00:12:55.165-7:00\\\"></Hdr><OrdAlloc ClOrdID=\\\"146ZBT\\\"></OrdAlloc><AllExc LastQty=\\\"39\\\" LastPx=\\\"540.698\\\" TrdID=\\\"21672246492\\\"></AllExc><Instrmt ID=\\\"BUI\\\" CFI=\\\"MKLPON\\\" MMY=\\\"202307\\\" MatDt=\\\"2023-07-20\\\" Exch=\\\"SNTL\\\"></Instrmt><Pty ID=\\\"MGEX\\\" R=\\\"21\\\"></Pty><Pty ID=\\\"210\\\" R=\\\"1\\\"></Pty><Pty ID=\\\"363\\\" R=\\\"4\\\"></Pty><Pty ID=\\\"\\\" R=\\\"12\\\"></Pty><Pty ID=\\\"Ahlem-110\\\" R=\\\"24\\\"><Sub ID=\\\"2\\\" Typ=\\\"26\\\"></Sub></Pty></AllocInstrAlert>\",\n          \"<AllocInstrAlert ID=\\\"580201\\\" TransTyp=\\\"0\\\" Typ=\\\"13\\\" GrpID=\\\"18281000022\\\" Side=\\\"2\\\" Qty=\\\"45\\\" GrpQty=\\\"45\\\" PxTyp=\\\"10\\\" AvgPx=\\\"300.9\\\" TrdDt=\\\"2023-01-02\\\" TxnTm=\\\"2023-02-15T00:12:55.138-7:00\\\" Stat=\\\"6\\\" AvgPxInd=\\\"1\\\" BizDt=\\\"2023-01-20\\\" TrdTyp=\\\"2\\\" CustCpcty=\\\"2\\\"><Hdr SID=\\\"MGEX\\\" TID=\\\"B509\\\" PosDup=\\\"Y\\\" PosRsnd=\\\"Y\\\" Snt=\\\"2023-02-15T00:12:55.165-7:00\\\"></Hdr><OrdAlloc ClOrdID=\\\"987NL\\\"></OrdAlloc><AllExc LastQty=\\\"45\\\" LastPx=\\\"300.9\\\" TrdID=\\\"39484241991\\\"></AllExc><Instrmt ID=\\\"IP0\\\" CFI=\\\"FCAPSX\\\" MMY=\\\"202305\\\" MatDt=\\\"2023-05-19\\\" Exch=\\\"BTNL\\\"></Instrmt><Pty ID=\\\"MGEX\\\" R=\\\"21\\\"></Pty><Pty ID=\\\"210\\\" R=\\\"1\\\"></Pty><Pty ID=\\\"214\\\" R=\\\"4\\\"></Pty><Pty ID=\\\"\\\" R=\\\"12\\\"></Pty><Pty ID=\\\"bl-NL\\\" R=\\\"24\\\"><Sub ID=\\\"1\\\" Typ=\\\"26\\\"></Sub></Pty></AllocInstrAlert>\"\n        ],\n        \"semantic_type\": \"\",\n        \"description\": \"\"\n      }\n    },\n    {\n      \"column\": \"input_message\",\n      \"properties\": {\n        \"dtype\": \"string\",\n        \"num_unique_values\": 1000,\n        \"samples\": [\n          \"<TrdCaptRpt RptID=\\\"285580\\\" TrdID=\\\"27122592131\\\" TransTyp=\\\"0\\\" RptTyp=\\\"2\\\" TrdTyp=\\\"2\\\" MtchID=\\\"22303742605\\\" PxTyp=\\\"2\\\" LastQty=\\\"27\\\" LastPx=\\\"540.698\\\" TrdDt=\\\"2023-01-05\\\" BizDt=\\\"2023-01-20\\\" TxnTm=\\\"2023-04-11T12:25:13.230-6:00\\\"><Hdr SID=\\\"MGEX\\\" TID=\\\"HBPL\\\" PosDup=\\\"N\\\" PosRsnd=\\\"N\\\" Snt=\\\"2023-04-11T12:25:13.470-6:00\\\"></Hdr><Instrmt Sym=\\\"ABP\\\" ID=\\\"LM\\\" Src=\\\"H\\\" CFI=\\\"APYBKL\\\" MMY=\\\"202305\\\" MatDt=\\\"2023-05-7\\\" Mult=\\\"0.3\\\" Exch=\\\"BTNL\\\"></Instrmt><RptSide Side=\\\"2\\\" Ccy=\\\"USD\\\" InptSrc=\\\"MA\\\" InptDev=\\\"EXCHANGE\\\" CustCpcty=\\\"2\\\" PosEfct=\\\"C\\\" ClOrdID=\\\"145\\\" MLegRptTyp=\\\"2\\\" AllocInd=\\\"0\\\"><Pty ID=\\\"MGEX\\\" R=\\\"21\\\"></Pty><Pty ID=\\\"210\\\" R=\\\"1\\\"></Pty><Pty ID=\\\"140\\\" R=\\\"4\\\"></Pty><Pty ID=\\\"arij\\\" R=\\\"24\\\"><Sub ID=\\\"2\\\" Typ=\\\"26\\\"></Sub></Pty><Pty ID=\\\"100\\\" R=\\\"12\\\"></Pty><TrdRegTS TS=\\\"2023-04-11T12:25:13.230-6:00\\\" Typ=\\\"1\\\"></TrdRegTS></RptSide></TrdCaptRpt> <TrdCaptRpt RptID=\\\"27122592131\\\" TrdDt=\\\"2023-01-05\\\" BizDt=\\\"2023-01-20\\\" TxnTm=\\\"2023-04-11T23:28:32.581-6:00\\\" TrdID=\\\"27122592131\\\" TransTyp=\\\"2\\\" RptTyp=\\\"0\\\" LastQty=\\\"27.0\\\" LastPx=\\\"540.698\\\"><Hdr Snt=\\\"2023-04-11T23:14:12.436+01:00\\\" TID=\\\"MGEX\\\" SID=\\\"HBPL\\\"/><Instrmt Exch=\\\"BTNL\\\" ID=\\\"LM\\\" MMY=\\\"202305\\\" CFI=\\\"APYBKL\\\"/><RptSide Side=\\\"2\\\" AvgPxInd=\\\"0\\\" AllocInd=\\\"1\\\" AllocGrpInst=\\\"1\\\"><Pty ID=\\\"210\\\" R=\\\"1\\\"/></RptSide></TrdCaptRpt>\",\n          \"<TrdCaptRpt RptID=\\\"220503\\\" TrdID=\\\"21672246492\\\" TransTyp=\\\"0\\\" RptTyp=\\\"2\\\" TrdTyp=\\\"20\\\" MtchID=\\\"25820551006\\\" PxTyp=\\\"2\\\" LastQty=\\\"39\\\" LastPx=\\\"540.698\\\" TrdDt=\\\"2023-01-05\\\" BizDt=\\\"2023-01-06\\\" TxnTm=\\\"2023-03-20T10:18:15.100-7:00\\\"><Hdr SID=\\\"MGEX\\\" TID=\\\"ABCD\\\" PosDup=\\\"Y\\\" PosRsnd=\\\"Y\\\" Snt=\\\"2023-03-20T10:18:15.768-7:00\\\"></Hdr><Instrmt Sym=\\\"ABP\\\" ID=\\\"BUI\\\" Src=\\\"H\\\" CFI=\\\"MKLPON\\\" MMY=\\\"202307\\\" MatDt=\\\"2023-07-20\\\" Mult=\\\"0.3\\\" Exch=\\\"SNTL\\\"></Instrmt><RptSide Side=\\\"1\\\" Ccy=\\\"USD\\\" InptSrc=\\\"EL\\\" InptDev=\\\"API\\\" CustCpcty=\\\"3\\\" PosEfct=\\\"O\\\" ClOrdID=\\\"146ZBT\\\" MLegRptTyp=\\\"3\\\" AllocInd=\\\"0\\\"><Pty ID=\\\"MGEX\\\" R=\\\"21\\\"></Pty><Pty ID=\\\"210\\\" R=\\\"1\\\"></Pty><Pty ID=\\\"363\\\" R=\\\"4\\\"></Pty><Pty ID=\\\"Ahlem-110\\\" R=\\\"24\\\"><Sub ID=\\\"2\\\" Typ=\\\"26\\\"></Sub></Pty><Pty ID=\\\"100\\\" R=\\\"12\\\"></Pty><TrdRegTS TS=\\\"2023-03-20T10:18:15.100-7:00\\\" Typ=\\\"1\\\"></TrdRegTS></RptSide></TrdCaptRpt> <TrdCaptRpt RptID=\\\"21672246492\\\" TrdDt=\\\"2023-01-05\\\" BizDt=\\\"2023-01-06\\\" TxnTm=\\\"2023-03-20T22:25:13.545-7:00\\\" TrdID=\\\"21672246492\\\" TransTyp=\\\"2\\\" RptTyp=\\\"0\\\" LastQty=\\\"39.0\\\" LastPx=\\\"540.698\\\"><Hdr Snt=\\\"2023-03-20T20:55:08.453+01:00\\\" TID=\\\"MGEX\\\" SID=\\\"ABCD\\\"/><Instrmt Exch=\\\"SNTL\\\" ID=\\\"BUI\\\" MMY=\\\"202307\\\" CFI=\\\"FCAPSX\\\"/><RptSide Side=\\\"1\\\" AvgPxInd=\\\"0\\\" AllocInd=\\\"1\\\" AllocGrpInst=\\\"0\\\"><Pty ID=\\\"210\\\" R=\\\"1\\\"/></RptSide></TrdCaptRpt>\",\n          \"<TrdCaptRpt RptID=\\\"98555\\\" TrdID=\\\"39484241991\\\" TransTyp=\\\"0\\\" RptTyp=\\\"2\\\" TrdTyp=\\\"2\\\" MtchID=\\\"36637027855\\\" PxTyp=\\\"10\\\" LastQty=\\\"45\\\" LastPx=\\\"300.9\\\" TrdDt=\\\"2023-01-02\\\" BizDt=\\\"2023-01-20\\\" TxnTm=\\\"2023-02-15T12:25:13.326-7:00\\\"><Hdr SID=\\\"MGEX\\\" TID=\\\"B509\\\" PosDup=\\\"Y\\\" PosRsnd=\\\"Y\\\" Snt=\\\"2023-02-15T12:25:13.768-7:00\\\"></Hdr><Instrmt Sym=\\\"TMP\\\" ID=\\\"IP0\\\" Src=\\\"H\\\" CFI=\\\"FCAPSX\\\" MMY=\\\"202305\\\" MatDt=\\\"2023-05-19\\\" Mult=\\\"70\\\" Exch=\\\"BTNL\\\"></Instrmt><RptSide Side=\\\"2\\\" Ccy=\\\"USD\\\" InptSrc=\\\"SY\\\" InptDev=\\\"API\\\" CustCpcty=\\\"2\\\" PosEfct=\\\"C\\\" ClOrdID=\\\"987NL\\\" MLegRptTyp=\\\"1\\\" AllocInd=\\\"0\\\"><Pty ID=\\\"MGEX\\\" R=\\\"21\\\"></Pty><Pty ID=\\\"210\\\" R=\\\"1\\\"></Pty><Pty ID=\\\"214\\\" R=\\\"4\\\"></Pty><Pty ID=\\\"bl-NL\\\" R=\\\"24\\\"><Sub ID=\\\"1\\\" Typ=\\\"26\\\"></Sub></Pty><Pty ID=\\\"400\\\" R=\\\"12\\\"></Pty><TrdRegTS TS=\\\"2023-02-15T12:25:13.326-7:00\\\" Typ=\\\"1\\\"></TrdRegTS></RptSide></TrdCaptRpt> <TrdCaptRpt RptID=\\\"39484241991\\\" TrdDt=\\\"2023-01-02\\\" BizDt=\\\"2023-01-20\\\" TxnTm=\\\"2023-02-15T20:33:05.393-7:00\\\" TrdID=\\\"39484241991\\\" TransTyp=\\\"2\\\" RptTyp=\\\"0\\\" LastQty=\\\"45.0\\\" LastPx=\\\"300.9\\\"><Hdr Snt=\\\"2023-02-15T23:14:12.436+01:00\\\" TID=\\\"MGEX\\\" SID=\\\"B509\\\"/><Instrmt Exch=\\\"BTNL\\\" ID=\\\"IP0\\\" MMY=\\\"202305\\\" CFI=\\\"APYBKL\\\"/><RptSide Side=\\\"2\\\" AvgPxInd=\\\"1\\\" AllocInd=\\\"1\\\" AllocGrpInst=\\\"0\\\"><Pty ID=\\\"210\\\" R=\\\"1\\\"/></RptSide></TrdCaptRpt>\"\n        ],\n        \"semantic_type\": \"\",\n        \"description\": \"\"\n      }\n    }\n  ]\n}"
            }
          },
          "metadata": {},
          "execution_count": 156
        }
      ]
    },
    {
      "cell_type": "code",
      "source": [
        "df1['input_message'].iloc[0]"
      ],
      "metadata": {
        "colab": {
          "base_uri": "https://localhost:8080/",
          "height": 123
        },
        "id": "OxdFNiazgqVz",
        "outputId": "88fb8c2a-824d-4628-d3e6-e42337bfc497"
      },
      "execution_count": null,
      "outputs": [
        {
          "output_type": "execute_result",
          "data": {
            "text/plain": [
              "'<TrdCaptRpt RptID=\"277918\" TrdID=\"30243976111\" TransTyp=\"0\" RptTyp=\"2\" TrdTyp=\"20\" MtchID=\"38116767312\" PxTyp=\"2\" LastQty=\"22\" LastPx=\"300.9\" TrdDt=\"2023-01-05\" BizDt=\"2023-02-10\" TxnTm=\"2023-04-11T05:17:30.100-6:00\"><Hdr SID=\"MGEX\" TID=\"ABCD\" PosDup=\"Y\" PosRsnd=\"Y\" Snt=\"2023-04-11T05:17:30.768-6:00\"></Hdr><Instrmt Sym=\"ABP\" ID=\"IP0\" Src=\"H\" CFI=\"FCCPXX\" MMY=\"202305\" MatDt=\"2023-05-3\" Mult=\"50\" Exch=\"BTNL\"></Instrmt><RptSide Side=\"2\" Ccy=\"USD\" InptSrc=\"EL\" InptDev=\"API\" CustCpcty=\"1\" PosEfct=\"C\" ClOrdID=\"146ZBT\" MLegRptTyp=\"1\" AllocInd=\"0\"><Pty ID=\"MGEX\" R=\"21\"></Pty><Pty ID=\"210\" R=\"1\"></Pty><Pty ID=\"356\" R=\"4\"></Pty><Pty ID=\"bl-NL\" R=\"24\"><Sub ID=\"1\" Typ=\"26\"></Sub></Pty><Pty ID=\"200\" R=\"12\"></Pty><TrdRegTS TS=\"2023-04-11T05:17:30.100-6:00\" Typ=\"1\"></TrdRegTS></RptSide></TrdCaptRpt> <TrdCaptRpt RptID=\"30243976111\" TrdDt=\"2023-01-05\" BizDt=\"2023-02-10\" TxnTm=\"2023-04-11T18:35:55.700-6:00\" TrdID=\"30243976111\" TransTyp=\"2\" RptTyp=\"0\" LastQty=\"22.0\" LastPx=\"300.9\"><Hdr Snt=\"2023-04-11T23:14:12.436+01:00\" TID=\"MGEX\" SID=\"ABCD\"/><Instrmt Exch=\"BTNL\" ID=\"IP0\" MMY=\"202305\" CFI=\"FCCPXX\"/><RptSide Side=\"2\" AvgPxInd=\"1\" AllocInd=\"1\" AllocGrpInst=\"1\"><Pty ID=\"210\" R=\"1\"/></RptSide></TrdCaptRpt>'"
            ],
            "application/vnd.google.colaboratory.intrinsic+json": {
              "type": "string"
            }
          },
          "metadata": {},
          "execution_count": 157
        }
      ]
    },
    {
      "cell_type": "markdown",
      "source": [
        "**Cleaning the input_message by removing certain special characters (<, \\ ,\", /) and Replacing > with a space**"
      ],
      "metadata": {
        "id": "3b7ijfIl7ycx"
      }
    },
    {
      "cell_type": "code",
      "source": [
        "import re"
      ],
      "metadata": {
        "id": "tFe4R0cXgtU2"
      },
      "execution_count": null,
      "outputs": []
    },
    {
      "cell_type": "code",
      "source": [
        "def clean_sequence(input_text):\n",
        "    pattern = r'[<\\\"/]'\n",
        "    cleaned_seq1 = re.sub(pattern, '', input_text)\n",
        "    cleaned_seq = cleaned_seq1.replace('>',' ')\n",
        "    return cleaned_seq"
      ],
      "metadata": {
        "id": "228kxMqdgwkh"
      },
      "execution_count": null,
      "outputs": []
    },
    {
      "cell_type": "code",
      "source": [
        "df2 = df1.copy()"
      ],
      "metadata": {
        "id": "rAK_RgZVgzC-"
      },
      "execution_count": null,
      "outputs": []
    },
    {
      "cell_type": "code",
      "source": [
        "df2['cleaned_input_message'] = df2['input_message'].apply(clean_sequence)\n",
        "df2 = df2.drop('input_message',axis=1)"
      ],
      "metadata": {
        "id": "AGWMujRFg1Ns"
      },
      "execution_count": null,
      "outputs": []
    },
    {
      "cell_type": "code",
      "source": [
        "df2.head()"
      ],
      "metadata": {
        "colab": {
          "base_uri": "https://localhost:8080/",
          "height": 206
        },
        "id": "-m9wmFVng4DD",
        "outputId": "cbb3ed20-2da0-4642-ee40-456bfa781e2a"
      },
      "execution_count": null,
      "outputs": [
        {
          "output_type": "execute_result",
          "data": {
            "text/plain": [
              "                                        CCP_Message1  \\\n",
              "0  <TrdCaptRpt RptID=\"580200\" TrdID=\"30243976111\"...   \n",
              "1  <TrdCaptRpt RptID=\"580200\" TrdID=\"32315822401\"...   \n",
              "2  <TrdCaptRpt RptID=\"580200\" TrdID=\"29434319842\"...   \n",
              "3  <TrdCaptRpt RptID=\"580200\" TrdID=\"38640498786\"...   \n",
              "4  <TrdCaptRpt RptID=\"580200\" TrdID=\"26183116997\"...   \n",
              "\n",
              "                                        CCP_Message2  \\\n",
              "0  <AllocInstrAlert ID=\"580201\" TransTyp=\"0\" Typ=...   \n",
              "1  <AllocInstrAlert ID=\"580201\" TransTyp=\"0\" Typ=...   \n",
              "2  <AllocInstrAlert ID=\"580201\" TransTyp=\"0\" Typ=...   \n",
              "3  <AllocInstrAlert ID=\"580201\" TransTyp=\"0\" Typ=...   \n",
              "4  <AllocInstrAlert ID=\"580201\" TransTyp=\"0\" Typ=...   \n",
              "\n",
              "                               cleaned_input_message  \n",
              "0  TrdCaptRpt RptID=277918 TrdID=30243976111 Tran...  \n",
              "1  TrdCaptRpt RptID=174684 TrdID=32315822401 Tran...  \n",
              "2  TrdCaptRpt RptID=381195 TrdID=29434319842 Tran...  \n",
              "3  TrdCaptRpt RptID=130471 TrdID=38640498786 Tran...  \n",
              "4  TrdCaptRpt RptID=26789 TrdID=26183116997 Trans...  "
            ],
            "text/html": [
              "\n",
              "  <div id=\"df-c465137f-d89a-48ab-ac49-e6df929f27cb\" class=\"colab-df-container\">\n",
              "    <div>\n",
              "<style scoped>\n",
              "    .dataframe tbody tr th:only-of-type {\n",
              "        vertical-align: middle;\n",
              "    }\n",
              "\n",
              "    .dataframe tbody tr th {\n",
              "        vertical-align: top;\n",
              "    }\n",
              "\n",
              "    .dataframe thead th {\n",
              "        text-align: right;\n",
              "    }\n",
              "</style>\n",
              "<table border=\"1\" class=\"dataframe\">\n",
              "  <thead>\n",
              "    <tr style=\"text-align: right;\">\n",
              "      <th></th>\n",
              "      <th>CCP_Message1</th>\n",
              "      <th>CCP_Message2</th>\n",
              "      <th>cleaned_input_message</th>\n",
              "    </tr>\n",
              "  </thead>\n",
              "  <tbody>\n",
              "    <tr>\n",
              "      <th>0</th>\n",
              "      <td>&lt;TrdCaptRpt RptID=\"580200\" TrdID=\"30243976111\"...</td>\n",
              "      <td>&lt;AllocInstrAlert ID=\"580201\" TransTyp=\"0\" Typ=...</td>\n",
              "      <td>TrdCaptRpt RptID=277918 TrdID=30243976111 Tran...</td>\n",
              "    </tr>\n",
              "    <tr>\n",
              "      <th>1</th>\n",
              "      <td>&lt;TrdCaptRpt RptID=\"580200\" TrdID=\"32315822401\"...</td>\n",
              "      <td>&lt;AllocInstrAlert ID=\"580201\" TransTyp=\"0\" Typ=...</td>\n",
              "      <td>TrdCaptRpt RptID=174684 TrdID=32315822401 Tran...</td>\n",
              "    </tr>\n",
              "    <tr>\n",
              "      <th>2</th>\n",
              "      <td>&lt;TrdCaptRpt RptID=\"580200\" TrdID=\"29434319842\"...</td>\n",
              "      <td>&lt;AllocInstrAlert ID=\"580201\" TransTyp=\"0\" Typ=...</td>\n",
              "      <td>TrdCaptRpt RptID=381195 TrdID=29434319842 Tran...</td>\n",
              "    </tr>\n",
              "    <tr>\n",
              "      <th>3</th>\n",
              "      <td>&lt;TrdCaptRpt RptID=\"580200\" TrdID=\"38640498786\"...</td>\n",
              "      <td>&lt;AllocInstrAlert ID=\"580201\" TransTyp=\"0\" Typ=...</td>\n",
              "      <td>TrdCaptRpt RptID=130471 TrdID=38640498786 Tran...</td>\n",
              "    </tr>\n",
              "    <tr>\n",
              "      <th>4</th>\n",
              "      <td>&lt;TrdCaptRpt RptID=\"580200\" TrdID=\"26183116997\"...</td>\n",
              "      <td>&lt;AllocInstrAlert ID=\"580201\" TransTyp=\"0\" Typ=...</td>\n",
              "      <td>TrdCaptRpt RptID=26789 TrdID=26183116997 Trans...</td>\n",
              "    </tr>\n",
              "  </tbody>\n",
              "</table>\n",
              "</div>\n",
              "    <div class=\"colab-df-buttons\">\n",
              "\n",
              "  <div class=\"colab-df-container\">\n",
              "    <button class=\"colab-df-convert\" onclick=\"convertToInteractive('df-c465137f-d89a-48ab-ac49-e6df929f27cb')\"\n",
              "            title=\"Convert this dataframe to an interactive table.\"\n",
              "            style=\"display:none;\">\n",
              "\n",
              "  <svg xmlns=\"http://www.w3.org/2000/svg\" height=\"24px\" viewBox=\"0 -960 960 960\">\n",
              "    <path d=\"M120-120v-720h720v720H120Zm60-500h600v-160H180v160Zm220 220h160v-160H400v160Zm0 220h160v-160H400v160ZM180-400h160v-160H180v160Zm440 0h160v-160H620v160ZM180-180h160v-160H180v160Zm440 0h160v-160H620v160Z\"/>\n",
              "  </svg>\n",
              "    </button>\n",
              "\n",
              "  <style>\n",
              "    .colab-df-container {\n",
              "      display:flex;\n",
              "      gap: 12px;\n",
              "    }\n",
              "\n",
              "    .colab-df-convert {\n",
              "      background-color: #E8F0FE;\n",
              "      border: none;\n",
              "      border-radius: 50%;\n",
              "      cursor: pointer;\n",
              "      display: none;\n",
              "      fill: #1967D2;\n",
              "      height: 32px;\n",
              "      padding: 0 0 0 0;\n",
              "      width: 32px;\n",
              "    }\n",
              "\n",
              "    .colab-df-convert:hover {\n",
              "      background-color: #E2EBFA;\n",
              "      box-shadow: 0px 1px 2px rgba(60, 64, 67, 0.3), 0px 1px 3px 1px rgba(60, 64, 67, 0.15);\n",
              "      fill: #174EA6;\n",
              "    }\n",
              "\n",
              "    .colab-df-buttons div {\n",
              "      margin-bottom: 4px;\n",
              "    }\n",
              "\n",
              "    [theme=dark] .colab-df-convert {\n",
              "      background-color: #3B4455;\n",
              "      fill: #D2E3FC;\n",
              "    }\n",
              "\n",
              "    [theme=dark] .colab-df-convert:hover {\n",
              "      background-color: #434B5C;\n",
              "      box-shadow: 0px 1px 3px 1px rgba(0, 0, 0, 0.15);\n",
              "      filter: drop-shadow(0px 1px 2px rgba(0, 0, 0, 0.3));\n",
              "      fill: #FFFFFF;\n",
              "    }\n",
              "  </style>\n",
              "\n",
              "    <script>\n",
              "      const buttonEl =\n",
              "        document.querySelector('#df-c465137f-d89a-48ab-ac49-e6df929f27cb button.colab-df-convert');\n",
              "      buttonEl.style.display =\n",
              "        google.colab.kernel.accessAllowed ? 'block' : 'none';\n",
              "\n",
              "      async function convertToInteractive(key) {\n",
              "        const element = document.querySelector('#df-c465137f-d89a-48ab-ac49-e6df929f27cb');\n",
              "        const dataTable =\n",
              "          await google.colab.kernel.invokeFunction('convertToInteractive',\n",
              "                                                    [key], {});\n",
              "        if (!dataTable) return;\n",
              "\n",
              "        const docLinkHtml = 'Like what you see? Visit the ' +\n",
              "          '<a target=\"_blank\" href=https://colab.research.google.com/notebooks/data_table.ipynb>data table notebook</a>'\n",
              "          + ' to learn more about interactive tables.';\n",
              "        element.innerHTML = '';\n",
              "        dataTable['output_type'] = 'display_data';\n",
              "        await google.colab.output.renderOutput(dataTable, element);\n",
              "        const docLink = document.createElement('div');\n",
              "        docLink.innerHTML = docLinkHtml;\n",
              "        element.appendChild(docLink);\n",
              "      }\n",
              "    </script>\n",
              "  </div>\n",
              "\n",
              "\n",
              "<div id=\"df-e6ca509f-4c88-4f8d-96db-c4434e0e450d\">\n",
              "  <button class=\"colab-df-quickchart\" onclick=\"quickchart('df-e6ca509f-4c88-4f8d-96db-c4434e0e450d')\"\n",
              "            title=\"Suggest charts\"\n",
              "            style=\"display:none;\">\n",
              "\n",
              "<svg xmlns=\"http://www.w3.org/2000/svg\" height=\"24px\"viewBox=\"0 0 24 24\"\n",
              "     width=\"24px\">\n",
              "    <g>\n",
              "        <path d=\"M19 3H5c-1.1 0-2 .9-2 2v14c0 1.1.9 2 2 2h14c1.1 0 2-.9 2-2V5c0-1.1-.9-2-2-2zM9 17H7v-7h2v7zm4 0h-2V7h2v10zm4 0h-2v-4h2v4z\"/>\n",
              "    </g>\n",
              "</svg>\n",
              "  </button>\n",
              "\n",
              "<style>\n",
              "  .colab-df-quickchart {\n",
              "      --bg-color: #E8F0FE;\n",
              "      --fill-color: #1967D2;\n",
              "      --hover-bg-color: #E2EBFA;\n",
              "      --hover-fill-color: #174EA6;\n",
              "      --disabled-fill-color: #AAA;\n",
              "      --disabled-bg-color: #DDD;\n",
              "  }\n",
              "\n",
              "  [theme=dark] .colab-df-quickchart {\n",
              "      --bg-color: #3B4455;\n",
              "      --fill-color: #D2E3FC;\n",
              "      --hover-bg-color: #434B5C;\n",
              "      --hover-fill-color: #FFFFFF;\n",
              "      --disabled-bg-color: #3B4455;\n",
              "      --disabled-fill-color: #666;\n",
              "  }\n",
              "\n",
              "  .colab-df-quickchart {\n",
              "    background-color: var(--bg-color);\n",
              "    border: none;\n",
              "    border-radius: 50%;\n",
              "    cursor: pointer;\n",
              "    display: none;\n",
              "    fill: var(--fill-color);\n",
              "    height: 32px;\n",
              "    padding: 0;\n",
              "    width: 32px;\n",
              "  }\n",
              "\n",
              "  .colab-df-quickchart:hover {\n",
              "    background-color: var(--hover-bg-color);\n",
              "    box-shadow: 0 1px 2px rgba(60, 64, 67, 0.3), 0 1px 3px 1px rgba(60, 64, 67, 0.15);\n",
              "    fill: var(--button-hover-fill-color);\n",
              "  }\n",
              "\n",
              "  .colab-df-quickchart-complete:disabled,\n",
              "  .colab-df-quickchart-complete:disabled:hover {\n",
              "    background-color: var(--disabled-bg-color);\n",
              "    fill: var(--disabled-fill-color);\n",
              "    box-shadow: none;\n",
              "  }\n",
              "\n",
              "  .colab-df-spinner {\n",
              "    border: 2px solid var(--fill-color);\n",
              "    border-color: transparent;\n",
              "    border-bottom-color: var(--fill-color);\n",
              "    animation:\n",
              "      spin 1s steps(1) infinite;\n",
              "  }\n",
              "\n",
              "  @keyframes spin {\n",
              "    0% {\n",
              "      border-color: transparent;\n",
              "      border-bottom-color: var(--fill-color);\n",
              "      border-left-color: var(--fill-color);\n",
              "    }\n",
              "    20% {\n",
              "      border-color: transparent;\n",
              "      border-left-color: var(--fill-color);\n",
              "      border-top-color: var(--fill-color);\n",
              "    }\n",
              "    30% {\n",
              "      border-color: transparent;\n",
              "      border-left-color: var(--fill-color);\n",
              "      border-top-color: var(--fill-color);\n",
              "      border-right-color: var(--fill-color);\n",
              "    }\n",
              "    40% {\n",
              "      border-color: transparent;\n",
              "      border-right-color: var(--fill-color);\n",
              "      border-top-color: var(--fill-color);\n",
              "    }\n",
              "    60% {\n",
              "      border-color: transparent;\n",
              "      border-right-color: var(--fill-color);\n",
              "    }\n",
              "    80% {\n",
              "      border-color: transparent;\n",
              "      border-right-color: var(--fill-color);\n",
              "      border-bottom-color: var(--fill-color);\n",
              "    }\n",
              "    90% {\n",
              "      border-color: transparent;\n",
              "      border-bottom-color: var(--fill-color);\n",
              "    }\n",
              "  }\n",
              "</style>\n",
              "\n",
              "  <script>\n",
              "    async function quickchart(key) {\n",
              "      const quickchartButtonEl =\n",
              "        document.querySelector('#' + key + ' button');\n",
              "      quickchartButtonEl.disabled = true;  // To prevent multiple clicks.\n",
              "      quickchartButtonEl.classList.add('colab-df-spinner');\n",
              "      try {\n",
              "        const charts = await google.colab.kernel.invokeFunction(\n",
              "            'suggestCharts', [key], {});\n",
              "      } catch (error) {\n",
              "        console.error('Error during call to suggestCharts:', error);\n",
              "      }\n",
              "      quickchartButtonEl.classList.remove('colab-df-spinner');\n",
              "      quickchartButtonEl.classList.add('colab-df-quickchart-complete');\n",
              "    }\n",
              "    (() => {\n",
              "      let quickchartButtonEl =\n",
              "        document.querySelector('#df-e6ca509f-4c88-4f8d-96db-c4434e0e450d button');\n",
              "      quickchartButtonEl.style.display =\n",
              "        google.colab.kernel.accessAllowed ? 'block' : 'none';\n",
              "    })();\n",
              "  </script>\n",
              "</div>\n",
              "\n",
              "    </div>\n",
              "  </div>\n"
            ],
            "application/vnd.google.colaboratory.intrinsic+json": {
              "type": "dataframe",
              "variable_name": "df2",
              "summary": "{\n  \"name\": \"df2\",\n  \"rows\": 1000,\n  \"fields\": [\n    {\n      \"column\": \"CCP_Message1\",\n      \"properties\": {\n        \"dtype\": \"string\",\n        \"num_unique_values\": 1000,\n        \"samples\": [\n          \"<TrdCaptRpt RptID=\\\"580200\\\" TrdID=\\\"27122592131\\\" TransTyp=\\\"2\\\" RptTyp=\\\"2\\\" TrdTyp=\\\"2\\\" MtchID=\\\"22303742605\\\" PxTyp=\\\"2\\\" LastQty=\\\"27\\\" LastPx=\\\"540.698\\\" TrdDt=\\\"2023-01-05\\\" BizDt=\\\"2023-01-20\\\" TxnTm=\\\"2023-04-11T00:12:55.138-6:00\\\"><Hdr SID=\\\"MGEX\\\" TID=\\\"HBPL\\\" PosDup=\\\"N\\\" PosRsnd=\\\"N\\\" Snt=\\\"2023-04-11T00:12:55.160-6:00\\\"></Hdr><Instrmt Sym=\\\"ABP\\\" ID=\\\"LM\\\" Src=\\\"H\\\" CFI=\\\"APYBKL\\\" MMY=\\\"202305\\\" MatDt=\\\"2023-05-7\\\" Mult=\\\"0.3\\\" Exch=\\\"BTNL\\\"></Instrmt><RptSide Side=\\\"2\\\" Ccy=\\\"USD\\\" InptSrc=\\\"MA\\\" InptDev=\\\"EXCHANGE\\\" CustCpcty=\\\"2\\\" PosEfct=\\\"C\\\" ClOrdID=\\\"145\\\" MLegRptTyp=\\\"2\\\" AllocInd=\\\"1\\\" GrpID=\\\"18281000022\\\" AvgPxInd=\\\"0\\\"><Pty ID=\\\"MGEX\\\" R=\\\"21\\\"></Pty><Pty ID=\\\"210\\\" R=\\\"1\\\"></Pty><Pty ID=\\\"140\\\" R=\\\"4\\\"></Pty><Pty ID=\\\"arij\\\" R=\\\"24\\\"><Sub ID=\\\"2\\\" Typ=\\\"26\\\"></Sub></Pty><Pty ID=\\\"100\\\" R=\\\"12\\\"></Pty><TrdRegTS TS=\\\"2023-04-11T12:25:13.230-6:00\\\" Typ=\\\"1\\\"></TrdRegTS></RptSide></TrdCaptRpt>\",\n          \"<TrdCaptRpt RptID=\\\"580200\\\" TrdID=\\\"21672246492\\\" TransTyp=\\\"2\\\" RptTyp=\\\"2\\\" TrdTyp=\\\"20\\\" MtchID=\\\"25820551006\\\" PxTyp=\\\"2\\\" LastQty=\\\"39\\\" LastPx=\\\"540.698\\\" TrdDt=\\\"2023-01-05\\\" BizDt=\\\"2023-01-06\\\" TxnTm=\\\"2023-03-20T00:12:55.138-7:00\\\"><Hdr SID=\\\"MGEX\\\" TID=\\\"ABCD\\\" PosDup=\\\"Y\\\" PosRsnd=\\\"Y\\\" Snt=\\\"2023-03-20T00:12:55.160-7:00\\\"></Hdr><Instrmt Sym=\\\"ABP\\\" ID=\\\"BUI\\\" Src=\\\"H\\\" CFI=\\\"MKLPON\\\" MMY=\\\"202307\\\" MatDt=\\\"2023-07-20\\\" Mult=\\\"0.3\\\" Exch=\\\"SNTL\\\"></Instrmt><RptSide Side=\\\"1\\\" Ccy=\\\"USD\\\" InptSrc=\\\"EL\\\" InptDev=\\\"API\\\" CustCpcty=\\\"3\\\" PosEfct=\\\"O\\\" ClOrdID=\\\"146ZBT\\\" MLegRptTyp=\\\"3\\\" AllocInd=\\\"1\\\" GrpID=\\\"18281000022\\\" AvgPxInd=\\\"0\\\"><Pty ID=\\\"MGEX\\\" R=\\\"21\\\"></Pty><Pty ID=\\\"210\\\" R=\\\"1\\\"></Pty><Pty ID=\\\"363\\\" R=\\\"4\\\"></Pty><Pty ID=\\\"Ahlem-110\\\" R=\\\"24\\\"><Sub ID=\\\"2\\\" Typ=\\\"26\\\"></Sub></Pty><Pty ID=\\\"100\\\" R=\\\"12\\\"></Pty><TrdRegTS TS=\\\"2023-03-20T10:18:15.100-7:00\\\" Typ=\\\"1\\\"></TrdRegTS></RptSide></TrdCaptRpt>\",\n          \"<TrdCaptRpt RptID=\\\"580200\\\" TrdID=\\\"39484241991\\\" TransTyp=\\\"2\\\" RptTyp=\\\"2\\\" TrdTyp=\\\"2\\\" MtchID=\\\"36637027855\\\" PxTyp=\\\"10\\\" LastQty=\\\"45\\\" LastPx=\\\"300.9\\\" TrdDt=\\\"2023-01-02\\\" BizDt=\\\"2023-01-20\\\" TxnTm=\\\"2023-02-15T00:12:55.138-7:00\\\"><Hdr SID=\\\"MGEX\\\" TID=\\\"B509\\\" PosDup=\\\"Y\\\" PosRsnd=\\\"Y\\\" Snt=\\\"2023-02-15T00:12:55.160-7:00\\\"></Hdr><Instrmt Sym=\\\"TMP\\\" ID=\\\"IP0\\\" Src=\\\"H\\\" CFI=\\\"FCAPSX\\\" MMY=\\\"202305\\\" MatDt=\\\"2023-05-19\\\" Mult=\\\"70\\\" Exch=\\\"BTNL\\\"></Instrmt><RptSide Side=\\\"2\\\" Ccy=\\\"USD\\\" InptSrc=\\\"SY\\\" InptDev=\\\"API\\\" CustCpcty=\\\"2\\\" PosEfct=\\\"C\\\" ClOrdID=\\\"987NL\\\" MLegRptTyp=\\\"1\\\" AllocInd=\\\"1\\\" GrpID=\\\"18281000022\\\" AvgPxInd=\\\"1\\\"><Pty ID=\\\"MGEX\\\" R=\\\"21\\\"></Pty><Pty ID=\\\"210\\\" R=\\\"1\\\"></Pty><Pty ID=\\\"214\\\" R=\\\"4\\\"></Pty><Pty ID=\\\"bl-NL\\\" R=\\\"24\\\"><Sub ID=\\\"1\\\" Typ=\\\"26\\\"></Sub></Pty><Pty ID=\\\"400\\\" R=\\\"12\\\"></Pty><TrdRegTS TS=\\\"2023-02-15T12:25:13.326-7:00\\\" Typ=\\\"1\\\"></TrdRegTS></RptSide></TrdCaptRpt>\"\n        ],\n        \"semantic_type\": \"\",\n        \"description\": \"\"\n      }\n    },\n    {\n      \"column\": \"CCP_Message2\",\n      \"properties\": {\n        \"dtype\": \"string\",\n        \"num_unique_values\": 1000,\n        \"samples\": [\n          \"<AllocInstrAlert ID=\\\"580201\\\" TransTyp=\\\"0\\\" Typ=\\\"13\\\" GrpID=\\\"18281000022\\\" Side=\\\"2\\\" Qty=\\\"27\\\" GrpQty=\\\"27\\\" PxTyp=\\\"2\\\" AvgPx=\\\"540.698\\\" TrdDt=\\\"2023-01-05\\\" TxnTm=\\\"2023-04-11T00:12:55.138-6:00\\\" Stat=\\\"6\\\" AvgPxInd=\\\"0\\\" BizDt=\\\"2023-01-20\\\" TrdTyp=\\\"2\\\" CustCpcty=\\\"2\\\"><Hdr SID=\\\"MGEX\\\" TID=\\\"HBPL\\\" PosDup=\\\"N\\\" PosRsnd=\\\"N\\\" Snt=\\\"2023-04-11T00:12:55.165-6:00\\\"></Hdr><OrdAlloc ClOrdID=\\\"145\\\"></OrdAlloc><AllExc LastQty=\\\"27\\\" LastPx=\\\"540.698\\\" TrdID=\\\"27122592131\\\"></AllExc><Instrmt ID=\\\"LM\\\" CFI=\\\"APYBKL\\\" MMY=\\\"202305\\\" MatDt=\\\"2023-05-7\\\" Exch=\\\"BTNL\\\"></Instrmt><Pty ID=\\\"MGEX\\\" R=\\\"21\\\"></Pty><Pty ID=\\\"210\\\" R=\\\"1\\\"></Pty><Pty ID=\\\"140\\\" R=\\\"4\\\"></Pty><Pty ID=\\\"\\\" R=\\\"12\\\"></Pty><Pty ID=\\\"arij\\\" R=\\\"24\\\"><Sub ID=\\\"2\\\" Typ=\\\"26\\\"></Sub></Pty></AllocInstrAlert>\",\n          \"<AllocInstrAlert ID=\\\"580201\\\" TransTyp=\\\"0\\\" Typ=\\\"13\\\" GrpID=\\\"18281000022\\\" Side=\\\"1\\\" Qty=\\\"39\\\" GrpQty=\\\"39\\\" PxTyp=\\\"2\\\" AvgPx=\\\"540.698\\\" TrdDt=\\\"2023-01-05\\\" TxnTm=\\\"2023-03-20T00:12:55.138-7:00\\\" Stat=\\\"6\\\" AvgPxInd=\\\"0\\\" BizDt=\\\"2023-01-06\\\" TrdTyp=\\\"20\\\" CustCpcty=\\\"3\\\"><Hdr SID=\\\"MGEX\\\" TID=\\\"ABCD\\\" PosDup=\\\"Y\\\" PosRsnd=\\\"Y\\\" Snt=\\\"2023-03-20T00:12:55.165-7:00\\\"></Hdr><OrdAlloc ClOrdID=\\\"146ZBT\\\"></OrdAlloc><AllExc LastQty=\\\"39\\\" LastPx=\\\"540.698\\\" TrdID=\\\"21672246492\\\"></AllExc><Instrmt ID=\\\"BUI\\\" CFI=\\\"MKLPON\\\" MMY=\\\"202307\\\" MatDt=\\\"2023-07-20\\\" Exch=\\\"SNTL\\\"></Instrmt><Pty ID=\\\"MGEX\\\" R=\\\"21\\\"></Pty><Pty ID=\\\"210\\\" R=\\\"1\\\"></Pty><Pty ID=\\\"363\\\" R=\\\"4\\\"></Pty><Pty ID=\\\"\\\" R=\\\"12\\\"></Pty><Pty ID=\\\"Ahlem-110\\\" R=\\\"24\\\"><Sub ID=\\\"2\\\" Typ=\\\"26\\\"></Sub></Pty></AllocInstrAlert>\",\n          \"<AllocInstrAlert ID=\\\"580201\\\" TransTyp=\\\"0\\\" Typ=\\\"13\\\" GrpID=\\\"18281000022\\\" Side=\\\"2\\\" Qty=\\\"45\\\" GrpQty=\\\"45\\\" PxTyp=\\\"10\\\" AvgPx=\\\"300.9\\\" TrdDt=\\\"2023-01-02\\\" TxnTm=\\\"2023-02-15T00:12:55.138-7:00\\\" Stat=\\\"6\\\" AvgPxInd=\\\"1\\\" BizDt=\\\"2023-01-20\\\" TrdTyp=\\\"2\\\" CustCpcty=\\\"2\\\"><Hdr SID=\\\"MGEX\\\" TID=\\\"B509\\\" PosDup=\\\"Y\\\" PosRsnd=\\\"Y\\\" Snt=\\\"2023-02-15T00:12:55.165-7:00\\\"></Hdr><OrdAlloc ClOrdID=\\\"987NL\\\"></OrdAlloc><AllExc LastQty=\\\"45\\\" LastPx=\\\"300.9\\\" TrdID=\\\"39484241991\\\"></AllExc><Instrmt ID=\\\"IP0\\\" CFI=\\\"FCAPSX\\\" MMY=\\\"202305\\\" MatDt=\\\"2023-05-19\\\" Exch=\\\"BTNL\\\"></Instrmt><Pty ID=\\\"MGEX\\\" R=\\\"21\\\"></Pty><Pty ID=\\\"210\\\" R=\\\"1\\\"></Pty><Pty ID=\\\"214\\\" R=\\\"4\\\"></Pty><Pty ID=\\\"\\\" R=\\\"12\\\"></Pty><Pty ID=\\\"bl-NL\\\" R=\\\"24\\\"><Sub ID=\\\"1\\\" Typ=\\\"26\\\"></Sub></Pty></AllocInstrAlert>\"\n        ],\n        \"semantic_type\": \"\",\n        \"description\": \"\"\n      }\n    },\n    {\n      \"column\": \"cleaned_input_message\",\n      \"properties\": {\n        \"dtype\": \"string\",\n        \"num_unique_values\": 1000,\n        \"samples\": [\n          \"TrdCaptRpt RptID=285580 TrdID=27122592131 TransTyp=0 RptTyp=2 TrdTyp=2 MtchID=22303742605 PxTyp=2 LastQty=27 LastPx=540.698 TrdDt=2023-01-05 BizDt=2023-01-20 TxnTm=2023-04-11T12:25:13.230-6:00 Hdr SID=MGEX TID=HBPL PosDup=N PosRsnd=N Snt=2023-04-11T12:25:13.470-6:00 Hdr Instrmt Sym=ABP ID=LM Src=H CFI=APYBKL MMY=202305 MatDt=2023-05-7 Mult=0.3 Exch=BTNL Instrmt RptSide Side=2 Ccy=USD InptSrc=MA InptDev=EXCHANGE CustCpcty=2 PosEfct=C ClOrdID=145 MLegRptTyp=2 AllocInd=0 Pty ID=MGEX R=21 Pty Pty ID=210 R=1 Pty Pty ID=140 R=4 Pty Pty ID=arij R=24 Sub ID=2 Typ=26 Sub Pty Pty ID=100 R=12 Pty TrdRegTS TS=2023-04-11T12:25:13.230-6:00 Typ=1 TrdRegTS RptSide TrdCaptRpt  TrdCaptRpt RptID=27122592131 TrdDt=2023-01-05 BizDt=2023-01-20 TxnTm=2023-04-11T23:28:32.581-6:00 TrdID=27122592131 TransTyp=2 RptTyp=0 LastQty=27.0 LastPx=540.698 Hdr Snt=2023-04-11T23:14:12.436+01:00 TID=MGEX SID=HBPL Instrmt Exch=BTNL ID=LM MMY=202305 CFI=APYBKL RptSide Side=2 AvgPxInd=0 AllocInd=1 AllocGrpInst=1 Pty ID=210 R=1 RptSide TrdCaptRpt \",\n          \"TrdCaptRpt RptID=220503 TrdID=21672246492 TransTyp=0 RptTyp=2 TrdTyp=20 MtchID=25820551006 PxTyp=2 LastQty=39 LastPx=540.698 TrdDt=2023-01-05 BizDt=2023-01-06 TxnTm=2023-03-20T10:18:15.100-7:00 Hdr SID=MGEX TID=ABCD PosDup=Y PosRsnd=Y Snt=2023-03-20T10:18:15.768-7:00 Hdr Instrmt Sym=ABP ID=BUI Src=H CFI=MKLPON MMY=202307 MatDt=2023-07-20 Mult=0.3 Exch=SNTL Instrmt RptSide Side=1 Ccy=USD InptSrc=EL InptDev=API CustCpcty=3 PosEfct=O ClOrdID=146ZBT MLegRptTyp=3 AllocInd=0 Pty ID=MGEX R=21 Pty Pty ID=210 R=1 Pty Pty ID=363 R=4 Pty Pty ID=Ahlem-110 R=24 Sub ID=2 Typ=26 Sub Pty Pty ID=100 R=12 Pty TrdRegTS TS=2023-03-20T10:18:15.100-7:00 Typ=1 TrdRegTS RptSide TrdCaptRpt  TrdCaptRpt RptID=21672246492 TrdDt=2023-01-05 BizDt=2023-01-06 TxnTm=2023-03-20T22:25:13.545-7:00 TrdID=21672246492 TransTyp=2 RptTyp=0 LastQty=39.0 LastPx=540.698 Hdr Snt=2023-03-20T20:55:08.453+01:00 TID=MGEX SID=ABCD Instrmt Exch=SNTL ID=BUI MMY=202307 CFI=FCAPSX RptSide Side=1 AvgPxInd=0 AllocInd=1 AllocGrpInst=0 Pty ID=210 R=1 RptSide TrdCaptRpt \",\n          \"TrdCaptRpt RptID=98555 TrdID=39484241991 TransTyp=0 RptTyp=2 TrdTyp=2 MtchID=36637027855 PxTyp=10 LastQty=45 LastPx=300.9 TrdDt=2023-01-02 BizDt=2023-01-20 TxnTm=2023-02-15T12:25:13.326-7:00 Hdr SID=MGEX TID=B509 PosDup=Y PosRsnd=Y Snt=2023-02-15T12:25:13.768-7:00 Hdr Instrmt Sym=TMP ID=IP0 Src=H CFI=FCAPSX MMY=202305 MatDt=2023-05-19 Mult=70 Exch=BTNL Instrmt RptSide Side=2 Ccy=USD InptSrc=SY InptDev=API CustCpcty=2 PosEfct=C ClOrdID=987NL MLegRptTyp=1 AllocInd=0 Pty ID=MGEX R=21 Pty Pty ID=210 R=1 Pty Pty ID=214 R=4 Pty Pty ID=bl-NL R=24 Sub ID=1 Typ=26 Sub Pty Pty ID=400 R=12 Pty TrdRegTS TS=2023-02-15T12:25:13.326-7:00 Typ=1 TrdRegTS RptSide TrdCaptRpt  TrdCaptRpt RptID=39484241991 TrdDt=2023-01-02 BizDt=2023-01-20 TxnTm=2023-02-15T20:33:05.393-7:00 TrdID=39484241991 TransTyp=2 RptTyp=0 LastQty=45.0 LastPx=300.9 Hdr Snt=2023-02-15T23:14:12.436+01:00 TID=MGEX SID=B509 Instrmt Exch=BTNL ID=IP0 MMY=202305 CFI=APYBKL RptSide Side=2 AvgPxInd=1 AllocInd=1 AllocGrpInst=0 Pty ID=210 R=1 RptSide TrdCaptRpt \"\n        ],\n        \"semantic_type\": \"\",\n        \"description\": \"\"\n      }\n    }\n  ]\n}"
            }
          },
          "metadata": {},
          "execution_count": 162
        }
      ]
    },
    {
      "cell_type": "code",
      "source": [
        "df2['cleaned_input_message'].iloc[0]"
      ],
      "metadata": {
        "colab": {
          "base_uri": "https://localhost:8080/",
          "height": 123
        },
        "id": "2uXwBbjyg7jz",
        "outputId": "92ab83ab-c868-4f9a-86da-25532bdebaa9"
      },
      "execution_count": null,
      "outputs": [
        {
          "output_type": "execute_result",
          "data": {
            "text/plain": [
              "'TrdCaptRpt RptID=277918 TrdID=30243976111 TransTyp=0 RptTyp=2 TrdTyp=20 MtchID=38116767312 PxTyp=2 LastQty=22 LastPx=300.9 TrdDt=2023-01-05 BizDt=2023-02-10 TxnTm=2023-04-11T05:17:30.100-6:00 Hdr SID=MGEX TID=ABCD PosDup=Y PosRsnd=Y Snt=2023-04-11T05:17:30.768-6:00 Hdr Instrmt Sym=ABP ID=IP0 Src=H CFI=FCCPXX MMY=202305 MatDt=2023-05-3 Mult=50 Exch=BTNL Instrmt RptSide Side=2 Ccy=USD InptSrc=EL InptDev=API CustCpcty=1 PosEfct=C ClOrdID=146ZBT MLegRptTyp=1 AllocInd=0 Pty ID=MGEX R=21 Pty Pty ID=210 R=1 Pty Pty ID=356 R=4 Pty Pty ID=bl-NL R=24 Sub ID=1 Typ=26 Sub Pty Pty ID=200 R=12 Pty TrdRegTS TS=2023-04-11T05:17:30.100-6:00 Typ=1 TrdRegTS RptSide TrdCaptRpt  TrdCaptRpt RptID=30243976111 TrdDt=2023-01-05 BizDt=2023-02-10 TxnTm=2023-04-11T18:35:55.700-6:00 TrdID=30243976111 TransTyp=2 RptTyp=0 LastQty=22.0 LastPx=300.9 Hdr Snt=2023-04-11T23:14:12.436+01:00 TID=MGEX SID=ABCD Instrmt Exch=BTNL ID=IP0 MMY=202305 CFI=FCCPXX RptSide Side=2 AvgPxInd=1 AllocInd=1 AllocGrpInst=1 Pty ID=210 R=1 RptSide TrdCaptRpt '"
            ],
            "application/vnd.google.colaboratory.intrinsic+json": {
              "type": "string"
            }
          },
          "metadata": {},
          "execution_count": 163
        }
      ]
    },
    {
      "cell_type": "markdown",
      "source": [
        "**Splitting Data into Training and Validation Sets**"
      ],
      "metadata": {
        "id": "wgbHcqlm8beo"
      }
    },
    {
      "cell_type": "code",
      "source": [
        "train_data = df2.iloc[:int(len(df2) * 0.9)]\n",
        "val_data = df2.iloc[int(len(df2) * 0.9):]"
      ],
      "metadata": {
        "id": "6pB8w6F-g92n"
      },
      "execution_count": null,
      "outputs": []
    },
    {
      "cell_type": "code",
      "source": [
        "train_data.shape"
      ],
      "metadata": {
        "colab": {
          "base_uri": "https://localhost:8080/"
        },
        "id": "KfSP0fWfhDBC",
        "outputId": "d09b95b5-1071-41d7-9047-69440908d6e7"
      },
      "execution_count": null,
      "outputs": [
        {
          "output_type": "execute_result",
          "data": {
            "text/plain": [
              "(900, 3)"
            ]
          },
          "metadata": {},
          "execution_count": 165
        }
      ]
    },
    {
      "cell_type": "code",
      "source": [
        "train_data.head()"
      ],
      "metadata": {
        "colab": {
          "base_uri": "https://localhost:8080/",
          "height": 206
        },
        "id": "_y7zS7oJhGFB",
        "outputId": "6471e085-474c-45f0-c956-777ce76efe81"
      },
      "execution_count": null,
      "outputs": [
        {
          "output_type": "execute_result",
          "data": {
            "text/plain": [
              "                                        CCP_Message1  \\\n",
              "0  <TrdCaptRpt RptID=\"580200\" TrdID=\"30243976111\"...   \n",
              "1  <TrdCaptRpt RptID=\"580200\" TrdID=\"32315822401\"...   \n",
              "2  <TrdCaptRpt RptID=\"580200\" TrdID=\"29434319842\"...   \n",
              "3  <TrdCaptRpt RptID=\"580200\" TrdID=\"38640498786\"...   \n",
              "4  <TrdCaptRpt RptID=\"580200\" TrdID=\"26183116997\"...   \n",
              "\n",
              "                                        CCP_Message2  \\\n",
              "0  <AllocInstrAlert ID=\"580201\" TransTyp=\"0\" Typ=...   \n",
              "1  <AllocInstrAlert ID=\"580201\" TransTyp=\"0\" Typ=...   \n",
              "2  <AllocInstrAlert ID=\"580201\" TransTyp=\"0\" Typ=...   \n",
              "3  <AllocInstrAlert ID=\"580201\" TransTyp=\"0\" Typ=...   \n",
              "4  <AllocInstrAlert ID=\"580201\" TransTyp=\"0\" Typ=...   \n",
              "\n",
              "                               cleaned_input_message  \n",
              "0  TrdCaptRpt RptID=277918 TrdID=30243976111 Tran...  \n",
              "1  TrdCaptRpt RptID=174684 TrdID=32315822401 Tran...  \n",
              "2  TrdCaptRpt RptID=381195 TrdID=29434319842 Tran...  \n",
              "3  TrdCaptRpt RptID=130471 TrdID=38640498786 Tran...  \n",
              "4  TrdCaptRpt RptID=26789 TrdID=26183116997 Trans...  "
            ],
            "text/html": [
              "\n",
              "  <div id=\"df-8164de4f-8561-4422-aeeb-b2115334a724\" class=\"colab-df-container\">\n",
              "    <div>\n",
              "<style scoped>\n",
              "    .dataframe tbody tr th:only-of-type {\n",
              "        vertical-align: middle;\n",
              "    }\n",
              "\n",
              "    .dataframe tbody tr th {\n",
              "        vertical-align: top;\n",
              "    }\n",
              "\n",
              "    .dataframe thead th {\n",
              "        text-align: right;\n",
              "    }\n",
              "</style>\n",
              "<table border=\"1\" class=\"dataframe\">\n",
              "  <thead>\n",
              "    <tr style=\"text-align: right;\">\n",
              "      <th></th>\n",
              "      <th>CCP_Message1</th>\n",
              "      <th>CCP_Message2</th>\n",
              "      <th>cleaned_input_message</th>\n",
              "    </tr>\n",
              "  </thead>\n",
              "  <tbody>\n",
              "    <tr>\n",
              "      <th>0</th>\n",
              "      <td>&lt;TrdCaptRpt RptID=\"580200\" TrdID=\"30243976111\"...</td>\n",
              "      <td>&lt;AllocInstrAlert ID=\"580201\" TransTyp=\"0\" Typ=...</td>\n",
              "      <td>TrdCaptRpt RptID=277918 TrdID=30243976111 Tran...</td>\n",
              "    </tr>\n",
              "    <tr>\n",
              "      <th>1</th>\n",
              "      <td>&lt;TrdCaptRpt RptID=\"580200\" TrdID=\"32315822401\"...</td>\n",
              "      <td>&lt;AllocInstrAlert ID=\"580201\" TransTyp=\"0\" Typ=...</td>\n",
              "      <td>TrdCaptRpt RptID=174684 TrdID=32315822401 Tran...</td>\n",
              "    </tr>\n",
              "    <tr>\n",
              "      <th>2</th>\n",
              "      <td>&lt;TrdCaptRpt RptID=\"580200\" TrdID=\"29434319842\"...</td>\n",
              "      <td>&lt;AllocInstrAlert ID=\"580201\" TransTyp=\"0\" Typ=...</td>\n",
              "      <td>TrdCaptRpt RptID=381195 TrdID=29434319842 Tran...</td>\n",
              "    </tr>\n",
              "    <tr>\n",
              "      <th>3</th>\n",
              "      <td>&lt;TrdCaptRpt RptID=\"580200\" TrdID=\"38640498786\"...</td>\n",
              "      <td>&lt;AllocInstrAlert ID=\"580201\" TransTyp=\"0\" Typ=...</td>\n",
              "      <td>TrdCaptRpt RptID=130471 TrdID=38640498786 Tran...</td>\n",
              "    </tr>\n",
              "    <tr>\n",
              "      <th>4</th>\n",
              "      <td>&lt;TrdCaptRpt RptID=\"580200\" TrdID=\"26183116997\"...</td>\n",
              "      <td>&lt;AllocInstrAlert ID=\"580201\" TransTyp=\"0\" Typ=...</td>\n",
              "      <td>TrdCaptRpt RptID=26789 TrdID=26183116997 Trans...</td>\n",
              "    </tr>\n",
              "  </tbody>\n",
              "</table>\n",
              "</div>\n",
              "    <div class=\"colab-df-buttons\">\n",
              "\n",
              "  <div class=\"colab-df-container\">\n",
              "    <button class=\"colab-df-convert\" onclick=\"convertToInteractive('df-8164de4f-8561-4422-aeeb-b2115334a724')\"\n",
              "            title=\"Convert this dataframe to an interactive table.\"\n",
              "            style=\"display:none;\">\n",
              "\n",
              "  <svg xmlns=\"http://www.w3.org/2000/svg\" height=\"24px\" viewBox=\"0 -960 960 960\">\n",
              "    <path d=\"M120-120v-720h720v720H120Zm60-500h600v-160H180v160Zm220 220h160v-160H400v160Zm0 220h160v-160H400v160ZM180-400h160v-160H180v160Zm440 0h160v-160H620v160ZM180-180h160v-160H180v160Zm440 0h160v-160H620v160Z\"/>\n",
              "  </svg>\n",
              "    </button>\n",
              "\n",
              "  <style>\n",
              "    .colab-df-container {\n",
              "      display:flex;\n",
              "      gap: 12px;\n",
              "    }\n",
              "\n",
              "    .colab-df-convert {\n",
              "      background-color: #E8F0FE;\n",
              "      border: none;\n",
              "      border-radius: 50%;\n",
              "      cursor: pointer;\n",
              "      display: none;\n",
              "      fill: #1967D2;\n",
              "      height: 32px;\n",
              "      padding: 0 0 0 0;\n",
              "      width: 32px;\n",
              "    }\n",
              "\n",
              "    .colab-df-convert:hover {\n",
              "      background-color: #E2EBFA;\n",
              "      box-shadow: 0px 1px 2px rgba(60, 64, 67, 0.3), 0px 1px 3px 1px rgba(60, 64, 67, 0.15);\n",
              "      fill: #174EA6;\n",
              "    }\n",
              "\n",
              "    .colab-df-buttons div {\n",
              "      margin-bottom: 4px;\n",
              "    }\n",
              "\n",
              "    [theme=dark] .colab-df-convert {\n",
              "      background-color: #3B4455;\n",
              "      fill: #D2E3FC;\n",
              "    }\n",
              "\n",
              "    [theme=dark] .colab-df-convert:hover {\n",
              "      background-color: #434B5C;\n",
              "      box-shadow: 0px 1px 3px 1px rgba(0, 0, 0, 0.15);\n",
              "      filter: drop-shadow(0px 1px 2px rgba(0, 0, 0, 0.3));\n",
              "      fill: #FFFFFF;\n",
              "    }\n",
              "  </style>\n",
              "\n",
              "    <script>\n",
              "      const buttonEl =\n",
              "        document.querySelector('#df-8164de4f-8561-4422-aeeb-b2115334a724 button.colab-df-convert');\n",
              "      buttonEl.style.display =\n",
              "        google.colab.kernel.accessAllowed ? 'block' : 'none';\n",
              "\n",
              "      async function convertToInteractive(key) {\n",
              "        const element = document.querySelector('#df-8164de4f-8561-4422-aeeb-b2115334a724');\n",
              "        const dataTable =\n",
              "          await google.colab.kernel.invokeFunction('convertToInteractive',\n",
              "                                                    [key], {});\n",
              "        if (!dataTable) return;\n",
              "\n",
              "        const docLinkHtml = 'Like what you see? Visit the ' +\n",
              "          '<a target=\"_blank\" href=https://colab.research.google.com/notebooks/data_table.ipynb>data table notebook</a>'\n",
              "          + ' to learn more about interactive tables.';\n",
              "        element.innerHTML = '';\n",
              "        dataTable['output_type'] = 'display_data';\n",
              "        await google.colab.output.renderOutput(dataTable, element);\n",
              "        const docLink = document.createElement('div');\n",
              "        docLink.innerHTML = docLinkHtml;\n",
              "        element.appendChild(docLink);\n",
              "      }\n",
              "    </script>\n",
              "  </div>\n",
              "\n",
              "\n",
              "<div id=\"df-bca9c272-d47f-4562-ad89-9da5ed4aaf99\">\n",
              "  <button class=\"colab-df-quickchart\" onclick=\"quickchart('df-bca9c272-d47f-4562-ad89-9da5ed4aaf99')\"\n",
              "            title=\"Suggest charts\"\n",
              "            style=\"display:none;\">\n",
              "\n",
              "<svg xmlns=\"http://www.w3.org/2000/svg\" height=\"24px\"viewBox=\"0 0 24 24\"\n",
              "     width=\"24px\">\n",
              "    <g>\n",
              "        <path d=\"M19 3H5c-1.1 0-2 .9-2 2v14c0 1.1.9 2 2 2h14c1.1 0 2-.9 2-2V5c0-1.1-.9-2-2-2zM9 17H7v-7h2v7zm4 0h-2V7h2v10zm4 0h-2v-4h2v4z\"/>\n",
              "    </g>\n",
              "</svg>\n",
              "  </button>\n",
              "\n",
              "<style>\n",
              "  .colab-df-quickchart {\n",
              "      --bg-color: #E8F0FE;\n",
              "      --fill-color: #1967D2;\n",
              "      --hover-bg-color: #E2EBFA;\n",
              "      --hover-fill-color: #174EA6;\n",
              "      --disabled-fill-color: #AAA;\n",
              "      --disabled-bg-color: #DDD;\n",
              "  }\n",
              "\n",
              "  [theme=dark] .colab-df-quickchart {\n",
              "      --bg-color: #3B4455;\n",
              "      --fill-color: #D2E3FC;\n",
              "      --hover-bg-color: #434B5C;\n",
              "      --hover-fill-color: #FFFFFF;\n",
              "      --disabled-bg-color: #3B4455;\n",
              "      --disabled-fill-color: #666;\n",
              "  }\n",
              "\n",
              "  .colab-df-quickchart {\n",
              "    background-color: var(--bg-color);\n",
              "    border: none;\n",
              "    border-radius: 50%;\n",
              "    cursor: pointer;\n",
              "    display: none;\n",
              "    fill: var(--fill-color);\n",
              "    height: 32px;\n",
              "    padding: 0;\n",
              "    width: 32px;\n",
              "  }\n",
              "\n",
              "  .colab-df-quickchart:hover {\n",
              "    background-color: var(--hover-bg-color);\n",
              "    box-shadow: 0 1px 2px rgba(60, 64, 67, 0.3), 0 1px 3px 1px rgba(60, 64, 67, 0.15);\n",
              "    fill: var(--button-hover-fill-color);\n",
              "  }\n",
              "\n",
              "  .colab-df-quickchart-complete:disabled,\n",
              "  .colab-df-quickchart-complete:disabled:hover {\n",
              "    background-color: var(--disabled-bg-color);\n",
              "    fill: var(--disabled-fill-color);\n",
              "    box-shadow: none;\n",
              "  }\n",
              "\n",
              "  .colab-df-spinner {\n",
              "    border: 2px solid var(--fill-color);\n",
              "    border-color: transparent;\n",
              "    border-bottom-color: var(--fill-color);\n",
              "    animation:\n",
              "      spin 1s steps(1) infinite;\n",
              "  }\n",
              "\n",
              "  @keyframes spin {\n",
              "    0% {\n",
              "      border-color: transparent;\n",
              "      border-bottom-color: var(--fill-color);\n",
              "      border-left-color: var(--fill-color);\n",
              "    }\n",
              "    20% {\n",
              "      border-color: transparent;\n",
              "      border-left-color: var(--fill-color);\n",
              "      border-top-color: var(--fill-color);\n",
              "    }\n",
              "    30% {\n",
              "      border-color: transparent;\n",
              "      border-left-color: var(--fill-color);\n",
              "      border-top-color: var(--fill-color);\n",
              "      border-right-color: var(--fill-color);\n",
              "    }\n",
              "    40% {\n",
              "      border-color: transparent;\n",
              "      border-right-color: var(--fill-color);\n",
              "      border-top-color: var(--fill-color);\n",
              "    }\n",
              "    60% {\n",
              "      border-color: transparent;\n",
              "      border-right-color: var(--fill-color);\n",
              "    }\n",
              "    80% {\n",
              "      border-color: transparent;\n",
              "      border-right-color: var(--fill-color);\n",
              "      border-bottom-color: var(--fill-color);\n",
              "    }\n",
              "    90% {\n",
              "      border-color: transparent;\n",
              "      border-bottom-color: var(--fill-color);\n",
              "    }\n",
              "  }\n",
              "</style>\n",
              "\n",
              "  <script>\n",
              "    async function quickchart(key) {\n",
              "      const quickchartButtonEl =\n",
              "        document.querySelector('#' + key + ' button');\n",
              "      quickchartButtonEl.disabled = true;  // To prevent multiple clicks.\n",
              "      quickchartButtonEl.classList.add('colab-df-spinner');\n",
              "      try {\n",
              "        const charts = await google.colab.kernel.invokeFunction(\n",
              "            'suggestCharts', [key], {});\n",
              "      } catch (error) {\n",
              "        console.error('Error during call to suggestCharts:', error);\n",
              "      }\n",
              "      quickchartButtonEl.classList.remove('colab-df-spinner');\n",
              "      quickchartButtonEl.classList.add('colab-df-quickchart-complete');\n",
              "    }\n",
              "    (() => {\n",
              "      let quickchartButtonEl =\n",
              "        document.querySelector('#df-bca9c272-d47f-4562-ad89-9da5ed4aaf99 button');\n",
              "      quickchartButtonEl.style.display =\n",
              "        google.colab.kernel.accessAllowed ? 'block' : 'none';\n",
              "    })();\n",
              "  </script>\n",
              "</div>\n",
              "\n",
              "    </div>\n",
              "  </div>\n"
            ],
            "application/vnd.google.colaboratory.intrinsic+json": {
              "type": "dataframe",
              "variable_name": "train_data",
              "summary": "{\n  \"name\": \"train_data\",\n  \"rows\": 900,\n  \"fields\": [\n    {\n      \"column\": \"CCP_Message1\",\n      \"properties\": {\n        \"dtype\": \"string\",\n        \"num_unique_values\": 900,\n        \"samples\": [\n          \"<TrdCaptRpt RptID=\\\"580200\\\" TrdID=\\\"23392250690\\\" TransTyp=\\\"2\\\" RptTyp=\\\"2\\\" TrdTyp=\\\"2\\\" MtchID=\\\"34550587062\\\" PxTyp=\\\"2\\\" LastQty=\\\"90\\\" LastPx=\\\"876\\\" TrdDt=\\\"2023-01-05\\\" BizDt=\\\"2023-01-06\\\" TxnTm=\\\"2023-04-11T00:12:55.138-7:00\\\"><Hdr SID=\\\"MGEX\\\" TID=\\\"D210\\\" PosDup=\\\"N\\\" PosRsnd=\\\"Y\\\" Snt=\\\"2023-04-11T00:12:55.160-7:00\\\"></Hdr><Instrmt Sym=\\\"TMP\\\" ID=\\\"LM\\\" Src=\\\"H\\\" CFI=\\\"FCAPSX\\\" MMY=\\\"202307\\\" MatDt=\\\"2023-07-3\\\" Mult=\\\"50\\\" Exch=\\\"BTNL\\\"></Instrmt><RptSide Side=\\\"2\\\" Ccy=\\\"USD\\\" InptSrc=\\\"EL\\\" InptDev=\\\"PORTAL\\\" CustCpcty=\\\"3\\\" PosEfct=\\\"C\\\" ClOrdID=\\\"987NL\\\" MLegRptTyp=\\\"2\\\" AllocInd=\\\"1\\\" GrpID=\\\"18281000022\\\" AvgPxInd=\\\"1\\\"><Pty ID=\\\"MGEX\\\" R=\\\"21\\\"></Pty><Pty ID=\\\"210\\\" R=\\\"1\\\"></Pty><Pty ID=\\\"165\\\" R=\\\"4\\\"></Pty><Pty ID=\\\"Ahlem-110\\\" R=\\\"24\\\"><Sub ID=\\\"2\\\" Typ=\\\"26\\\"></Sub></Pty><Pty ID=\\\"400\\\" R=\\\"12\\\"></Pty><TrdRegTS TS=\\\"2023-04-11T12:25:13.326-7:00\\\" Typ=\\\"1\\\"></TrdRegTS></RptSide></TrdCaptRpt>\",\n          \"<TrdCaptRpt RptID=\\\"580200\\\" TrdID=\\\"23722855115\\\" TransTyp=\\\"2\\\" RptTyp=\\\"2\\\" TrdTyp=\\\"29\\\" MtchID=\\\"35799283894\\\" PxTyp=\\\"10\\\" LastQty=\\\"12\\\" LastPx=\\\"300.9\\\" TrdDt=\\\"2022-12-21\\\" BizDt=\\\"2023-02-10\\\" TxnTm=\\\"2023-02-15T00:12:55.138-6:00\\\"><Hdr SID=\\\"MGEX\\\" TID=\\\"B509\\\" PosDup=\\\"Y\\\" PosRsnd=\\\"N\\\" Snt=\\\"2023-02-15T00:12:55.160-6:00\\\"></Hdr><Instrmt Sym=\\\"BUI\\\" ID=\\\"W\\\" Src=\\\"H\\\" CFI=\\\"FCCPXX\\\" MMY=\\\"202305\\\" MatDt=\\\"2023-05-28\\\" Mult=\\\"50\\\" Exch=\\\"XMGE\\\"></Instrmt><RptSide Side=\\\"2\\\" Ccy=\\\"USD\\\" InptSrc=\\\"EL\\\" InptDev=\\\"EXCHANGE\\\" CustCpcty=\\\"2\\\" PosEfct=\\\"C\\\" ClOrdID=\\\"123\\\" MLegRptTyp=\\\"2\\\" AllocInd=\\\"1\\\" GrpID=\\\"18281000022\\\" AvgPxInd=\\\"0\\\"><Pty ID=\\\"MGEX\\\" R=\\\"21\\\"></Pty><Pty ID=\\\"210\\\" R=\\\"1\\\"></Pty><Pty ID=\\\"146\\\" R=\\\"4\\\"></Pty><Pty ID=\\\"acc-AT\\\" R=\\\"24\\\"><Sub ID=\\\"1\\\" Typ=\\\"26\\\"></Sub></Pty><Pty ID=\\\"400\\\" R=\\\"12\\\"></Pty><TrdRegTS TS=\\\"2023-02-15T05:17:30.326-6:00\\\" Typ=\\\"1\\\"></TrdRegTS></RptSide></TrdCaptRpt>\",\n          \"<TrdCaptRpt RptID=\\\"580200\\\" TrdID=\\\"30435090520\\\" TransTyp=\\\"2\\\" RptTyp=\\\"2\\\" TrdTyp=\\\"2\\\" MtchID=\\\"28016637874\\\" PxTyp=\\\"10\\\" LastQty=\\\"23\\\" LastPx=\\\"3590.59\\\" TrdDt=\\\"2023-01-05\\\" BizDt=\\\"2023-01-06\\\" TxnTm=\\\"2023-02-15T00:12:55.138-6:00\\\"><Hdr SID=\\\"MGEX\\\" TID=\\\"HBPL\\\" PosDup=\\\"Y\\\" PosRsnd=\\\"Y\\\" Snt=\\\"2023-02-15T00:12:55.160-6:00\\\"></Hdr><Instrmt Sym=\\\"BUI\\\" ID=\\\"IP0\\\" Src=\\\"H\\\" CFI=\\\"APYBKL\\\" MMY=\\\"202305\\\" MatDt=\\\"2023-05-7\\\" Mult=\\\"0.4\\\" Exch=\\\"HDPL\\\"></Instrmt><RptSide Side=\\\"2\\\" Ccy=\\\"USD\\\" InptSrc=\\\"EL\\\" InptDev=\\\"PORTAL\\\" CustCpcty=\\\"1\\\" PosEfct=\\\"C\\\" ClOrdID=\\\"123\\\" MLegRptTyp=\\\"2\\\" AllocInd=\\\"1\\\" GrpID=\\\"18281000022\\\" AvgPxInd=\\\"0\\\"><Pty ID=\\\"MGEX\\\" R=\\\"21\\\"></Pty><Pty ID=\\\"210\\\" R=\\\"1\\\"></Pty><Pty ID=\\\"393\\\" R=\\\"4\\\"></Pty><Pty ID=\\\"Mohamed-300\\\" R=\\\"24\\\"><Sub ID=\\\"2\\\" Typ=\\\"26\\\"></Sub></Pty><Pty ID=\\\"400\\\" R=\\\"12\\\"></Pty><TrdRegTS TS=\\\"2023-02-15T10:18:15.100-6:00\\\" Typ=\\\"1\\\"></TrdRegTS></RptSide></TrdCaptRpt>\"\n        ],\n        \"semantic_type\": \"\",\n        \"description\": \"\"\n      }\n    },\n    {\n      \"column\": \"CCP_Message2\",\n      \"properties\": {\n        \"dtype\": \"string\",\n        \"num_unique_values\": 900,\n        \"samples\": [\n          \"<AllocInstrAlert ID=\\\"580201\\\" TransTyp=\\\"0\\\" Typ=\\\"13\\\" GrpID=\\\"18281000022\\\" Side=\\\"2\\\" Qty=\\\"90\\\" GrpQty=\\\"90\\\" PxTyp=\\\"2\\\" AvgPx=\\\"876\\\" TrdDt=\\\"2023-01-05\\\" TxnTm=\\\"2023-04-11T00:12:55.138-7:00\\\" Stat=\\\"6\\\" AvgPxInd=\\\"1\\\" BizDt=\\\"2023-01-06\\\" TrdTyp=\\\"2\\\" CustCpcty=\\\"3\\\"><Hdr SID=\\\"MGEX\\\" TID=\\\"D210\\\" PosDup=\\\"N\\\" PosRsnd=\\\"Y\\\" Snt=\\\"2023-04-11T00:12:55.165-7:00\\\"></Hdr><OrdAlloc ClOrdID=\\\"987NL\\\"></OrdAlloc><AllExc LastQty=\\\"90\\\" LastPx=\\\"876\\\" TrdID=\\\"23392250690\\\"></AllExc><Instrmt ID=\\\"LM\\\" CFI=\\\"FCAPSX\\\" MMY=\\\"202307\\\" MatDt=\\\"2023-07-3\\\" Exch=\\\"BTNL\\\"></Instrmt><Pty ID=\\\"MGEX\\\" R=\\\"21\\\"></Pty><Pty ID=\\\"210\\\" R=\\\"1\\\"></Pty><Pty ID=\\\"165\\\" R=\\\"4\\\"></Pty><Pty ID=\\\"\\\" R=\\\"12\\\"></Pty><Pty ID=\\\"Ahlem-110\\\" R=\\\"24\\\"><Sub ID=\\\"2\\\" Typ=\\\"26\\\"></Sub></Pty></AllocInstrAlert>\",\n          \"<AllocInstrAlert ID=\\\"580201\\\" TransTyp=\\\"0\\\" Typ=\\\"13\\\" GrpID=\\\"18281000022\\\" Side=\\\"2\\\" Qty=\\\"12\\\" GrpQty=\\\"12\\\" PxTyp=\\\"10\\\" AvgPx=\\\"300.9\\\" TrdDt=\\\"2022-12-21\\\" TxnTm=\\\"2023-02-15T00:12:55.138-6:00\\\" Stat=\\\"6\\\" AvgPxInd=\\\"0\\\" BizDt=\\\"2023-02-10\\\" TrdTyp=\\\"29\\\" CustCpcty=\\\"2\\\"><Hdr SID=\\\"MGEX\\\" TID=\\\"B509\\\" PosDup=\\\"Y\\\" PosRsnd=\\\"N\\\" Snt=\\\"2023-02-15T00:12:55.165-6:00\\\"></Hdr><OrdAlloc ClOrdID=\\\"123\\\"></OrdAlloc><AllExc LastQty=\\\"12\\\" LastPx=\\\"300.9\\\" TrdID=\\\"23722855115\\\"></AllExc><Instrmt ID=\\\"W\\\" CFI=\\\"FCCPXX\\\" MMY=\\\"202305\\\" MatDt=\\\"2023-05-28\\\" Exch=\\\"XMGE\\\"></Instrmt><Pty ID=\\\"MGEX\\\" R=\\\"21\\\"></Pty><Pty ID=\\\"210\\\" R=\\\"1\\\"></Pty><Pty ID=\\\"146\\\" R=\\\"4\\\"></Pty><Pty ID=\\\"\\\" R=\\\"12\\\"></Pty><Pty ID=\\\"acc-AT\\\" R=\\\"24\\\"><Sub ID=\\\"1\\\" Typ=\\\"26\\\"></Sub></Pty></AllocInstrAlert>\",\n          \"<AllocInstrAlert ID=\\\"580201\\\" TransTyp=\\\"0\\\" Typ=\\\"13\\\" GrpID=\\\"18281000022\\\" Side=\\\"2\\\" Qty=\\\"23\\\" GrpQty=\\\"23\\\" PxTyp=\\\"10\\\" AvgPx=\\\"3590.59\\\" TrdDt=\\\"2023-01-05\\\" TxnTm=\\\"2023-02-15T00:12:55.138-6:00\\\" Stat=\\\"6\\\" AvgPxInd=\\\"0\\\" BizDt=\\\"2023-01-06\\\" TrdTyp=\\\"2\\\" CustCpcty=\\\"1\\\"><Hdr SID=\\\"MGEX\\\" TID=\\\"HBPL\\\" PosDup=\\\"Y\\\" PosRsnd=\\\"Y\\\" Snt=\\\"2023-02-15T00:12:55.165-6:00\\\"></Hdr><OrdAlloc ClOrdID=\\\"123\\\"></OrdAlloc><AllExc LastQty=\\\"23\\\" LastPx=\\\"3590.59\\\" TrdID=\\\"30435090520\\\"></AllExc><Instrmt ID=\\\"IP0\\\" CFI=\\\"APYBKL\\\" MMY=\\\"202305\\\" MatDt=\\\"2023-05-7\\\" Exch=\\\"HDPL\\\"></Instrmt><Pty ID=\\\"MGEX\\\" R=\\\"21\\\"></Pty><Pty ID=\\\"210\\\" R=\\\"1\\\"></Pty><Pty ID=\\\"393\\\" R=\\\"4\\\"></Pty><Pty ID=\\\"\\\" R=\\\"12\\\"></Pty><Pty ID=\\\"Mohamed-300\\\" R=\\\"24\\\"><Sub ID=\\\"2\\\" Typ=\\\"26\\\"></Sub></Pty></AllocInstrAlert>\"\n        ],\n        \"semantic_type\": \"\",\n        \"description\": \"\"\n      }\n    },\n    {\n      \"column\": \"cleaned_input_message\",\n      \"properties\": {\n        \"dtype\": \"string\",\n        \"num_unique_values\": 900,\n        \"samples\": [\n          \"TrdCaptRpt RptID=48142 TrdID=23392250690 TransTyp=0 RptTyp=2 TrdTyp=2 MtchID=34550587062 PxTyp=2 LastQty=90 LastPx=876 TrdDt=2023-01-05 BizDt=2023-01-06 TxnTm=2023-04-11T12:25:13.326-7:00 Hdr SID=MGEX TID=D210 PosDup=N PosRsnd=Y Snt=2023-04-11T12:25:13.470-7:00 Hdr Instrmt Sym=TMP ID=LM Src=H CFI=FCAPSX MMY=202307 MatDt=2023-07-3 Mult=50 Exch=BTNL Instrmt RptSide Side=2 Ccy=USD InptSrc=EL InptDev=PORTAL CustCpcty=3 PosEfct=C ClOrdID=987NL MLegRptTyp=2 AllocInd=0 Pty ID=MGEX R=21 Pty Pty ID=210 R=1 Pty Pty ID=165 R=4 Pty Pty ID=Ahlem-110 R=24 Sub ID=2 Typ=26 Sub Pty Pty ID=400 R=12 Pty TrdRegTS TS=2023-04-11T12:25:13.326-7:00 Typ=1 TrdRegTS RptSide TrdCaptRpt  TrdCaptRpt RptID=23392250690 TrdDt=2023-01-05 BizDt=2023-01-06 TxnTm=2023-04-11T18:35:55.700-7:00 TrdID=23392250690 TransTyp=2 RptTyp=0 LastQty=90.0 LastPx=876.0 Hdr Snt=2023-04-11T19:40:55.600+01:00 TID=MGEX SID=D210 Instrmt Exch=BTNL ID=LM MMY=202307 CFI=FCCPXX RptSide Side=2 AvgPxInd=1 AllocInd=1 AllocGrpInst=1 Pty ID=210 R=1 RptSide TrdCaptRpt \",\n          \"TrdCaptRpt RptID=332354 TrdID=23722855115 TransTyp=0 RptTyp=2 TrdTyp=29 MtchID=35799283894 PxTyp=10 LastQty=12 LastPx=300.9 TrdDt=2022-12-21 BizDt=2023-02-10 TxnTm=2023-02-15T05:17:30.326-6:00 Hdr SID=MGEX TID=B509 PosDup=Y PosRsnd=N Snt=2023-02-15T05:17:30.470-6:00 Hdr Instrmt Sym=BUI ID=W Src=H CFI=FCCPXX MMY=202305 MatDt=2023-05-28 Mult=50 Exch=XMGE Instrmt RptSide Side=2 Ccy=USD InptSrc=EL InptDev=EXCHANGE CustCpcty=2 PosEfct=C ClOrdID=123 MLegRptTyp=2 AllocInd=0 Pty ID=MGEX R=21 Pty Pty ID=210 R=1 Pty Pty ID=146 R=4 Pty Pty ID=acc-AT R=24 Sub ID=1 Typ=26 Sub Pty Pty ID=400 R=12 Pty TrdRegTS TS=2023-02-15T05:17:30.326-6:00 Typ=1 TrdRegTS RptSide TrdCaptRpt  TrdCaptRpt RptID=23722855115 TrdDt=2022-12-21 BizDt=2023-02-10 TxnTm=2023-02-15T22:25:13.545-6:00 TrdID=23722855115 TransTyp=2 RptTyp=0 LastQty=12.0 LastPx=300.9 Hdr Snt=2023-02-15T19:40:55.600+01:00 TID=MGEX SID=B509 Instrmt Exch=XMGE ID=W MMY=202305 CFI=FCAPSX RptSide Side=2 AvgPxInd=0 AllocInd=1 AllocGrpInst=1 Pty ID=210 R=1 RptSide TrdCaptRpt \",\n          \"TrdCaptRpt RptID=183597 TrdID=30435090520 TransTyp=0 RptTyp=2 TrdTyp=2 MtchID=28016637874 PxTyp=10 LastQty=23 LastPx=3590.59 TrdDt=2023-01-05 BizDt=2023-01-06 TxnTm=2023-02-15T10:18:15.100-6:00 Hdr SID=MGEX TID=HBPL PosDup=Y PosRsnd=Y Snt=2023-02-15T10:18:15.470-6:00 Hdr Instrmt Sym=BUI ID=IP0 Src=H CFI=APYBKL MMY=202305 MatDt=2023-05-7 Mult=0.4 Exch=HDPL Instrmt RptSide Side=2 Ccy=USD InptSrc=EL InptDev=PORTAL CustCpcty=1 PosEfct=C ClOrdID=123 MLegRptTyp=2 AllocInd=0 Pty ID=MGEX R=21 Pty Pty ID=210 R=1 Pty Pty ID=393 R=4 Pty Pty ID=Mohamed-300 R=24 Sub ID=2 Typ=26 Sub Pty Pty ID=400 R=12 Pty TrdRegTS TS=2023-02-15T10:18:15.100-6:00 Typ=1 TrdRegTS RptSide TrdCaptRpt  TrdCaptRpt RptID=30435090520 TrdDt=2023-01-05 BizDt=2023-01-06 TxnTm=2023-02-15T23:28:32.581-6:00 TrdID=30435090520 TransTyp=2 RptTyp=0 LastQty=23.0 LastPx=3590.59 Hdr Snt=2023-02-15T19:40:55.600+01:00 TID=MGEX SID=HBPL Instrmt Exch=HDPL ID=IP0 MMY=202305 CFI=FCCPXX RptSide Side=2 AvgPxInd=0 AllocInd=1 AllocGrpInst=1 Pty ID=210 R=1 RptSide TrdCaptRpt \"\n        ],\n        \"semantic_type\": \"\",\n        \"description\": \"\"\n      }\n    }\n  ]\n}"
            }
          },
          "metadata": {},
          "execution_count": 166
        }
      ]
    },
    {
      "cell_type": "code",
      "source": [
        "import torch\n",
        "from transformers import GPT2Tokenizer, GPT2LMHeadModel\n",
        "from torch.utils.data import DataLoader, Dataset"
      ],
      "metadata": {
        "id": "P7B9NgoNhInQ"
      },
      "execution_count": null,
      "outputs": []
    },
    {
      "cell_type": "markdown",
      "source": [
        "**Creating Custom Datasets, Data Loaders for the first model (for the first CCP Message prediction) and Loading the Tokenizer and the Models**"
      ],
      "metadata": {
        "id": "QRiMyoNH-p8t"
      }
    },
    {
      "cell_type": "code",
      "source": [
        "class CustomDataset1(Dataset):\n",
        "    def __init__(self, data, tokenizer, max_length):\n",
        "        self.data = data\n",
        "        self.tokenizer = tokenizer\n",
        "        self.max_length = max_length\n",
        "\n",
        "    def __len__(self):\n",
        "        return len(self.data)\n",
        "\n",
        "    def __getitem__(self, index):\n",
        "        seq = self.data.iloc[index]['cleaned_input_message']\n",
        "        target = self.data.iloc[index]['CCP_Message1']\n",
        "\n",
        "        input_seq = f\"{seq} {target}\"\n",
        "\n",
        "        input_ids = self.tokenizer.encode(input_seq, return_tensors='pt', max_length=self.max_length, truncation=True, padding='max_length')\n",
        "\n",
        "        return input_ids"
      ],
      "metadata": {
        "id": "z_RqdiCohMOD"
      },
      "execution_count": null,
      "outputs": []
    },
    {
      "cell_type": "code",
      "source": [
        "tokenizer = GPT2Tokenizer.from_pretrained('distilgpt2')\n",
        "model1 = GPT2LMHeadModel.from_pretrained('distilgpt2')\n",
        "model2 = GPT2LMHeadModel.from_pretrained('distilgpt2')"
      ],
      "metadata": {
        "id": "qBQ3RF90hQNR"
      },
      "execution_count": null,
      "outputs": []
    },
    {
      "cell_type": "code",
      "source": [
        "tokenizer.pad_token = tokenizer.eos_token"
      ],
      "metadata": {
        "id": "HBN3aoJ4hUJ6"
      },
      "execution_count": null,
      "outputs": []
    },
    {
      "cell_type": "code",
      "source": [
        "MAX_LENGTH = 1000\n",
        "BATCH_SIZE = 2\n",
        "EPOCHS = 3"
      ],
      "metadata": {
        "id": "7YTSOjSvhWkU"
      },
      "execution_count": null,
      "outputs": []
    },
    {
      "cell_type": "code",
      "source": [
        "train_dataset1 = CustomDataset1(train_data, tokenizer, MAX_LENGTH)\n",
        "val_dataset1 = CustomDataset1(val_data, tokenizer, MAX_LENGTH)"
      ],
      "metadata": {
        "id": "SWvdKBpIhZao"
      },
      "execution_count": null,
      "outputs": []
    },
    {
      "cell_type": "code",
      "source": [
        "print(type(train_dataset1[0]))"
      ],
      "metadata": {
        "colab": {
          "base_uri": "https://localhost:8080/"
        },
        "id": "mRC4urOehcCE",
        "outputId": "7e9e3204-0240-43a5-d892-3fcd3d346f84"
      },
      "execution_count": null,
      "outputs": [
        {
          "output_type": "stream",
          "name": "stdout",
          "text": [
            "<class 'torch.Tensor'>\n"
          ]
        }
      ]
    },
    {
      "cell_type": "code",
      "source": [
        "train_loader1 = DataLoader(train_dataset1, batch_size=BATCH_SIZE, shuffle=True)\n",
        "val_loader1 = DataLoader(val_dataset1, batch_size=BATCH_SIZE, shuffle=False)"
      ],
      "metadata": {
        "id": "96RPGDMaheny"
      },
      "execution_count": null,
      "outputs": []
    },
    {
      "cell_type": "code",
      "source": [
        "device = torch.device('cuda' if torch.cuda.is_available() else 'cpu')\n",
        "model1.to(device)"
      ],
      "metadata": {
        "colab": {
          "base_uri": "https://localhost:8080/"
        },
        "id": "QQCM3odyhhhy",
        "outputId": "6231544a-7da0-44fe-fac9-db2e68897c07"
      },
      "execution_count": null,
      "outputs": [
        {
          "output_type": "execute_result",
          "data": {
            "text/plain": [
              "GPT2LMHeadModel(\n",
              "  (transformer): GPT2Model(\n",
              "    (wte): Embedding(50257, 768)\n",
              "    (wpe): Embedding(1024, 768)\n",
              "    (drop): Dropout(p=0.1, inplace=False)\n",
              "    (h): ModuleList(\n",
              "      (0-5): 6 x GPT2Block(\n",
              "        (ln_1): LayerNorm((768,), eps=1e-05, elementwise_affine=True)\n",
              "        (attn): GPT2Attention(\n",
              "          (c_attn): Conv1D()\n",
              "          (c_proj): Conv1D()\n",
              "          (attn_dropout): Dropout(p=0.1, inplace=False)\n",
              "          (resid_dropout): Dropout(p=0.1, inplace=False)\n",
              "        )\n",
              "        (ln_2): LayerNorm((768,), eps=1e-05, elementwise_affine=True)\n",
              "        (mlp): GPT2MLP(\n",
              "          (c_fc): Conv1D()\n",
              "          (c_proj): Conv1D()\n",
              "          (act): NewGELUActivation()\n",
              "          (dropout): Dropout(p=0.1, inplace=False)\n",
              "        )\n",
              "      )\n",
              "    )\n",
              "    (ln_f): LayerNorm((768,), eps=1e-05, elementwise_affine=True)\n",
              "  )\n",
              "  (lm_head): Linear(in_features=768, out_features=50257, bias=False)\n",
              ")"
            ]
          },
          "metadata": {},
          "execution_count": 175
        }
      ]
    },
    {
      "cell_type": "code",
      "source": [
        "optimizer1 = torch.optim.AdamW(model1.parameters(), lr=2e-5)"
      ],
      "metadata": {
        "id": "cBDXBmzNhlFl"
      },
      "execution_count": null,
      "outputs": []
    },
    {
      "cell_type": "markdown",
      "source": [
        "**Training the first model**"
      ],
      "metadata": {
        "id": "NJfDK9Oe_Wsq"
      }
    },
    {
      "cell_type": "code",
      "source": [
        "for epoch in range(EPOCHS):\n",
        "    model1.train()\n",
        "    total_loss = 0\n",
        "    for batch in train_loader1:\n",
        "        input_ids = batch.to(device)\n",
        "\n",
        "        labels = input_ids.clone()\n",
        "        optimizer1.zero_grad()\n",
        "\n",
        "        outputs = model1(input_ids, labels=labels)\n",
        "        loss = outputs.loss\n",
        "        loss.backward()\n",
        "        optimizer1.step()\n",
        "\n",
        "        total_loss += loss.item()\n",
        "\n",
        "    avg_train_loss1 = total_loss / len(train_loader1)\n",
        "    print(f'Epoch {epoch+1}, Average Training Loss: {avg_train_loss1}')"
      ],
      "metadata": {
        "colab": {
          "base_uri": "https://localhost:8080/"
        },
        "id": "kFllKw5_hoBA",
        "outputId": "0e4793b8-5cea-48fc-c826-7edbbd6c1e8a"
      },
      "execution_count": null,
      "outputs": [
        {
          "output_type": "stream",
          "name": "stdout",
          "text": [
            "Epoch 1, Average Training Loss: 0.5962463316983647\n",
            "Epoch 2, Average Training Loss: 0.16889000866148207\n",
            "Epoch 3, Average Training Loss: 0.14907303873035643\n"
          ]
        }
      ]
    },
    {
      "cell_type": "markdown",
      "source": [
        "**Evaluating the first model**"
      ],
      "metadata": {
        "id": "ZlBpXr3A_cmJ"
      }
    },
    {
      "cell_type": "code",
      "source": [
        "model1.eval()\n",
        "total_loss = 0\n",
        "\n",
        "with torch.no_grad():\n",
        "    for batch in val_loader1:\n",
        "        input_ids = batch.to(device)\n",
        "\n",
        "        labels = input_ids.clone()\n",
        "        outputs = model1(input_ids, labels=labels)\n",
        "        loss = outputs.loss\n",
        "\n",
        "        total_loss += loss.item()\n",
        "\n",
        "avg_val_loss1 = total_loss / len(val_loader1)\n",
        "print(f'Average Validation Loss: {avg_val_loss1}')"
      ],
      "metadata": {
        "colab": {
          "base_uri": "https://localhost:8080/"
        },
        "id": "evXXC8qrhrqc",
        "outputId": "7344c486-3c7e-4494-d151-da355411e09c"
      },
      "execution_count": null,
      "outputs": [
        {
          "output_type": "stream",
          "name": "stdout",
          "text": [
            "Average Validation Loss: 0.13008410051465036\n"
          ]
        }
      ]
    },
    {
      "cell_type": "markdown",
      "source": [
        "**Creating Function to generate predictions using the first model**"
      ],
      "metadata": {
        "id": "duVAJbfhFgPa"
      }
    },
    {
      "cell_type": "code",
      "source": [
        "def predict1(seq):\n",
        "  model1.eval()\n",
        "  input_ids = tokenizer.encode(seq, return_tensors='pt').to(device)\n",
        "  output = model1.generate(input_ids, max_length=1000, num_return_sequences=1, pad_token_id=tokenizer.eos_token_id)\n",
        "  decoded_output = tokenizer.decode(output[0], skip_special_tokens=True)\n",
        "  output_sequence = decoded_output[len(seq):].strip()\n",
        "  return output_sequence"
      ],
      "metadata": {
        "id": "fzTmKf07hxDM"
      },
      "execution_count": null,
      "outputs": []
    },
    {
      "cell_type": "code",
      "source": [
        "predict1(val_data.iloc[0]['cleaned_input_message'])"
      ],
      "metadata": {
        "colab": {
          "base_uri": "https://localhost:8080/",
          "height": 105
        },
        "id": "mRDPjEb6h1Wd",
        "outputId": "aaea3e60-6bc7-44c5-f227-92bc92e4b347"
      },
      "execution_count": null,
      "outputs": [
        {
          "output_type": "execute_result",
          "data": {
            "text/plain": [
              "'<TrdCaptRpt RptID=\"580200\" TrdID=\"28958285095\" TransTyp=\"2\" RptTyp=\"2\" TrdTyp=\"3\" MtchID=\"31925343997\" PxTyp=\"10\" LastQty=\"28\" LastPx=\"370\" TrdDt=\"2023-01-05\" BizDt=\"2023-02-05\" TxnTm=\"2023-04-11T00:12:55.138-5:00\"><Hdr SID=\"MGEX\" TID=\"ABCD\" PosDup=\"Y\" PosRsnd=\"Y\" Snt=\"2023-04-11T00:12:55.160-5:00\"></Hdr><Instrmt Sym=\"ABP\" ID=\"B\" Src=\"H\" CFI=\"FCAPSX\" MMY=\"202307\" MatDt=\"2023-07-15\" Mult=\"200\" Exch=\"SNTL\"></Instrmt><RptSide Side=\"2\" Ccy=\"USD\" InptSrc=\"MA\" InptDev=\"CLEARING\" CustCpcty=\"2\" PosEfct=\"C\" ClOrdID=\"123\" MLegRptTyp=\"1\" AllocInd=\"1\" GrpID=\"18281000022\" AvgPxInd=\"1\"><Pty ID=\"MGEX\" R=\"21\"></Pty><Pty ID=\"210\" R=\"1\"></Pty><Pty ID=\"356\" R=\"4\"></Pty><Pty ID=\"Karim-200\" R=\"24\"><Sub ID=\"2\" Typ=\"26\"></Sub></Pty><Pty ID=\"400\" R=\"12\"></Pty><TrdRegTS TS=\"2023-04-11T10:18:15.326-5:00\" Typ=\"1\"></TrdRegTS></RptSide></TrdCaptRpt>'"
            ],
            "application/vnd.google.colaboratory.intrinsic+json": {
              "type": "string"
            }
          },
          "metadata": {},
          "execution_count": 180
        }
      ]
    },
    {
      "cell_type": "markdown",
      "source": [
        "**Calculating the Accuracy for the first model**"
      ],
      "metadata": {
        "id": "oZevthw3_o5p"
      }
    },
    {
      "cell_type": "code",
      "source": [
        "som1= 0\n",
        "for i in range(100):\n",
        "  if val_data.iloc[i]['CCP_Message1'] == predict1(val_data.iloc[i]['cleaned_input_message']):\n",
        "    som1 = som1+1\n",
        "print('Accuracy for CCP Message 1:',som1/100)"
      ],
      "metadata": {
        "colab": {
          "base_uri": "https://localhost:8080/"
        },
        "id": "Y6P7wuMKmi5t",
        "outputId": "b15aae69-c3ee-4dbd-9622-e5fb5117f51a"
      },
      "execution_count": null,
      "outputs": [
        {
          "output_type": "stream",
          "name": "stdout",
          "text": [
            "Accuracy for CCP Message 1: 0.97\n"
          ]
        }
      ]
    },
    {
      "cell_type": "markdown",
      "source": [
        "**Identifying Causes of Mismatched Predictions**"
      ],
      "metadata": {
        "id": "j1bVdpzJ_ktq"
      }
    },
    {
      "cell_type": "code",
      "source": [
        "for i in range(100):\n",
        "  if val_data.iloc[i]['CCP_Message1'] != predict1(val_data.iloc[i]['cleaned_input_message']):\n",
        "    print('Message', i)\n",
        "    print('Predicted message:')\n",
        "    print(predict1(val_data.iloc[i]['cleaned_input_message']))\n",
        "    print('Test message:')\n",
        "    print(val_data.iloc[i]['CCP_Message1'])"
      ],
      "metadata": {
        "colab": {
          "base_uri": "https://localhost:8080/"
        },
        "id": "zklW9YuZmxLY",
        "outputId": "b8dc15de-e121-4333-f023-62089f8f97b5"
      },
      "execution_count": null,
      "outputs": [
        {
          "output_type": "stream",
          "name": "stdout",
          "text": [
            "Message 2\n",
            "Predicted message:\n",
            "<TrdCaptRpt RptID=\"580200\" TrdID=\"36830418056\" TransTyp=\"2\" RptTyp=\"2\" TrdTyp=\"1\" MtchID=\"28026921\" PxTyp=\"2\" LastQty=\"89\" LastPx=\"100\" TrdDt=\"2022-12-17\" BizDt=\"2023-01-11\" TxnTm=\"2023-02-21T00:12:55.138-6:00\"><Hdr SID=\"MGEX\" TID=\"TL98\" PosDup=\"N\" PosRsnd=\"Y\" Snt=\"2023-02-21T00:12:55.160-6:00\"></Hdr><Instrmt Sym=\"ABP\" ID=\"AS\" Src=\"H\" CFI=\"FCCPXX\" MMY=\"202307\" MatDt=\"2023-07-2\" Mult=\"0.4\" Exch=\"HDPL\"></Instrmt><RptSide Side=\"2\" Ccy=\"USD\" InptSrc=\"MA\" InptDev=\"PORTAL\" CustCpcty=\"3\" PosEfct=\"O\" ClOrdID=\"123\" MLegRptTyp=\"1\" AllocInd=\"1\" GrpID=\"18281000022\" AvgPxInd=\"1\"><Pty ID=\"MGEX\" R=\"21\"></Pty><Pty ID=\"210\" R=\"1\"></Pty><Pty ID=\"174\" R=\"4\"></Pty><Pty ID=\"Ahlem-110\" R=\"24\"><Sub ID=\"2\" Typ=\"26\"></Sub></Pty><Pty ID=\"B115\" R=\"12\"></Pty><TrdRegTS TS=\"2023-02-21T10:18:15.230-6:00\" Typ=\"1\"></TrdRegTS></RptSide></TrdCaptRpt>\n",
            "Test message:\n",
            "<TrdCaptRpt RptID=\"580200\" TrdID=\"36830418056\" TransTyp=\"2\" RptTyp=\"2\" TrdTyp=\"1\" MtchID=\"28028026921\" PxTyp=\"2\" LastQty=\"89\" LastPx=\"100\" TrdDt=\"2022-12-17\" BizDt=\"2023-01-11\" TxnTm=\"2023-02-21T00:12:55.138-6:00\"><Hdr SID=\"MGEX\" TID=\"TL98\" PosDup=\"N\" PosRsnd=\"Y\" Snt=\"2023-02-21T00:12:55.160-6:00\"></Hdr><Instrmt Sym=\"ABP\" ID=\"AS\" Src=\"H\" CFI=\"FCCPXX\" MMY=\"202307\" MatDt=\"2023-07-2\" Mult=\"0.4\" Exch=\"HDPL\"></Instrmt><RptSide Side=\"2\" Ccy=\"USD\" InptSrc=\"MA\" InptDev=\"PORTAL\" CustCpcty=\"3\" PosEfct=\"O\" ClOrdID=\"123\" MLegRptTyp=\"1\" AllocInd=\"1\" GrpID=\"18281000022\" AvgPxInd=\"1\"><Pty ID=\"MGEX\" R=\"21\"></Pty><Pty ID=\"210\" R=\"1\"></Pty><Pty ID=\"174\" R=\"4\"></Pty><Pty ID=\"Ahlem-110\" R=\"24\"><Sub ID=\"2\" Typ=\"26\"></Sub></Pty><Pty ID=\"B115\" R=\"12\"></Pty><TrdRegTS TS=\"2023-02-21T10:18:15.230-6:00\" Typ=\"1\"></TrdRegTS></RptSide></TrdCaptRpt>\n",
            "Message 40\n",
            "Predicted message:\n",
            "<TrdCaptRpt RptID=\"580200\" TrdID=\"35391225935\" TransTyp=\"2\" RptTyp=\"2\" TrdTyp=\"29\" MtchID=\"262442726\" PxTyp=\"2\" LastQty=\"26\" LastPx=\"370\" TrdDt=\"2023-01-02\" BizDt=\"2023-02-05\" TxnTm=\"2023-02-15T00:12:55.138-7:00\"><Hdr SID=\"MGEX\" TID=\"B509\" PosDup=\"N\" PosRsnd=\"Y\" Snt=\"2023-02-15T00:12:55.160-7:00\"></Hdr><Instrmt Sym=\"TMP\" ID=\"W\" Src=\"H\" CFI=\"FCAPSX\" MMY=\"202307\" MatDt=\"2023-07-14\" Mult=\"0.3\" Exch=\"BTNL\"></Instrmt><RptSide Side=\"1\" Ccy=\"USD\" InptSrc=\"SY\" InptDev=\"CLEARING\" CustCpcty=\"2\" PosEfct=\"C\" ClOrdID=\"245BTN\" MLegRptTyp=\"1\" AllocInd=\"1\" GrpID=\"18281000022\" AvgPxInd=\"1\"><Pty ID=\"MGEX\" R=\"21\"></Pty><Pty ID=\"210\" R=\"1\"></Pty><Pty ID=\"376\" R=\"4\"></Pty><Pty ID=\"Mohamed-300\" R=\"24\"><Sub ID=\"1\" Typ=\"26\"></Sub></Pty><Pty ID=\"A123\" R=\"12\"></Pty><TrdRegTS TS=\"2023-02-15T12:25:13.100-7:00\" Typ=\"1\"></TrdRegTS></RptSide></TrdCaptRpt>\n",
            "Test message:\n",
            "<TrdCaptRpt RptID=\"580200\" TrdID=\"35391225935\" TransTyp=\"2\" RptTyp=\"2\" TrdTyp=\"29\" MtchID=\"26244272726\" PxTyp=\"2\" LastQty=\"26\" LastPx=\"370\" TrdDt=\"2023-01-02\" BizDt=\"2023-02-05\" TxnTm=\"2023-02-15T00:12:55.138-7:00\"><Hdr SID=\"MGEX\" TID=\"B509\" PosDup=\"N\" PosRsnd=\"Y\" Snt=\"2023-02-15T00:12:55.160-7:00\"></Hdr><Instrmt Sym=\"TMP\" ID=\"W\" Src=\"H\" CFI=\"FCAPSX\" MMY=\"202307\" MatDt=\"2023-07-14\" Mult=\"0.3\" Exch=\"BTNL\"></Instrmt><RptSide Side=\"1\" Ccy=\"USD\" InptSrc=\"SY\" InptDev=\"CLEARING\" CustCpcty=\"2\" PosEfct=\"C\" ClOrdID=\"245BTN\" MLegRptTyp=\"1\" AllocInd=\"1\" GrpID=\"18281000022\" AvgPxInd=\"1\"><Pty ID=\"MGEX\" R=\"21\"></Pty><Pty ID=\"210\" R=\"1\"></Pty><Pty ID=\"376\" R=\"4\"></Pty><Pty ID=\"Mohamed-300\" R=\"24\"><Sub ID=\"1\" Typ=\"26\"></Sub></Pty><Pty ID=\"A123\" R=\"12\"></Pty><TrdRegTS TS=\"2023-02-15T12:25:13.100-7:00\" Typ=\"1\"></TrdRegTS></RptSide></TrdCaptRpt>\n",
            "Message 78\n",
            "Predicted message:\n",
            "<TrdCaptRpt RptID=\"580200\" TrdID=\"24296199345\" TransTyp=\"2\" RptTyp=\"2\" TrdTyp=\"20\" MtchID=\"356548035\" PxTyp=\"2\" LastQty=\"59\" LastPx=\"876\" TrdDt=\"2023-01-02\" BizDt=\"2023-01-20\" TxnTm=\"2023-02-21T00:12:55.138-6:00\"><Hdr SID=\"MGEX\" TID=\"HBPL\" PosDup=\"Y\" PosRsnd=\"Y\" Snt=\"2023-02-21T00:12:55.160-6:00\"></Hdr><Instrmt Sym=\"TMP\" ID=\"AS\" Src=\"H\" CFI=\"FCAPSX\" MMY=\"202305\" MatDt=\"2023-05-15\" Mult=\"0.2\" Exch=\"HDPL\"></Instrmt><RptSide Side=\"1\" Ccy=\"USD\" InptSrc=\"EL\" InptDev=\"PORTAL\" CustCpcty=\"3\" PosEfct=\"C\" ClOrdID=\"146ZBT\" MLegRptTyp=\"1\" AllocInd=\"1\" GrpID=\"18281000022\" AvgPxInd=\"1\"><Pty ID=\"MGEX\" R=\"21\"></Pty><Pty ID=\"210\" R=\"1\"></Pty><Pty ID=\"236\" R=\"4\"></Pty><Pty ID=\"bl-NL\" R=\"24\"><Sub ID=\"2\" Typ=\"26\"></Sub></Pty><Pty ID=\"B115\" R=\"12\"></Pty><TrdRegTS TS=\"2023-02-21T12:25:13.230-6:00\" Typ=\"1\"></TrdRegTS></RptSide></TrdCaptRpt>\n",
            "Test message:\n",
            "<TrdCaptRpt RptID=\"580200\" TrdID=\"24296199345\" TransTyp=\"2\" RptTyp=\"2\" TrdTyp=\"20\" MtchID=\"35356548035\" PxTyp=\"2\" LastQty=\"59\" LastPx=\"876\" TrdDt=\"2023-01-02\" BizDt=\"2023-01-20\" TxnTm=\"2023-02-21T00:12:55.138-6:00\"><Hdr SID=\"MGEX\" TID=\"HBPL\" PosDup=\"Y\" PosRsnd=\"Y\" Snt=\"2023-02-21T00:12:55.160-6:00\"></Hdr><Instrmt Sym=\"TMP\" ID=\"AS\" Src=\"H\" CFI=\"FCAPSX\" MMY=\"202305\" MatDt=\"2023-05-15\" Mult=\"0.2\" Exch=\"HDPL\"></Instrmt><RptSide Side=\"1\" Ccy=\"USD\" InptSrc=\"EL\" InptDev=\"PORTAL\" CustCpcty=\"3\" PosEfct=\"C\" ClOrdID=\"146ZBT\" MLegRptTyp=\"1\" AllocInd=\"1\" GrpID=\"18281000022\" AvgPxInd=\"1\"><Pty ID=\"MGEX\" R=\"21\"></Pty><Pty ID=\"210\" R=\"1\"></Pty><Pty ID=\"236\" R=\"4\"></Pty><Pty ID=\"bl-NL\" R=\"24\"><Sub ID=\"2\" Typ=\"26\"></Sub></Pty><Pty ID=\"B115\" R=\"12\"></Pty><TrdRegTS TS=\"2023-02-21T12:25:13.230-6:00\" Typ=\"1\"></TrdRegTS></RptSide></TrdCaptRpt>\n"
          ]
        }
      ]
    },
    {
      "cell_type": "code",
      "source": [
        "val_data.iloc[2]['CCP_Message1']"
      ],
      "metadata": {
        "colab": {
          "base_uri": "https://localhost:8080/",
          "height": 105
        },
        "id": "YEC0R-8sm1X5",
        "outputId": "bda44e24-51ed-46cd-c200-2d325740f21a"
      },
      "execution_count": null,
      "outputs": [
        {
          "output_type": "execute_result",
          "data": {
            "text/plain": [
              "'<TrdCaptRpt RptID=\"580200\" TrdID=\"36830418056\" TransTyp=\"2\" RptTyp=\"2\" TrdTyp=\"1\" MtchID=\"28028026921\" PxTyp=\"2\" LastQty=\"89\" LastPx=\"100\" TrdDt=\"2022-12-17\" BizDt=\"2023-01-11\" TxnTm=\"2023-02-21T00:12:55.138-6:00\"><Hdr SID=\"MGEX\" TID=\"TL98\" PosDup=\"N\" PosRsnd=\"Y\" Snt=\"2023-02-21T00:12:55.160-6:00\"></Hdr><Instrmt Sym=\"ABP\" ID=\"AS\" Src=\"H\" CFI=\"FCCPXX\" MMY=\"202307\" MatDt=\"2023-07-2\" Mult=\"0.4\" Exch=\"HDPL\"></Instrmt><RptSide Side=\"2\" Ccy=\"USD\" InptSrc=\"MA\" InptDev=\"PORTAL\" CustCpcty=\"3\" PosEfct=\"O\" ClOrdID=\"123\" MLegRptTyp=\"1\" AllocInd=\"1\" GrpID=\"18281000022\" AvgPxInd=\"1\"><Pty ID=\"MGEX\" R=\"21\"></Pty><Pty ID=\"210\" R=\"1\"></Pty><Pty ID=\"174\" R=\"4\"></Pty><Pty ID=\"Ahlem-110\" R=\"24\"><Sub ID=\"2\" Typ=\"26\"></Sub></Pty><Pty ID=\"B115\" R=\"12\"></Pty><TrdRegTS TS=\"2023-02-21T10:18:15.230-6:00\" Typ=\"1\"></TrdRegTS></RptSide></TrdCaptRpt>'"
            ],
            "application/vnd.google.colaboratory.intrinsic+json": {
              "type": "string"
            }
          },
          "metadata": {},
          "execution_count": 183
        }
      ]
    },
    {
      "cell_type": "code",
      "source": [
        "predict1(val_data.iloc[2]['cleaned_input_message'])"
      ],
      "metadata": {
        "colab": {
          "base_uri": "https://localhost:8080/",
          "height": 105
        },
        "id": "_FF7koBzm5Os",
        "outputId": "1e856589-9e32-49ef-da13-a3bbf16ad4e7"
      },
      "execution_count": null,
      "outputs": [
        {
          "output_type": "execute_result",
          "data": {
            "text/plain": [
              "'<TrdCaptRpt RptID=\"580200\" TrdID=\"36830418056\" TransTyp=\"2\" RptTyp=\"2\" TrdTyp=\"1\" MtchID=\"28026921\" PxTyp=\"2\" LastQty=\"89\" LastPx=\"100\" TrdDt=\"2022-12-17\" BizDt=\"2023-01-11\" TxnTm=\"2023-02-21T00:12:55.138-6:00\"><Hdr SID=\"MGEX\" TID=\"TL98\" PosDup=\"N\" PosRsnd=\"Y\" Snt=\"2023-02-21T00:12:55.160-6:00\"></Hdr><Instrmt Sym=\"ABP\" ID=\"AS\" Src=\"H\" CFI=\"FCCPXX\" MMY=\"202307\" MatDt=\"2023-07-2\" Mult=\"0.4\" Exch=\"HDPL\"></Instrmt><RptSide Side=\"2\" Ccy=\"USD\" InptSrc=\"MA\" InptDev=\"PORTAL\" CustCpcty=\"3\" PosEfct=\"O\" ClOrdID=\"123\" MLegRptTyp=\"1\" AllocInd=\"1\" GrpID=\"18281000022\" AvgPxInd=\"1\"><Pty ID=\"MGEX\" R=\"21\"></Pty><Pty ID=\"210\" R=\"1\"></Pty><Pty ID=\"174\" R=\"4\"></Pty><Pty ID=\"Ahlem-110\" R=\"24\"><Sub ID=\"2\" Typ=\"26\"></Sub></Pty><Pty ID=\"B115\" R=\"12\"></Pty><TrdRegTS TS=\"2023-02-21T10:18:15.230-6:00\" Typ=\"1\"></TrdRegTS></RptSide></TrdCaptRpt>'"
            ],
            "application/vnd.google.colaboratory.intrinsic+json": {
              "type": "string"
            }
          },
          "metadata": {},
          "execution_count": 184
        }
      ]
    },
    {
      "cell_type": "code",
      "source": [
        "val_data.iloc[40]['CCP_Message1']"
      ],
      "metadata": {
        "colab": {
          "base_uri": "https://localhost:8080/",
          "height": 105
        },
        "id": "EPLsPNDirR0A",
        "outputId": "fff5c39f-b9ca-47b9-ab23-7d83734ec3de"
      },
      "execution_count": null,
      "outputs": [
        {
          "output_type": "execute_result",
          "data": {
            "text/plain": [
              "'<TrdCaptRpt RptID=\"580200\" TrdID=\"35391225935\" TransTyp=\"2\" RptTyp=\"2\" TrdTyp=\"29\" MtchID=\"26244272726\" PxTyp=\"2\" LastQty=\"26\" LastPx=\"370\" TrdDt=\"2023-01-02\" BizDt=\"2023-02-05\" TxnTm=\"2023-02-15T00:12:55.138-7:00\"><Hdr SID=\"MGEX\" TID=\"B509\" PosDup=\"N\" PosRsnd=\"Y\" Snt=\"2023-02-15T00:12:55.160-7:00\"></Hdr><Instrmt Sym=\"TMP\" ID=\"W\" Src=\"H\" CFI=\"FCAPSX\" MMY=\"202307\" MatDt=\"2023-07-14\" Mult=\"0.3\" Exch=\"BTNL\"></Instrmt><RptSide Side=\"1\" Ccy=\"USD\" InptSrc=\"SY\" InptDev=\"CLEARING\" CustCpcty=\"2\" PosEfct=\"C\" ClOrdID=\"245BTN\" MLegRptTyp=\"1\" AllocInd=\"1\" GrpID=\"18281000022\" AvgPxInd=\"1\"><Pty ID=\"MGEX\" R=\"21\"></Pty><Pty ID=\"210\" R=\"1\"></Pty><Pty ID=\"376\" R=\"4\"></Pty><Pty ID=\"Mohamed-300\" R=\"24\"><Sub ID=\"1\" Typ=\"26\"></Sub></Pty><Pty ID=\"A123\" R=\"12\"></Pty><TrdRegTS TS=\"2023-02-15T12:25:13.100-7:00\" Typ=\"1\"></TrdRegTS></RptSide></TrdCaptRpt>'"
            ],
            "application/vnd.google.colaboratory.intrinsic+json": {
              "type": "string"
            }
          },
          "metadata": {},
          "execution_count": 185
        }
      ]
    },
    {
      "cell_type": "code",
      "source": [
        "predict1(val_data.iloc[40]['cleaned_input_message'])"
      ],
      "metadata": {
        "colab": {
          "base_uri": "https://localhost:8080/",
          "height": 105
        },
        "id": "TBH7rDoDrVIr",
        "outputId": "e31a6656-bd55-410a-c2b9-3ff2e8548896"
      },
      "execution_count": null,
      "outputs": [
        {
          "output_type": "execute_result",
          "data": {
            "text/plain": [
              "'<TrdCaptRpt RptID=\"580200\" TrdID=\"35391225935\" TransTyp=\"2\" RptTyp=\"2\" TrdTyp=\"29\" MtchID=\"262442726\" PxTyp=\"2\" LastQty=\"26\" LastPx=\"370\" TrdDt=\"2023-01-02\" BizDt=\"2023-02-05\" TxnTm=\"2023-02-15T00:12:55.138-7:00\"><Hdr SID=\"MGEX\" TID=\"B509\" PosDup=\"N\" PosRsnd=\"Y\" Snt=\"2023-02-15T00:12:55.160-7:00\"></Hdr><Instrmt Sym=\"TMP\" ID=\"W\" Src=\"H\" CFI=\"FCAPSX\" MMY=\"202307\" MatDt=\"2023-07-14\" Mult=\"0.3\" Exch=\"BTNL\"></Instrmt><RptSide Side=\"1\" Ccy=\"USD\" InptSrc=\"SY\" InptDev=\"CLEARING\" CustCpcty=\"2\" PosEfct=\"C\" ClOrdID=\"245BTN\" MLegRptTyp=\"1\" AllocInd=\"1\" GrpID=\"18281000022\" AvgPxInd=\"1\"><Pty ID=\"MGEX\" R=\"21\"></Pty><Pty ID=\"210\" R=\"1\"></Pty><Pty ID=\"376\" R=\"4\"></Pty><Pty ID=\"Mohamed-300\" R=\"24\"><Sub ID=\"1\" Typ=\"26\"></Sub></Pty><Pty ID=\"A123\" R=\"12\"></Pty><TrdRegTS TS=\"2023-02-15T12:25:13.100-7:00\" Typ=\"1\"></TrdRegTS></RptSide></TrdCaptRpt>'"
            ],
            "application/vnd.google.colaboratory.intrinsic+json": {
              "type": "string"
            }
          },
          "metadata": {},
          "execution_count": 186
        }
      ]
    },
    {
      "cell_type": "code",
      "source": [
        "val_data.iloc[78]['CCP_Message1']"
      ],
      "metadata": {
        "colab": {
          "base_uri": "https://localhost:8080/",
          "height": 105
        },
        "id": "ocNpZC5arX6H",
        "outputId": "8faa66c4-d84b-474a-a614-e0a29b77e6b8"
      },
      "execution_count": null,
      "outputs": [
        {
          "output_type": "execute_result",
          "data": {
            "text/plain": [
              "'<TrdCaptRpt RptID=\"580200\" TrdID=\"24296199345\" TransTyp=\"2\" RptTyp=\"2\" TrdTyp=\"20\" MtchID=\"35356548035\" PxTyp=\"2\" LastQty=\"59\" LastPx=\"876\" TrdDt=\"2023-01-02\" BizDt=\"2023-01-20\" TxnTm=\"2023-02-21T00:12:55.138-6:00\"><Hdr SID=\"MGEX\" TID=\"HBPL\" PosDup=\"Y\" PosRsnd=\"Y\" Snt=\"2023-02-21T00:12:55.160-6:00\"></Hdr><Instrmt Sym=\"TMP\" ID=\"AS\" Src=\"H\" CFI=\"FCAPSX\" MMY=\"202305\" MatDt=\"2023-05-15\" Mult=\"0.2\" Exch=\"HDPL\"></Instrmt><RptSide Side=\"1\" Ccy=\"USD\" InptSrc=\"EL\" InptDev=\"PORTAL\" CustCpcty=\"3\" PosEfct=\"C\" ClOrdID=\"146ZBT\" MLegRptTyp=\"1\" AllocInd=\"1\" GrpID=\"18281000022\" AvgPxInd=\"1\"><Pty ID=\"MGEX\" R=\"21\"></Pty><Pty ID=\"210\" R=\"1\"></Pty><Pty ID=\"236\" R=\"4\"></Pty><Pty ID=\"bl-NL\" R=\"24\"><Sub ID=\"2\" Typ=\"26\"></Sub></Pty><Pty ID=\"B115\" R=\"12\"></Pty><TrdRegTS TS=\"2023-02-21T12:25:13.230-6:00\" Typ=\"1\"></TrdRegTS></RptSide></TrdCaptRpt>'"
            ],
            "application/vnd.google.colaboratory.intrinsic+json": {
              "type": "string"
            }
          },
          "metadata": {},
          "execution_count": 240
        }
      ]
    },
    {
      "cell_type": "code",
      "source": [
        "predict1(val_data.iloc[78]['cleaned_input_message'])"
      ],
      "metadata": {
        "colab": {
          "base_uri": "https://localhost:8080/",
          "height": 105
        },
        "id": "QfdaSG-WraH-",
        "outputId": "c1ee5347-0323-4adc-9c1a-c66cd616afbd"
      },
      "execution_count": null,
      "outputs": [
        {
          "output_type": "execute_result",
          "data": {
            "text/plain": [
              "'<TrdCaptRpt RptID=\"580200\" TrdID=\"24296199345\" TransTyp=\"2\" RptTyp=\"2\" TrdTyp=\"20\" MtchID=\"356548035\" PxTyp=\"2\" LastQty=\"59\" LastPx=\"876\" TrdDt=\"2023-01-02\" BizDt=\"2023-01-20\" TxnTm=\"2023-02-21T00:12:55.138-6:00\"><Hdr SID=\"MGEX\" TID=\"HBPL\" PosDup=\"Y\" PosRsnd=\"Y\" Snt=\"2023-02-21T00:12:55.160-6:00\"></Hdr><Instrmt Sym=\"TMP\" ID=\"AS\" Src=\"H\" CFI=\"FCAPSX\" MMY=\"202305\" MatDt=\"2023-05-15\" Mult=\"0.2\" Exch=\"HDPL\"></Instrmt><RptSide Side=\"1\" Ccy=\"USD\" InptSrc=\"EL\" InptDev=\"PORTAL\" CustCpcty=\"3\" PosEfct=\"C\" ClOrdID=\"146ZBT\" MLegRptTyp=\"1\" AllocInd=\"1\" GrpID=\"18281000022\" AvgPxInd=\"1\"><Pty ID=\"MGEX\" R=\"21\"></Pty><Pty ID=\"210\" R=\"1\"></Pty><Pty ID=\"236\" R=\"4\"></Pty><Pty ID=\"bl-NL\" R=\"24\"><Sub ID=\"2\" Typ=\"26\"></Sub></Pty><Pty ID=\"B115\" R=\"12\"></Pty><TrdRegTS TS=\"2023-02-21T12:25:13.230-6:00\" Typ=\"1\"></TrdRegTS></RptSide></TrdCaptRpt>'"
            ],
            "application/vnd.google.colaboratory.intrinsic+json": {
              "type": "string"
            }
          },
          "metadata": {},
          "execution_count": 241
        }
      ]
    },
    {
      "cell_type": "markdown",
      "source": [
        "**Testing the first model on new samples**"
      ],
      "metadata": {
        "id": "GgK3HHYI_-dt"
      }
    },
    {
      "cell_type": "code",
      "source": [
        "trade_msg1 = \"\"\"<TrdCaptRpt RptID=\"141\" TrdID=\"30051000852\" TransTyp=\"0\" RptTyp=\"2\" TrdTyp=\"1\" MtchID=\"30051000320\" PxTyp=\"2\" LastQty=\"10\" LastPx=\"29870\" TrdDt=\"2023-09-05\" BizDt=\"2023-09-05\" TxnTm=\"2023-09-05T09:38:55.276-05:00\"><Hdr SID=\"MGEX\" TID=\"D210\" PosDup=\"N\" PosRsnd=\"N\" Snt=\"2023-09-05T09:38:55.324-05:00\"></Hdr><Instrmt Sym=\"BUS\" ID=\"BUS\" Src=\"H\" CFI=\"FCCPXX\" MMY=\"202309\" MatDt=\"2023-09-27\" Mult=\"1\" Exch=\"BTNL\"></Instrmt><RptSide Side=\"1\" Ccy=\"USD\" InptSrc=\"MA\" InptDev=\"PORTAL\" CustCpcty=\"1\" PosEfct=\"O\" ClOrdID=\"CL1234\" MLegRptTyp=\"1\" AllocInd=\"0\"><Pty ID=\"MGEX\" R=\"21\"></Pty><Pty ID=\"210\" R=\"1\"></Pty><Pty ID=\"210\" R=\"4\"></Pty><Pty ID=\"khalil\" R=\"24\"><Sub ID=\"2\" Typ=\"26\"></Sub></Pty><Pty ID=\"210\" R=\"12\"></Pty><TrdRegTS TS=\"2023-09-05T09:38:55.276-05:00\" Typ=\"1\"></TrdRegTS></RptSide></TrdCaptRpt>\"\"\"\n",
        "sgw_op1 = \"\"\"<TrdCaptRpt RptID=\"30051000852\" TrdDt=\"2023-09-05\" BizDt=\"2023-09-05\" TxnTm=\"2023-09-05T09:38:55.276-05:00\" TrdID=\"30051000852\" TransTyp=\"2\" RptTyp=\"0\" LastQty=\"10.0\" LastPx=\"29870.0\"><Hdr Snt=\"2023-09-05T15:42:48.605+01:00\" TID=\"MGEX\" SID=\"D210\"/><Instrmt Exch=\"BTNL\" ID=\"BUS\" MMY=\"202309\" CFI=\"FXXXXX\"/><RptSide Side=\"1\" AvgPxInd=\"0\" AllocInd=\"1\" AllocGrpInst=\"0\"><Pty ID=\"210\" R=\"1\"/></RptSide></TrdCaptRpt>\"\"\""
      ],
      "metadata": {
        "id": "F4eeRRNenA2m"
      },
      "execution_count": null,
      "outputs": []
    },
    {
      "cell_type": "code",
      "source": [
        "trade_msg1"
      ],
      "metadata": {
        "colab": {
          "base_uri": "https://localhost:8080/",
          "height": 105
        },
        "id": "X9hfBIfHndmJ",
        "outputId": "8d89d9c1-9e02-4d45-d077-53d616b3e6cb"
      },
      "execution_count": null,
      "outputs": [
        {
          "output_type": "execute_result",
          "data": {
            "text/plain": [
              "'<TrdCaptRpt RptID=\"141\" TrdID=\"30051000852\" TransTyp=\"0\" RptTyp=\"2\" TrdTyp=\"1\" MtchID=\"30051000320\" PxTyp=\"2\" LastQty=\"10\" LastPx=\"29870\" TrdDt=\"2023-09-05\" BizDt=\"2023-09-05\" TxnTm=\"2023-09-05T09:38:55.276-05:00\"><Hdr SID=\"MGEX\" TID=\"D210\" PosDup=\"N\" PosRsnd=\"N\" Snt=\"2023-09-05T09:38:55.324-05:00\"></Hdr><Instrmt Sym=\"BUS\" ID=\"BUS\" Src=\"H\" CFI=\"FCCPXX\" MMY=\"202309\" MatDt=\"2023-09-27\" Mult=\"1\" Exch=\"BTNL\"></Instrmt><RptSide Side=\"1\" Ccy=\"USD\" InptSrc=\"MA\" InptDev=\"PORTAL\" CustCpcty=\"1\" PosEfct=\"O\" ClOrdID=\"CL1234\" MLegRptTyp=\"1\" AllocInd=\"0\"><Pty ID=\"MGEX\" R=\"21\"></Pty><Pty ID=\"210\" R=\"1\"></Pty><Pty ID=\"210\" R=\"4\"></Pty><Pty ID=\"khalil\" R=\"24\"><Sub ID=\"2\" Typ=\"26\"></Sub></Pty><Pty ID=\"210\" R=\"12\"></Pty><TrdRegTS TS=\"2023-09-05T09:38:55.276-05:00\" Typ=\"1\"></TrdRegTS></RptSide></TrdCaptRpt>'"
            ],
            "application/vnd.google.colaboratory.intrinsic+json": {
              "type": "string"
            }
          },
          "metadata": {},
          "execution_count": 224
        }
      ]
    },
    {
      "cell_type": "code",
      "source": [
        "sgw_op1"
      ],
      "metadata": {
        "colab": {
          "base_uri": "https://localhost:8080/",
          "height": 70
        },
        "id": "w9LR4F--nfS3",
        "outputId": "94a9d88b-aeed-4e75-e539-a77e2f4d0654"
      },
      "execution_count": null,
      "outputs": [
        {
          "output_type": "execute_result",
          "data": {
            "text/plain": [
              "'<TrdCaptRpt RptID=\"30051000852\" TrdDt=\"2023-09-05\" BizDt=\"2023-09-05\" TxnTm=\"2023-09-05T09:38:55.276-05:00\" TrdID=\"30051000852\" TransTyp=\"2\" RptTyp=\"0\" LastQty=\"10.0\" LastPx=\"29870.0\"><Hdr Snt=\"2023-09-05T15:42:48.605+01:00\" TID=\"MGEX\" SID=\"D210\"/><Instrmt Exch=\"BTNL\" ID=\"BUS\" MMY=\"202309\" CFI=\"FXXXXX\"/><RptSide Side=\"1\" AvgPxInd=\"0\" AllocInd=\"1\" AllocGrpInst=\"0\"><Pty ID=\"210\" R=\"1\"/></RptSide></TrdCaptRpt>'"
            ],
            "application/vnd.google.colaboratory.intrinsic+json": {
              "type": "string"
            }
          },
          "metadata": {},
          "execution_count": 225
        }
      ]
    },
    {
      "cell_type": "code",
      "source": [
        "inp_msg1 = trade_msg1+' '+sgw_op1\n",
        "cleaned_inp_msg1 = clean_sequence(inp_msg1)"
      ],
      "metadata": {
        "id": "EzqY_28enLs9"
      },
      "execution_count": null,
      "outputs": []
    },
    {
      "cell_type": "code",
      "source": [
        "inp_msg1"
      ],
      "metadata": {
        "colab": {
          "base_uri": "https://localhost:8080/",
          "height": 123
        },
        "id": "vIPl49QDQPXh",
        "outputId": "b3155986-f58a-4f1d-a541-2f8c24e520a6"
      },
      "execution_count": null,
      "outputs": [
        {
          "output_type": "execute_result",
          "data": {
            "text/plain": [
              "'<TrdCaptRpt RptID=\"141\" TrdID=\"30051000852\" TransTyp=\"0\" RptTyp=\"2\" TrdTyp=\"1\" MtchID=\"30051000320\" PxTyp=\"2\" LastQty=\"10\" LastPx=\"29870\" TrdDt=\"2023-09-05\" BizDt=\"2023-09-05\" TxnTm=\"2023-09-05T09:38:55.276-05:00\"><Hdr SID=\"MGEX\" TID=\"D210\" PosDup=\"N\" PosRsnd=\"N\" Snt=\"2023-09-05T09:38:55.324-05:00\"></Hdr><Instrmt Sym=\"BUS\" ID=\"BUS\" Src=\"H\" CFI=\"FCCPXX\" MMY=\"202309\" MatDt=\"2023-09-27\" Mult=\"1\" Exch=\"BTNL\"></Instrmt><RptSide Side=\"1\" Ccy=\"USD\" InptSrc=\"MA\" InptDev=\"PORTAL\" CustCpcty=\"1\" PosEfct=\"O\" ClOrdID=\"CL1234\" MLegRptTyp=\"1\" AllocInd=\"0\"><Pty ID=\"MGEX\" R=\"21\"></Pty><Pty ID=\"210\" R=\"1\"></Pty><Pty ID=\"210\" R=\"4\"></Pty><Pty ID=\"khalil\" R=\"24\"><Sub ID=\"2\" Typ=\"26\"></Sub></Pty><Pty ID=\"210\" R=\"12\"></Pty><TrdRegTS TS=\"2023-09-05T09:38:55.276-05:00\" Typ=\"1\"></TrdRegTS></RptSide></TrdCaptRpt> <TrdCaptRpt RptID=\"30051000852\" TrdDt=\"2023-09-05\" BizDt=\"2023-09-05\" TxnTm=\"2023-09-05T09:38:55.276-05:00\" TrdID=\"30051000852\" TransTyp=\"2\" RptTyp=\"0\" LastQty=\"10.0\" LastPx=\"29870.0\"><Hdr Snt=\"2023-09-05T15:42:48.605+01:00\" TID=\"MGEX\" SID=\"D210\"/><Instrmt Exch=\"BTNL\" ID=\"BUS\" MMY=\"202309\" CFI=\"FXXXXX\"/><RptSide Side=\"1\" AvgPxInd=\"0\" AllocInd=\"1\" AllocGrpInst=\"0\"><Pty ID=\"210\" R=\"1\"/></RptSide></TrdCaptRpt>'"
            ],
            "application/vnd.google.colaboratory.intrinsic+json": {
              "type": "string"
            }
          },
          "metadata": {},
          "execution_count": 264
        }
      ]
    },
    {
      "cell_type": "code",
      "source": [
        "cleaned_inp_msg1"
      ],
      "metadata": {
        "colab": {
          "base_uri": "https://localhost:8080/",
          "height": 123
        },
        "id": "IKKqo7d2niMA",
        "outputId": "cee12fbd-954a-4bec-991f-54a842add5aa"
      },
      "execution_count": null,
      "outputs": [
        {
          "output_type": "execute_result",
          "data": {
            "text/plain": [
              "'TrdCaptRpt RptID=141 TrdID=30051000852 TransTyp=0 RptTyp=2 TrdTyp=1 MtchID=30051000320 PxTyp=2 LastQty=10 LastPx=29870 TrdDt=2023-09-05 BizDt=2023-09-05 TxnTm=2023-09-05T09:38:55.276-05:00 Hdr SID=MGEX TID=D210 PosDup=N PosRsnd=N Snt=2023-09-05T09:38:55.324-05:00 Hdr Instrmt Sym=BUS ID=BUS Src=H CFI=FCCPXX MMY=202309 MatDt=2023-09-27 Mult=1 Exch=BTNL Instrmt RptSide Side=1 Ccy=USD InptSrc=MA InptDev=PORTAL CustCpcty=1 PosEfct=O ClOrdID=CL1234 MLegRptTyp=1 AllocInd=0 Pty ID=MGEX R=21 Pty Pty ID=210 R=1 Pty Pty ID=210 R=4 Pty Pty ID=khalil R=24 Sub ID=2 Typ=26 Sub Pty Pty ID=210 R=12 Pty TrdRegTS TS=2023-09-05T09:38:55.276-05:00 Typ=1 TrdRegTS RptSide TrdCaptRpt  TrdCaptRpt RptID=30051000852 TrdDt=2023-09-05 BizDt=2023-09-05 TxnTm=2023-09-05T09:38:55.276-05:00 TrdID=30051000852 TransTyp=2 RptTyp=0 LastQty=10.0 LastPx=29870.0 Hdr Snt=2023-09-05T15:42:48.605+01:00 TID=MGEX SID=D210 Instrmt Exch=BTNL ID=BUS MMY=202309 CFI=FXXXXX RptSide Side=1 AvgPxInd=0 AllocInd=1 AllocGrpInst=0 Pty ID=210 R=1 RptSide TrdCaptRpt '"
            ],
            "application/vnd.google.colaboratory.intrinsic+json": {
              "type": "string"
            }
          },
          "metadata": {},
          "execution_count": 227
        }
      ]
    },
    {
      "cell_type": "code",
      "source": [
        "predict1(cleaned_inp_msg1)"
      ],
      "metadata": {
        "colab": {
          "base_uri": "https://localhost:8080/",
          "height": 105
        },
        "id": "DSnNmvv5nbSZ",
        "outputId": "46d0f3ab-784c-421f-e01c-f5354799674a"
      },
      "execution_count": null,
      "outputs": [
        {
          "output_type": "execute_result",
          "data": {
            "text/plain": [
              "'<TrdCaptRpt RptID=\"580200\" TrdID=\"30051000852\" TransTyp=\"2\" RptTyp=\"2\" TrdTyp=\"1\" MtchID=\"30051000320\" PxTyp=\"2\" LastQty=\"10\" LastPx=\"29870\" TrdDt=\"2023-09-05\" BizDt=\"2023-09-05\" TxnTm=\"2023-09-05T00:12:55.138-05:00\"><Hdr SID=\"MGEX\" TID=\"D210\" PosDup=\"N\" PosRsnd=\"N\" Snt=\"2023-09-05T00:12:55.160-05:00\"></Hdr><Instrmt Sym=\"BUS\" ID=\"BUS\" Src=\"H\" CFI=\"FCCPXX\" MMY=\"202309\" MatDt=\"2023-09-27\" Mult=\"1\" Exch=\"BTNL\"></Instrmt><RptSide Side=\"1\" Ccy=\"USD\" InptSrc=\"MA\" InptDev=\"PORTAL\" CustCpcty=\"1\" PosEfct=\"O\" ClOrdID=\"CL1234\" MLegRptTyp=\"1\" AllocInd=\"1\" GrpID=\"18281000022\" AvgPxInd=\"0\"><Pty ID=\"MGEX\" R=\"21\"></Pty><Pty ID=\"210\" R=\"1\"></Pty><Pty ID=\"210\" R=\"4\"></Pty><Pty ID=\"khalil\" R=\"24\"><Sub ID=\"2\" Typ=\"26\"></Sub></Pty><Pty ID=\"210\" R=\"12\"></Pty><TrdRegTS TS=\"2023-09-05T09:38:55.276-05:00\" Typ=\"1\"></TrdRegTS></RptSide></TrdCaptRpt>'"
            ],
            "application/vnd.google.colaboratory.intrinsic+json": {
              "type": "string"
            }
          },
          "metadata": {},
          "execution_count": 228
        }
      ]
    },
    {
      "cell_type": "code",
      "source": [
        "trade_msg2=\"\"\"<TrdCaptRpt RptID=\"345987\" TrdID=\"31051000856\" TransTyp=\"0\" RptTyp=\"2\" TrdTyp=\"1\" MtchID=\"32051000344\" PxTyp=\"2\" LastQty=\"20\" LastPx=\"3970\" TrdDt=\"2024-10-05\" BizDt=\"2024-10-05\" TxnTm=\"2024-10-05T10:30:56.300-05:00\"><Hdr SID=\"MGEX\" TID=\"D210\" PosDup=\"N\" PosRsnd=\"N\" Snt=\"2024-10-05T10:30:56.324-05:00\"></Hdr><Instrmt Sym=\"BUS\" ID=\"BUS\" Src=\"H\" CFI=\"FCAPSX\" MMY=\"202411\" MatDt=\"2024-11-28\" Mult=\"1\" Exch=\"BTNL\"></Instrmt><RptSide Side=\"1\" Ccy=\"USD\" InptSrc=\"SY\" InptDev=\"PORTAL\" CustCpcty=\"2\" PosEfct=\"O\" ClOrdID=\"PL224\" MLegRptTyp=\"1\" AllocInd=\"0\"><Pty ID=\"MGEX\" R=\"21\"></Pty><Pty ID=\"210\" R=\"1\"></Pty><Pty ID=\"210\" R=\"4\"></Pty><Pty ID=\"p-AK\" R=\"24\"><Sub ID=\"2\" Typ=\"26\"></Sub></Pty><Pty ID=\"210\" R=\"12\"></Pty><TrdRegTS TS=\"2024-10-05T10:30:56.300-05:00\" Typ=\"1\"></TrdRegTS></RptSide></TrdCaptRpt>\"\"\"\n",
        "sgw_op2 = \"\"\"<TrdCaptRpt RptID=\"31051000856\" TrdDt=\"2024-10-05\" BizDt=\"2024-10-05\" TxnTm=\"2024-10-05T10:30:56.324-05:00\"\" TrdID=\"31051000856\" TransTyp=\"2\" RptTyp=\"0\" LastQty=\"20.0\" LastPx=\"3970.0\"><Hdr Snt=\"2024-10-05T15:42:48.605+01:00\" TID=\"MGEX\" SID=\"D210\"/><Instrmt Exch=\"BTNL\" ID=\"BUS\" MMY=\"202411\" CFI=\"FXXXXX\"/><RptSide Side=\"1\" AvgPxInd=\"0\" AllocInd=\"1\" AllocGrpInst=\"0\"><Pty ID=\"210\" R=\"1\"/></RptSide></TrdCaptRpt>\"\"\""
      ],
      "metadata": {
        "id": "w2IfHQ6Hnrnp"
      },
      "execution_count": null,
      "outputs": []
    },
    {
      "cell_type": "code",
      "source": [
        "inp_msg2 = trade_msg2+' '+sgw_op2\n",
        "cleaned_inp_msg2 = clean_sequence(inp_msg2)"
      ],
      "metadata": {
        "id": "W507lg0jssDo"
      },
      "execution_count": null,
      "outputs": []
    },
    {
      "cell_type": "code",
      "source": [
        "trade_msg2"
      ],
      "metadata": {
        "colab": {
          "base_uri": "https://localhost:8080/",
          "height": 105
        },
        "id": "hLhT7fPwstm4",
        "outputId": "99715b43-0654-44e3-96fe-5f8a6d2e042a"
      },
      "execution_count": null,
      "outputs": [
        {
          "output_type": "execute_result",
          "data": {
            "text/plain": [
              "'<TrdCaptRpt RptID=\"345987\" TrdID=\"31051000856\" TransTyp=\"0\" RptTyp=\"2\" TrdTyp=\"1\" MtchID=\"32051000344\" PxTyp=\"2\" LastQty=\"20\" LastPx=\"3970\" TrdDt=\"2024-10-05\" BizDt=\"2024-10-05\" TxnTm=\"2024-10-05T10:30:56.300-05:00\"><Hdr SID=\"MGEX\" TID=\"D210\" PosDup=\"N\" PosRsnd=\"N\" Snt=\"2024-10-05T10:30:56.324-05:00\"></Hdr><Instrmt Sym=\"BUS\" ID=\"BUS\" Src=\"H\" CFI=\"FCAPSX\" MMY=\"202411\" MatDt=\"2024-11-28\" Mult=\"1\" Exch=\"BTNL\"></Instrmt><RptSide Side=\"1\" Ccy=\"USD\" InptSrc=\"SY\" InptDev=\"PORTAL\" CustCpcty=\"2\" PosEfct=\"O\" ClOrdID=\"PL224\" MLegRptTyp=\"1\" AllocInd=\"0\"><Pty ID=\"MGEX\" R=\"21\"></Pty><Pty ID=\"210\" R=\"1\"></Pty><Pty ID=\"210\" R=\"4\"></Pty><Pty ID=\"p-AK\" R=\"24\"><Sub ID=\"2\" Typ=\"26\"></Sub></Pty><Pty ID=\"210\" R=\"12\"></Pty><TrdRegTS TS=\"2024-10-05T10:30:56.300-05:00\" Typ=\"1\"></TrdRegTS></RptSide></TrdCaptRpt>'"
            ],
            "application/vnd.google.colaboratory.intrinsic+json": {
              "type": "string"
            }
          },
          "metadata": {},
          "execution_count": 201
        }
      ]
    },
    {
      "cell_type": "code",
      "source": [
        "sgw_op2"
      ],
      "metadata": {
        "colab": {
          "base_uri": "https://localhost:8080/",
          "height": 70
        },
        "id": "RwIJFzJ1sv72",
        "outputId": "35b7aeba-fda0-4acb-a813-f2373510f8f8"
      },
      "execution_count": null,
      "outputs": [
        {
          "output_type": "execute_result",
          "data": {
            "text/plain": [
              "'<TrdCaptRpt RptID=\"31051000856\" TrdDt=\"2024-10-05\" BizDt=\"2024-10-05\" TxnTm=\"2024-10-05T10:30:56.324-05:00\"\" TrdID=\"31051000856\" TransTyp=\"2\" RptTyp=\"0\" LastQty=\"20.0\" LastPx=\"3970.0\"><Hdr Snt=\"2024-10-05T15:42:48.605+01:00\" TID=\"MGEX\" SID=\"D210\"/><Instrmt Exch=\"BTNL\" ID=\"BUS\" MMY=\"202411\" CFI=\"FXXXXX\"/><RptSide Side=\"1\" AvgPxInd=\"0\" AllocInd=\"1\" AllocGrpInst=\"0\"><Pty ID=\"210\" R=\"1\"/></RptSide></TrdCaptRpt>'"
            ],
            "application/vnd.google.colaboratory.intrinsic+json": {
              "type": "string"
            }
          },
          "metadata": {},
          "execution_count": 202
        }
      ]
    },
    {
      "cell_type": "code",
      "source": [
        "inp_msg2"
      ],
      "metadata": {
        "colab": {
          "base_uri": "https://localhost:8080/",
          "height": 123
        },
        "id": "5EMC4ZoQQTRC",
        "outputId": "b805a93b-0cd7-47f3-d635-ea9b0e2179e2"
      },
      "execution_count": null,
      "outputs": [
        {
          "output_type": "execute_result",
          "data": {
            "text/plain": [
              "'<TrdCaptRpt RptID=\"345987\" TrdID=\"31051000856\" TransTyp=\"0\" RptTyp=\"2\" TrdTyp=\"1\" MtchID=\"32051000344\" PxTyp=\"2\" LastQty=\"20\" LastPx=\"3970\" TrdDt=\"2024-10-05\" BizDt=\"2024-10-05\" TxnTm=\"2024-10-05T10:30:56.300-05:00\"><Hdr SID=\"MGEX\" TID=\"D210\" PosDup=\"N\" PosRsnd=\"N\" Snt=\"2024-10-05T10:30:56.324-05:00\"></Hdr><Instrmt Sym=\"BUS\" ID=\"BUS\" Src=\"H\" CFI=\"FCAPSX\" MMY=\"202411\" MatDt=\"2024-11-28\" Mult=\"1\" Exch=\"BTNL\"></Instrmt><RptSide Side=\"1\" Ccy=\"USD\" InptSrc=\"SY\" InptDev=\"PORTAL\" CustCpcty=\"2\" PosEfct=\"O\" ClOrdID=\"PL224\" MLegRptTyp=\"1\" AllocInd=\"0\"><Pty ID=\"MGEX\" R=\"21\"></Pty><Pty ID=\"210\" R=\"1\"></Pty><Pty ID=\"210\" R=\"4\"></Pty><Pty ID=\"p-AK\" R=\"24\"><Sub ID=\"2\" Typ=\"26\"></Sub></Pty><Pty ID=\"210\" R=\"12\"></Pty><TrdRegTS TS=\"2024-10-05T10:30:56.300-05:00\" Typ=\"1\"></TrdRegTS></RptSide></TrdCaptRpt> <TrdCaptRpt RptID=\"31051000856\" TrdDt=\"2024-10-05\" BizDt=\"2024-10-05\" TxnTm=\"2024-10-05T10:30:56.324-05:00\"\" TrdID=\"31051000856\" TransTyp=\"2\" RptTyp=\"0\" LastQty=\"20.0\" LastPx=\"3970.0\"><Hdr Snt=\"2024-10-05T15:42:48.605+01:00\" TID=\"MGEX\" SID=\"D210\"/><Instrmt Exch=\"BTNL\" ID=\"BUS\" MMY=\"202411\" CFI=\"FXXXXX\"/><RptSide Side=\"1\" AvgPxInd=\"0\" AllocInd=\"1\" AllocGrpInst=\"0\"><Pty ID=\"210\" R=\"1\"/></RptSide></TrdCaptRpt>'"
            ],
            "application/vnd.google.colaboratory.intrinsic+json": {
              "type": "string"
            }
          },
          "metadata": {},
          "execution_count": 265
        }
      ]
    },
    {
      "cell_type": "code",
      "source": [
        "cleaned_inp_msg2"
      ],
      "metadata": {
        "colab": {
          "base_uri": "https://localhost:8080/",
          "height": 123
        },
        "id": "tR4jIZFaszKE",
        "outputId": "0c7b9794-9fa4-4e6d-fbfd-1f89c3deae6b"
      },
      "execution_count": null,
      "outputs": [
        {
          "output_type": "execute_result",
          "data": {
            "text/plain": [
              "'TrdCaptRpt RptID=345987 TrdID=31051000856 TransTyp=0 RptTyp=2 TrdTyp=1 MtchID=32051000344 PxTyp=2 LastQty=20 LastPx=3970 TrdDt=2024-10-05 BizDt=2024-10-05 TxnTm=2024-10-05T10:30:56.300-05:00 Hdr SID=MGEX TID=D210 PosDup=N PosRsnd=N Snt=2024-10-05T10:30:56.324-05:00 Hdr Instrmt Sym=BUS ID=BUS Src=H CFI=FCAPSX MMY=202411 MatDt=2024-11-28 Mult=1 Exch=BTNL Instrmt RptSide Side=1 Ccy=USD InptSrc=SY InptDev=PORTAL CustCpcty=2 PosEfct=O ClOrdID=PL224 MLegRptTyp=1 AllocInd=0 Pty ID=MGEX R=21 Pty Pty ID=210 R=1 Pty Pty ID=210 R=4 Pty Pty ID=p-AK R=24 Sub ID=2 Typ=26 Sub Pty Pty ID=210 R=12 Pty TrdRegTS TS=2024-10-05T10:30:56.300-05:00 Typ=1 TrdRegTS RptSide TrdCaptRpt  TrdCaptRpt RptID=31051000856 TrdDt=2024-10-05 BizDt=2024-10-05 TxnTm=2024-10-05T10:30:56.324-05:00 TrdID=31051000856 TransTyp=2 RptTyp=0 LastQty=20.0 LastPx=3970.0 Hdr Snt=2024-10-05T15:42:48.605+01:00 TID=MGEX SID=D210 Instrmt Exch=BTNL ID=BUS MMY=202411 CFI=FXXXXX RptSide Side=1 AvgPxInd=0 AllocInd=1 AllocGrpInst=0 Pty ID=210 R=1 RptSide TrdCaptRpt '"
            ],
            "application/vnd.google.colaboratory.intrinsic+json": {
              "type": "string"
            }
          },
          "metadata": {},
          "execution_count": 203
        }
      ]
    },
    {
      "cell_type": "code",
      "source": [
        "predict1(cleaned_inp_msg2)"
      ],
      "metadata": {
        "colab": {
          "base_uri": "https://localhost:8080/",
          "height": 105
        },
        "id": "3GT8xSYVs29i",
        "outputId": "f8da9dfb-cd15-482c-855d-25f468c72ce2"
      },
      "execution_count": null,
      "outputs": [
        {
          "output_type": "execute_result",
          "data": {
            "text/plain": [
              "'<TrdCaptRpt RptID=\"580200\" TrdID=\"31051000856\" TransTyp=\"2\" RptTyp=\"2\" TrdTyp=\"1\" MtchID=\"32051000344\" PxTyp=\"2\" LastQty=\"20\" LastPx=\"3970\" TrdDt=\"2024-10-05\" BizDt=\"2024-10-05\" TxnTm=\"2024-10-05T00:12:55.138-05:00\"><Hdr SID=\"MGEX\" TID=\"D210\" PosDup=\"N\" PosRsnd=\"N\" Snt=\"2024-10-05T00:12:55.160-05:00\"></Hdr><Instrmt Sym=\"BUS\" ID=\"BUS\" Src=\"H\" CFI=\"FCAPSX\" MMY=\"202411\" MatDt=\"2024-11-28\" Mult=\"1\" Exch=\"BTNL\"></Instrmt><RptSide Side=\"1\" Ccy=\"USD\" InptSrc=\"SY\" InptDev=\"PORTAL\" CustCpcty=\"2\" PosEfct=\"O\" ClOrdID=\"PL224\" MLegRptTyp=\"1\" AllocInd=\"1\" GrpID=\"18281000022\" AvgPxInd=\"0\"><Pty ID=\"MGEX\" R=\"21\"></Pty><Pty ID=\"210\" R=\"1\"></Pty><Pty ID=\"210\" R=\"4\"></Pty><Pty ID=\"p-AK\" R=\"24\"><Sub ID=\"2\" Typ=\"26\"></Sub></Pty><Pty ID=\"210\" R=\"12\"></Pty><TrdRegTS TS=\"2024-10-05T10:30:56.300-05:00\" Typ=\"1\"></TrdRegTS></RptSide></TrdCaptRpt>'"
            ],
            "application/vnd.google.colaboratory.intrinsic+json": {
              "type": "string"
            }
          },
          "metadata": {},
          "execution_count": 204
        }
      ]
    },
    {
      "cell_type": "markdown",
      "source": [
        "**Creating Custom Datasets and Data Loaders for the second model**"
      ],
      "metadata": {
        "id": "ijp6pR8HAIbW"
      }
    },
    {
      "cell_type": "code",
      "source": [
        "class CustomDataset2(Dataset):\n",
        "    def __init__(self, data, tokenizer, max_length):\n",
        "        self.data = data\n",
        "        self.tokenizer = tokenizer\n",
        "        self.max_length = max_length\n",
        "\n",
        "    def __len__(self):\n",
        "        return len(self.data)\n",
        "\n",
        "    def __getitem__(self, index):\n",
        "        phrase = self.data.iloc[index]['cleaned_input_message']\n",
        "        target = self.data.iloc[index]['CCP_Message2']\n",
        "\n",
        "        input_text = f\"{phrase} {target}\"\n",
        "\n",
        "        input_ids = self.tokenizer.encode(input_text, return_tensors='pt', max_length=self.max_length, truncation=True, padding='max_length')\n",
        "\n",
        "        return input_ids"
      ],
      "metadata": {
        "id": "d34HMp-htxGt"
      },
      "execution_count": null,
      "outputs": []
    },
    {
      "cell_type": "code",
      "source": [
        "train_dataset2 = CustomDataset2(train_data, tokenizer, MAX_LENGTH)\n",
        "val_dataset2 = CustomDataset2(val_data, tokenizer, MAX_LENGTH)"
      ],
      "metadata": {
        "id": "l6FvPMJ4uMP1"
      },
      "execution_count": null,
      "outputs": []
    },
    {
      "cell_type": "code",
      "source": [
        "print(type(train_dataset2[0]))"
      ],
      "metadata": {
        "colab": {
          "base_uri": "https://localhost:8080/"
        },
        "id": "VMyNtve1uOpH",
        "outputId": "0c91284a-a77a-43bd-fada-9f38ebcc77af"
      },
      "execution_count": null,
      "outputs": [
        {
          "output_type": "stream",
          "name": "stdout",
          "text": [
            "<class 'torch.Tensor'>\n"
          ]
        }
      ]
    },
    {
      "cell_type": "code",
      "source": [
        "train_loader2 = DataLoader(train_dataset2, batch_size=BATCH_SIZE, shuffle=True)\n",
        "val_loader2 = DataLoader(val_dataset2, batch_size=BATCH_SIZE, shuffle=False)"
      ],
      "metadata": {
        "id": "gDUmL8xfuRQY"
      },
      "execution_count": null,
      "outputs": []
    },
    {
      "cell_type": "code",
      "source": [
        "model2.to(device)"
      ],
      "metadata": {
        "colab": {
          "base_uri": "https://localhost:8080/"
        },
        "id": "h3qQzWCmuUL9",
        "outputId": "91821ec6-dbeb-416b-c990-02e19d577ed6"
      },
      "execution_count": null,
      "outputs": [
        {
          "output_type": "execute_result",
          "data": {
            "text/plain": [
              "GPT2LMHeadModel(\n",
              "  (transformer): GPT2Model(\n",
              "    (wte): Embedding(50257, 768)\n",
              "    (wpe): Embedding(1024, 768)\n",
              "    (drop): Dropout(p=0.1, inplace=False)\n",
              "    (h): ModuleList(\n",
              "      (0-5): 6 x GPT2Block(\n",
              "        (ln_1): LayerNorm((768,), eps=1e-05, elementwise_affine=True)\n",
              "        (attn): GPT2Attention(\n",
              "          (c_attn): Conv1D()\n",
              "          (c_proj): Conv1D()\n",
              "          (attn_dropout): Dropout(p=0.1, inplace=False)\n",
              "          (resid_dropout): Dropout(p=0.1, inplace=False)\n",
              "        )\n",
              "        (ln_2): LayerNorm((768,), eps=1e-05, elementwise_affine=True)\n",
              "        (mlp): GPT2MLP(\n",
              "          (c_fc): Conv1D()\n",
              "          (c_proj): Conv1D()\n",
              "          (act): NewGELUActivation()\n",
              "          (dropout): Dropout(p=0.1, inplace=False)\n",
              "        )\n",
              "      )\n",
              "    )\n",
              "    (ln_f): LayerNorm((768,), eps=1e-05, elementwise_affine=True)\n",
              "  )\n",
              "  (lm_head): Linear(in_features=768, out_features=50257, bias=False)\n",
              ")"
            ]
          },
          "metadata": {},
          "execution_count": 212
        }
      ]
    },
    {
      "cell_type": "code",
      "source": [
        "optimizer2 = torch.optim.AdamW(model2.parameters(), lr=2e-5)"
      ],
      "metadata": {
        "id": "7CWHKrCAuXfg"
      },
      "execution_count": null,
      "outputs": []
    },
    {
      "cell_type": "markdown",
      "source": [
        "**Training the second model**"
      ],
      "metadata": {
        "id": "zBRHsoATC_VA"
      }
    },
    {
      "cell_type": "code",
      "source": [
        "for epoch in range(EPOCHS):\n",
        "    model2.train()\n",
        "    total_loss = 0\n",
        "    for batch in train_loader2:\n",
        "        input_ids = batch.to(device)\n",
        "\n",
        "        labels = input_ids.clone()\n",
        "\n",
        "        optimizer2.zero_grad()\n",
        "\n",
        "        outputs = model2(input_ids, labels=labels)\n",
        "        loss = outputs.loss\n",
        "        loss.backward()\n",
        "        optimizer2.step()\n",
        "\n",
        "        total_loss += loss.item()\n",
        "\n",
        "    avg_train_loss2 = total_loss / len(train_loader2)\n",
        "    print(f'Epoch {epoch+1}, Average Training Loss: {avg_train_loss2}')"
      ],
      "metadata": {
        "colab": {
          "base_uri": "https://localhost:8080/"
        },
        "id": "CwXgZrmvp5mQ",
        "outputId": "b184c01d-9bcf-49c5-d141-09c1cee2245e"
      },
      "execution_count": null,
      "outputs": [
        {
          "output_type": "stream",
          "name": "stdout",
          "text": [
            "Epoch 1, Average Training Loss: 0.6704392905367745\n",
            "Epoch 2, Average Training Loss: 0.17159849895371332\n",
            "Epoch 3, Average Training Loss: 0.1494859629869461\n"
          ]
        }
      ]
    },
    {
      "cell_type": "markdown",
      "source": [
        "**Evaluating the second model**"
      ],
      "metadata": {
        "id": "TdejiyfRDDt3"
      }
    },
    {
      "cell_type": "code",
      "source": [
        "model2.eval()\n",
        "total_loss = 0\n",
        "\n",
        "with torch.no_grad():\n",
        "    for batch in val_loader2:\n",
        "        input_ids = batch.to(device)\n",
        "\n",
        "        labels = input_ids.clone()\n",
        "\n",
        "        outputs = model2(input_ids, labels=labels)\n",
        "        loss = outputs.loss\n",
        "\n",
        "        total_loss += loss.item()\n",
        "\n",
        "avg_val_loss2 = total_loss / len(val_loader2)\n",
        "print(f'Average Validation Loss: {avg_val_loss2}')"
      ],
      "metadata": {
        "colab": {
          "base_uri": "https://localhost:8080/"
        },
        "id": "MiT4aEU8qN-w",
        "outputId": "b7c0a8f2-b930-4d58-df0a-12ee47ed6be4"
      },
      "execution_count": null,
      "outputs": [
        {
          "output_type": "stream",
          "name": "stdout",
          "text": [
            "Average Validation Loss: 0.13040007799863815\n"
          ]
        }
      ]
    },
    {
      "cell_type": "markdown",
      "source": [
        "**Creating Function to generate predictions using the second model**"
      ],
      "metadata": {
        "id": "uoC1CkDTF7H9"
      }
    },
    {
      "cell_type": "code",
      "source": [
        "def predict2(seq):\n",
        "  model2.eval()\n",
        "  input_ids = tokenizer.encode(seq, return_tensors='pt').to(device)\n",
        "  output = model2.generate(input_ids, max_length=1000, num_return_sequences=1, pad_token_id=tokenizer.eos_token_id)\n",
        "  decoded_output = tokenizer.decode(output[0], skip_special_tokens=True)\n",
        "  output_sequence = decoded_output[len(seq):].strip()\n",
        "  return output_sequence"
      ],
      "metadata": {
        "id": "azaU30RTqRy_"
      },
      "execution_count": null,
      "outputs": []
    },
    {
      "cell_type": "code",
      "source": [
        "predict2(val_data.iloc[0]['cleaned_input_message'])"
      ],
      "metadata": {
        "colab": {
          "base_uri": "https://localhost:8080/",
          "height": 88
        },
        "id": "cXg-uObaqWIA",
        "outputId": "0baebee6-bb3e-4997-be34-474b9a99444c"
      },
      "execution_count": null,
      "outputs": [
        {
          "output_type": "execute_result",
          "data": {
            "text/plain": [
              "'<AllocInstrAlert ID=\"580201\" TransTyp=\"0\" Typ=\"13\" GrpID=\"18281000022\" Side=\"2\" Qty=\"28\" GrpQty=\"28\" PxTyp=\"10\" AvgPx=\"370\" TrdDt=\"2023-01-05\" TxnTm=\"2023-04-11T00:12:55.138-5:00\" Stat=\"6\" AvgPxInd=\"1\" BizDt=\"2023-02-05\" TrdTyp=\"3\" CustCpcty=\"2\"><Hdr SID=\"MGEX\" TID=\"ABCD\" PosDup=\"Y\" PosRsnd=\"Y\" Snt=\"2023-04-11T00:12:55.165-5:00\"></Hdr><OrdAlloc ClOrdID=\"123\"></OrdAlloc><AllExc LastQty=\"28\" LastPx=\"370\" TrdID=\"28958285095\"></AllExc><Instrmt ID=\"B\" CFI=\"FCAPSX\" MMY=\"202307\" MatDt=\"2023-07-15\" Exch=\"SNTL\"></Instrmt><Pty ID=\"MGEX\" R=\"21\"></Pty><Pty ID=\"210\" R=\"1\"></Pty><Pty ID=\"356\" R=\"4\"></Pty><Pty ID=\"\" R=\"12\"></Pty><Pty ID=\"Karim-200\" R=\"24\"><Sub ID=\"2\" Typ=\"26\"></Sub></Pty></AllocInstrAlert>'"
            ],
            "application/vnd.google.colaboratory.intrinsic+json": {
              "type": "string"
            }
          },
          "metadata": {},
          "execution_count": 217
        }
      ]
    },
    {
      "cell_type": "code",
      "source": [
        "val_data.iloc[0]['CCP_Message2']"
      ],
      "metadata": {
        "colab": {
          "base_uri": "https://localhost:8080/",
          "height": 88
        },
        "id": "O7oZuiQ1qY-P",
        "outputId": "1a03cf87-e70c-4676-d3a2-fa6e4c387d0f"
      },
      "execution_count": null,
      "outputs": [
        {
          "output_type": "execute_result",
          "data": {
            "text/plain": [
              "'<AllocInstrAlert ID=\"580201\" TransTyp=\"0\" Typ=\"13\" GrpID=\"18281000022\" Side=\"2\" Qty=\"28\" GrpQty=\"28\" PxTyp=\"10\" AvgPx=\"370\" TrdDt=\"2023-01-05\" TxnTm=\"2023-04-11T00:12:55.138-5:00\" Stat=\"6\" AvgPxInd=\"1\" BizDt=\"2023-02-05\" TrdTyp=\"3\" CustCpcty=\"2\"><Hdr SID=\"MGEX\" TID=\"ABCD\" PosDup=\"Y\" PosRsnd=\"Y\" Snt=\"2023-04-11T00:12:55.165-5:00\"></Hdr><OrdAlloc ClOrdID=\"123\"></OrdAlloc><AllExc LastQty=\"28\" LastPx=\"370\" TrdID=\"28958285095\"></AllExc><Instrmt ID=\"B\" CFI=\"FCAPSX\" MMY=\"202307\" MatDt=\"2023-07-15\" Exch=\"SNTL\"></Instrmt><Pty ID=\"MGEX\" R=\"21\"></Pty><Pty ID=\"210\" R=\"1\"></Pty><Pty ID=\"356\" R=\"4\"></Pty><Pty ID=\"\" R=\"12\"></Pty><Pty ID=\"Karim-200\" R=\"24\"><Sub ID=\"2\" Typ=\"26\"></Sub></Pty></AllocInstrAlert>'"
            ],
            "application/vnd.google.colaboratory.intrinsic+json": {
              "type": "string"
            }
          },
          "metadata": {},
          "execution_count": 218
        }
      ]
    },
    {
      "cell_type": "markdown",
      "source": [
        "**Calculating Accuracy for the second model**"
      ],
      "metadata": {
        "id": "41BtFhaPDRUT"
      }
    },
    {
      "cell_type": "code",
      "source": [
        "som2= 0\n",
        "for i in range(100):\n",
        "  if val_data.iloc[i]['CCP_Message2'] == predict2(val_data.iloc[i]['cleaned_input_message']):\n",
        "    som2 = som2+1\n",
        "print('Accuracy for CCP Message 2: ',som2/100)"
      ],
      "metadata": {
        "colab": {
          "base_uri": "https://localhost:8080/"
        },
        "id": "1Ho_bsX3qbVx",
        "outputId": "b2c23098-1148-4d32-f676-947d25732820"
      },
      "execution_count": null,
      "outputs": [
        {
          "output_type": "stream",
          "name": "stdout",
          "text": [
            "Accuracy for CCP Message 2:  1.0\n"
          ]
        }
      ]
    },
    {
      "cell_type": "markdown",
      "source": [
        "**Testing the second model on new samples**"
      ],
      "metadata": {
        "id": "vctXbQhzDaYS"
      }
    },
    {
      "cell_type": "code",
      "source": [
        "predict2(cleaned_inp_msg1)"
      ],
      "metadata": {
        "colab": {
          "base_uri": "https://localhost:8080/",
          "height": 88
        },
        "id": "nmug1gWA3pe3",
        "outputId": "12f99331-8eb3-485e-f083-0e21db97342c"
      },
      "execution_count": null,
      "outputs": [
        {
          "output_type": "execute_result",
          "data": {
            "text/plain": [
              "'<AllocInstrAlert ID=\"580201\" TransTyp=\"0\" Typ=\"13\" GrpID=\"18281000022\" Side=\"1\" Qty=\"10\" GrpQty=\"10\" PxTyp=\"2\" AvgPx=\"29870\" TrdDt=\"2023-09-05\" TxnTm=\"2023-09-05T00:12:55.138-05:00\" Stat=\"6\" AvgPxInd=\"0\" BizDt=\"2023-09-05\" TrdTyp=\"1\" CustCpcty=\"1\"><Hdr SID=\"MGEX\" TID=\"D210\" PosDup=\"N\" PosRsnd=\"N\" Snt=\"2023-09-05T00:12:55.165-05:00\"></Hdr><OrdAlloc ClOrdID=\"CL1234\"></OrdAlloc><AllExc LastQty=\"10\" LastPx=\"29870\" TrdID=\"30051000852\"></AllExc><Instrmt ID=\"BUS\" CFI=\"FCCPXX\" MMY=\"202309\" MatDt=\"2023-09-27\" Exch=\"BTNL\"></Instrmt><Pty ID=\"MGEX\" R=\"21\"></Pty><Pty ID=\"210\" R=\"1\"></Pty><Pty ID=\"210\" R=\"4\"></Pty><Pty ID=\"\" R=\"12\"></Pty><Pty ID=\"khalil\" R=\"24\"><Sub ID=\"2\" Typ=\"26\"></Sub></Pty></AllocInstrAlert>'"
            ],
            "application/vnd.google.colaboratory.intrinsic+json": {
              "type": "string"
            }
          },
          "metadata": {},
          "execution_count": 229
        }
      ]
    },
    {
      "cell_type": "code",
      "source": [
        "predict2(cleaned_inp_msg2)"
      ],
      "metadata": {
        "colab": {
          "base_uri": "https://localhost:8080/",
          "height": 88
        },
        "id": "AAJitNwF3v00",
        "outputId": "ccfaffa7-57a6-44ef-8577-6c11fb76391c"
      },
      "execution_count": null,
      "outputs": [
        {
          "output_type": "execute_result",
          "data": {
            "text/plain": [
              "'<AllocInstrAlert ID=\"580201\" TransTyp=\"0\" Typ=\"13\" GrpID=\"18281000022\" Side=\"1\" Qty=\"20\" GrpQty=\"20\" PxTyp=\"2\" AvgPx=\"3970\" TrdDt=\"2024-10-05\" TxnTm=\"2024-10-05T00:12:55.138-05:00\" Stat=\"6\" AvgPxInd=\"0\" BizDt=\"2024-10-05\" TrdTyp=\"1\" CustCpcty=\"2\"><Hdr SID=\"MGEX\" TID=\"D210\" PosDup=\"N\" PosRsnd=\"N\" Snt=\"2024-10-05T00:12:55.165-05:00\"></Hdr><OrdAlloc ClOrdID=\"PL224\"></OrdAlloc><AllExc LastQty=\"20\" LastPx=\"3970\" TrdID=\"31051000856\"></AllExc><Instrmt ID=\"BUS\" CFI=\"FCAPSX\" MMY=\"202411\" MatDt=\"2024-11-28\" Exch=\"BTNL\"></Instrmt><Pty ID=\"MGEX\" R=\"21\"></Pty><Pty ID=\"210\" R=\"1\"></Pty><Pty ID=\"210\" R=\"4\"></Pty><Pty ID=\"\" R=\"12\"></Pty><Pty ID=\"p-AK\" R=\"24\"><Sub ID=\"2\" Typ=\"26\"></Sub></Pty></AllocInstrAlert>'"
            ],
            "application/vnd.google.colaboratory.intrinsic+json": {
              "type": "string"
            }
          },
          "metadata": {},
          "execution_count": 222
        }
      ]
    },
    {
      "cell_type": "markdown",
      "source": [
        "**Saving the pre-trained models to specified directories**"
      ],
      "metadata": {
        "id": "DsAesFTLDpiM"
      }
    },
    {
      "cell_type": "code",
      "source": [
        "from google.colab import drive"
      ],
      "metadata": {
        "id": "IPC2eE0lLyUa"
      },
      "execution_count": null,
      "outputs": []
    },
    {
      "cell_type": "code",
      "source": [
        "drive.mount(\"/content/gdrive\")"
      ],
      "metadata": {
        "colab": {
          "base_uri": "https://localhost:8080/"
        },
        "id": "UbDy7jfTMQuE",
        "outputId": "0e22b7c3-169b-44dc-c9e1-69f8f98523fb"
      },
      "execution_count": null,
      "outputs": [
        {
          "output_type": "stream",
          "name": "stdout",
          "text": [
            "Mounted at /content/gdrive\n"
          ]
        }
      ]
    },
    {
      "cell_type": "code",
      "source": [
        "model1.save_pretrained(\"/content/gdrive/MyDrive/markasgup1\")"
      ],
      "metadata": {
        "id": "OWn0QMoqMcsN"
      },
      "execution_count": null,
      "outputs": []
    },
    {
      "cell_type": "code",
      "source": [
        "model2.save_pretrained(\"/content/gdrive/MyDrive/markasgiup2\")"
      ],
      "metadata": {
        "id": "_VU4VZlfMlek"
      },
      "execution_count": null,
      "outputs": []
    }
  ]
}